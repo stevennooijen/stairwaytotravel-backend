{
 "cells": [
  {
   "cell_type": "markdown",
   "id": "center-village",
   "metadata": {},
   "source": [
    "# University of Delaware temperature and rain data\n",
    "\n",
    "Datasets downloaded from: https://psl.noaa.gov/data/gridded/data.UDel_AirT_Precip.html\n",
    "\n",
    "* Format: PSL standard NetCDF4\n",
    "* Monthly values for 1900/01 - 2017/12 (118 years)\n",
    "\n",
    "Parsing logic is implemented into a module. This notebook is a demonstration of the original dataset and the netCDF format."
   ]
  },
  {
   "cell_type": "code",
   "execution_count": null,
   "id": "ancient-decision",
   "metadata": {},
   "outputs": [],
   "source": [
    "%load_ext autoreload\n",
    "%autoreload 2"
   ]
  },
  {
   "cell_type": "code",
   "execution_count": null,
   "id": "normal-orlando",
   "metadata": {},
   "outputs": [],
   "source": [
    "temp_data = '../../../data/UDelaware/raw/air.mon.mean.v501.nc'\n",
    "rain_data = '../../../data/UDelaware/raw/precip.mon.total.v501.nc'"
   ]
  },
  {
   "cell_type": "code",
   "execution_count": null,
   "id": "compact-cylinder",
   "metadata": {},
   "outputs": [],
   "source": [
    "temp_clean = '../../../data/UDelaware/clean/delaware_monthly_temp.csv'\n",
    "rain_clean = '../../../data/UDelaware/clean/delaware_monthly_rain.csv'"
   ]
  },
  {
   "cell_type": "markdown",
   "id": "auburn-oakland",
   "metadata": {},
   "source": [
    "## Parse data\n",
    "\n",
    "Use `netcdf4` library: https://github.com/Unidata/netcdf4-python"
   ]
  },
  {
   "cell_type": "code",
   "execution_count": null,
   "id": "precise-sixth",
   "metadata": {},
   "outputs": [],
   "source": [
    "from stairway.sources.udelaware import netcdf_to_pandas"
   ]
  },
  {
   "cell_type": "code",
   "execution_count": null,
   "id": "usual-legend",
   "metadata": {},
   "outputs": [],
   "source": [
    "for (path_in, path_out) in zip([temp_data, rain_data], [temp_clean, rain_clean]):\n",
    "    df = netcdf_to_pandas(path_in)\n",
    "    df.to_csv(path_out, index=False)"
   ]
  },
  {
   "cell_type": "markdown",
   "id": "fossil-undergraduate",
   "metadata": {},
   "source": [
    "Output data will look as follows (with weather column either being 'temp' or 'precip'):"
   ]
  },
  {
   "cell_type": "code",
   "execution_count": null,
   "id": "american-finnish",
   "metadata": {},
   "outputs": [],
   "source": [
    "df.loc[lambda df: (df['lon'] == 0.25) & (df['lat'] == 53.25)]"
   ]
  },
  {
   "cell_type": "markdown",
   "id": "interesting-smoke",
   "metadata": {},
   "source": [
    "## Demo of NetCDF data\n",
    "\n",
    "Below are just some commands that were used in exploring how to parse the netCDF data. \n",
    "\n",
    "There is a [nice example notebook](https://nbviewer.jupyter.org/github/Unidata/netcdf4-python/blob/master/examples/reading_netCDF.ipynb) with temperature data that was taken for a reference.\n"
   ]
  },
  {
   "cell_type": "code",
   "execution_count": null,
   "id": "hidden-selling",
   "metadata": {},
   "outputs": [],
   "source": [
    "import netCDF4\n",
    "import pandas as pd"
   ]
  },
  {
   "cell_type": "code",
   "execution_count": null,
   "id": "black-divorce",
   "metadata": {},
   "outputs": [],
   "source": [
    "f = netCDF4.Dataset(temp_data)\n",
    "print(f)"
   ]
  },
  {
   "cell_type": "code",
   "execution_count": null,
   "id": "bored-richards",
   "metadata": {
    "scrolled": true
   },
   "outputs": [],
   "source": [
    "print(f.variables.keys()) # get all variable names"
   ]
  },
  {
   "cell_type": "markdown",
   "id": "alert-portfolio",
   "metadata": {},
   "source": [
    "Time variable "
   ]
  },
  {
   "cell_type": "code",
   "execution_count": null,
   "id": "tracked-james",
   "metadata": {},
   "outputs": [],
   "source": [
    "time = f.variables['time']\n",
    "print(time)"
   ]
  },
  {
   "cell_type": "code",
   "execution_count": null,
   "id": "described-philip",
   "metadata": {},
   "outputs": [],
   "source": [
    "print(time[1])"
   ]
  },
  {
   "cell_type": "code",
   "execution_count": null,
   "id": "environmental-snake",
   "metadata": {},
   "outputs": [],
   "source": [
    "time.actual_range"
   ]
  },
  {
   "cell_type": "code",
   "execution_count": null,
   "id": "statewide-farming",
   "metadata": {},
   "outputs": [],
   "source": [
    "time.avg_period"
   ]
  },
  {
   "cell_type": "code",
   "execution_count": null,
   "id": "seeing-reproduction",
   "metadata": {},
   "outputs": [],
   "source": [
    "time.units"
   ]
  },
  {
   "cell_type": "markdown",
   "id": "sacred-restaurant",
   "metadata": {},
   "source": [
    "Temperature variable"
   ]
  },
  {
   "cell_type": "code",
   "execution_count": null,
   "id": "functional-woman",
   "metadata": {},
   "outputs": [],
   "source": [
    "temp = f.variables['time']  # temperature variable\n",
    "print(temp) "
   ]
  },
  {
   "cell_type": "code",
   "execution_count": null,
   "id": "interstate-briefs",
   "metadata": {},
   "outputs": [],
   "source": [
    "temp.dimensions"
   ]
  },
  {
   "cell_type": "code",
   "execution_count": null,
   "id": "bearing-samuel",
   "metadata": {},
   "outputs": [],
   "source": [
    "temp.shape"
   ]
  },
  {
   "cell_type": "code",
   "execution_count": null,
   "id": "maritime-diving",
   "metadata": {},
   "outputs": [],
   "source": [
    "temp.units"
   ]
  },
  {
   "cell_type": "markdown",
   "id": "rough-billion",
   "metadata": {},
   "source": [
    "1416 is the time dimension:"
   ]
  },
  {
   "cell_type": "code",
   "execution_count": null,
   "id": "boolean-scheme",
   "metadata": {
    "scrolled": true
   },
   "outputs": [],
   "source": [
    "1416/12"
   ]
  },
  {
   "cell_type": "markdown",
   "id": "reasonable-component",
   "metadata": {},
   "source": [
    "Subsetting last 30 years, it's just like nump slicing an array."
   ]
  },
  {
   "cell_type": "code",
   "execution_count": null,
   "id": "renewable-british",
   "metadata": {},
   "outputs": [],
   "source": [
    "tempslice = f.variables['air'][-30*12:, :, :]\n",
    "tempslice.shape"
   ]
  },
  {
   "cell_type": "markdown",
   "id": "intensive-empty",
   "metadata": {},
   "source": [
    "let's take the man of all january observations"
   ]
  },
  {
   "cell_type": "code",
   "execution_count": null,
   "id": "bulgarian-bunch",
   "metadata": {},
   "outputs": [],
   "source": [
    "# january start at time=0\n",
    "tempslice[range(0, 30*12, 12), :, :].mean(axis=0).shape"
   ]
  },
  {
   "cell_type": "markdown",
   "id": "exposed-cookbook",
   "metadata": {},
   "source": [
    "Can we convert this into a pandas long dataframe with the coordinates as well?"
   ]
  },
  {
   "cell_type": "code",
   "execution_count": null,
   "id": "welsh-artist",
   "metadata": {},
   "outputs": [],
   "source": [
    "test = tempslice[range(0, 30*12, 12), :, :].mean(axis=0)"
   ]
  },
  {
   "cell_type": "code",
   "execution_count": null,
   "id": "tamil-diesel",
   "metadata": {},
   "outputs": [],
   "source": [
    "test.shape"
   ]
  },
  {
   "cell_type": "code",
   "execution_count": null,
   "id": "central-technical",
   "metadata": {},
   "outputs": [],
   "source": [
    "f.variables['lat'].shape"
   ]
  },
  {
   "cell_type": "code",
   "execution_count": null,
   "id": "attached-single",
   "metadata": {},
   "outputs": [],
   "source": [
    "f.variables['lon'].shape"
   ]
  },
  {
   "cell_type": "code",
   "execution_count": null,
   "id": "convinced-hopkins",
   "metadata": {},
   "outputs": [],
   "source": [
    "df = pd.DataFrame(data=test, index=f.variables['lat'], columns=f.variables['lon'])"
   ]
  },
  {
   "cell_type": "code",
   "execution_count": null,
   "id": "environmental-stanley",
   "metadata": {},
   "outputs": [],
   "source": [
    "df.shape"
   ]
  },
  {
   "cell_type": "code",
   "execution_count": null,
   "id": "electrical-valley",
   "metadata": {},
   "outputs": [],
   "source": [
    "df.head()"
   ]
  },
  {
   "cell_type": "code",
   "execution_count": null,
   "id": "hindu-skill",
   "metadata": {},
   "outputs": [],
   "source": [
    "df.unstack().reset_index().rename(columns={0: 'temp'}).assign(month = 1).head()"
   ]
  },
  {
   "cell_type": "markdown",
   "id": "twelve-standing",
   "metadata": {},
   "source": [
    "Now do for all months -> see module implementation.\n",
    "\n",
    "Done."
   ]
  }
 ],
 "metadata": {
  "kernelspec": {
   "display_name": "Python 3",
   "language": "python",
   "name": "python3"
  },
  "language_info": {
   "codemirror_mode": {
    "name": "ipython",
    "version": 3
   },
   "file_extension": ".py",
   "mimetype": "text/x-python",
   "name": "python",
   "nbconvert_exporter": "python",
   "pygments_lexer": "ipython3",
   "version": "3.7.2"
  }
 },
 "nbformat": 4,
 "nbformat_minor": 5
}
