{
 "cells": [
  {
   "cell_type": "markdown",
   "id": "foster-bradford",
   "metadata": {},
   "source": [
    "# Create weather data set for UI\n",
    "\n",
    "Inputs:\n",
    "* destinations\n",
    "* university of delaware\n",
    "* visualcrossing"
   ]
  },
  {
   "cell_type": "code",
   "execution_count": null,
   "id": "disturbed-large",
   "metadata": {},
   "outputs": [],
   "source": [
    "import pandas as pd\n",
    "import matplotlib.pyplot as plt\n",
    "from sklearn.metrics import mean_absolute_error\n",
    "\n",
    "%matplotlib inline"
   ]
  },
  {
   "cell_type": "code",
   "execution_count": null,
   "id": "satisfied-stock",
   "metadata": {},
   "outputs": [],
   "source": [
    "data_dir = '../../../data/'\n",
    "\n",
    "df_places = pd.read_csv(data_dir + 'wikivoyage/enriched/wikivoyage_destinations.csv')\n",
    "df_temp   = pd.read_csv(data_dir + 'delaware/clean/delaware_monthly_temp.csv')\n",
    "df_rain   = pd.read_csv(data_dir + 'delaware/clean/delaware_monthly_rain.csv')\n",
    "df_vc     = pd.read_csv(data_dir + 'visualcrossing/visualcrossing_monthly_weather.csv')\n",
    "\n",
    "path_out  = data_dir + 'delaware/processed/delaware_monthly_weather.csv'"
   ]
  },
  {
   "cell_type": "markdown",
   "id": "hollywood-knock",
   "metadata": {},
   "source": [
    "## Query a location and compare\n",
    "\n",
    "Let's start with comparing temperature and rainfall for one location."
   ]
  },
  {
   "cell_type": "code",
   "execution_count": null,
   "id": "forward-parcel",
   "metadata": {},
   "outputs": [],
   "source": [
    "# choose location\n",
    "place_name = 'Amsterdam'\n",
    "\n",
    "lat, lng = df_places.loc[lambda df: df['name'] == place_name][['lat', 'lng']].values.flatten().tolist()\n",
    "lat, lng"
   ]
  },
  {
   "cell_type": "markdown",
   "id": "tough-plasma",
   "metadata": {},
   "source": [
    "For the uDelaware data we have 3 options:\n",
    "1. Find the closest lat/lng point and get those weather readings; or\n",
    "2. Simply take mean of the closest points that are within a 0.5 lat/lng degree distance; or\n",
    "3. Take a weighted mean based on the distance to the points that are within a 0.5 lat/lng degree distance. As described [here](https://math.stackexchange.com/questions/1968091/weight-of-a-point-based-on-its-distance-from-other-weighted-points).\n",
    "\n",
    "Whereas the first is relatively easiest to set up, the downside is that many places will have the same weather data. I expect that option 2 will be more accurate, and option 3 even more. For example when there is a steep hill climb between 2 of those 0.5 lat/lng degree points. Let's therefore try to compare options 2 and 3 based on MAE."
   ]
  },
  {
   "cell_type": "code",
   "execution_count": null,
   "id": "dominant-jurisdiction",
   "metadata": {},
   "outputs": [],
   "source": [
    "from stairway.utils.utils import vectorized_haversine"
   ]
  },
  {
   "cell_type": "code",
   "execution_count": null,
   "id": "communist-rouge",
   "metadata": {},
   "outputs": [],
   "source": [
    "def weighted_average(x, feature):\n",
    "    # check if distance == 0 for one place, else compute weighted average \n",
    "    if 0 in x['distance'].values:\n",
    "        result = x[feature][x['distance'] == 0].values[0]\n",
    "    else:\n",
    "        result = sum(x[feature] / x['distance']) / sum(1 / x['distance'])\n",
    "    return result\n",
    "    \n",
    "def weighted_average_df(x, feature):\n",
    "    d = {}\n",
    "    d[feature] = weighted_average(x, feature)\n",
    "    return pd.Series(d, index=[feature])\n",
    "\n",
    "def lookup_monthly_weather_data(df_place, df_weather, method):\n",
    "    \"\"\"Lookup monthly delaware temperature or rain data for a single place record.\"\"\"\n",
    "    if len(df_place) > 1:\n",
    "        raise Exception('df_place should just be a single record.')\n",
    "\n",
    "    lat, lng = df_place[['lat', 'lng']].values.flatten().tolist()\n",
    "    stairway_id = df_place['id'].values[0]\n",
    "    feature = 'temp' if 'temp' in df_weather.columns else 'precip'\n",
    "    \n",
    "    # select points within 0.5 degree distance\n",
    "    df_weather = df_weather.loc[lambda df: (abs(df['lat'] - lat) <= 0.5) & (abs(df['lon'] - lng) <= 0.5)]\n",
    "    \n",
    "    # aggregate on month\n",
    "    if method == 'mean':\n",
    "        df_weather = df_weather.groupby('month').agg({feature: 'mean'})\n",
    "    elif method == 'weighted_mean':\n",
    "        df_weather = (\n",
    "            df_weather\n",
    "            .assign(lat_place=lat, lng_place=lng)\n",
    "            .assign(distance = lambda x: vectorized_haversine(x['lat'], x['lon'], x['lat_place'], x['lng_place']))\n",
    "            .groupby('month')\n",
    "            .apply(weighted_average_df, feature)\n",
    "        )\n",
    "    else:\n",
    "        raise Exception('method should be \"mean\" or \"weighted_mean\".')\n",
    "\n",
    "    return df_weather.assign(stairway_id = stairway_id, lat=lat, lng=lng).reset_index()\n"
   ]
  },
  {
   "cell_type": "markdown",
   "id": "brief-resident",
   "metadata": {},
   "source": [
    "### Option 2: mean"
   ]
  },
  {
   "cell_type": "code",
   "execution_count": null,
   "id": "arbitrary-organ",
   "metadata": {},
   "outputs": [],
   "source": [
    "lookup_monthly_weather_data(df_places.loc[lambda df: df['name'] == place_name], df_temp, method='mean')"
   ]
  },
  {
   "cell_type": "markdown",
   "id": "gorgeous-dryer",
   "metadata": {},
   "source": [
    "### Option 3: weighted mean"
   ]
  },
  {
   "cell_type": "code",
   "execution_count": null,
   "id": "right-occasions",
   "metadata": {},
   "outputs": [],
   "source": [
    "lookup_monthly_weather_data(df_places.loc[lambda df: df['name'] == place_name], df_temp, method='weighted_mean')"
   ]
  },
  {
   "cell_type": "markdown",
   "id": "chubby-litigation",
   "metadata": {},
   "source": [
    "## Compare with Visual Crossing\n",
    "\n",
    "Compare destinations and determine an error margin"
   ]
  },
  {
   "cell_type": "markdown",
   "id": "resistant-enterprise",
   "metadata": {},
   "source": [
    "First create the entire dataframe with weather data for all our destinations, for calculation options."
   ]
  },
  {
   "cell_type": "code",
   "execution_count": null,
   "id": "significant-ireland",
   "metadata": {},
   "outputs": [],
   "source": [
    "# calculate monthly weather data for df_places\n",
    "df_weather_mean = (\n",
    "    df_places\n",
    "#     .head(10)\n",
    "    .groupby('id')\n",
    "    .apply(lookup_monthly_weather_data, df_weather=df_temp, method='mean')\n",
    "    .reset_index(drop=True)\n",
    ").merge(\n",
    "    df_places\n",
    "#     .head(10)\n",
    "    .groupby('id')\n",
    "    .apply(lookup_monthly_weather_data, df_weather=df_rain, method='mean')\n",
    "    .reset_index(drop=True)\n",
    "    , on=['month', 'stairway_id', 'lat', 'lng']\n",
    ")"
   ]
  },
  {
   "cell_type": "code",
   "execution_count": null,
   "id": "responsible-locator",
   "metadata": {},
   "outputs": [],
   "source": [
    "# calculate monthly weather data for df_places\n",
    "df_weather_weightedmean = (\n",
    "    df_places\n",
    "#     .head(10)\n",
    "    .groupby('id')\n",
    "    .apply(lookup_monthly_weather_data, df_weather=df_temp, method='weighted_mean')\n",
    "    .reset_index(drop=True)\n",
    ").merge(\n",
    "    df_places\n",
    "#     .head(10)\n",
    "    .groupby('id')\n",
    "    .apply(lookup_monthly_weather_data, df_weather=df_rain, method='weighted_mean')\n",
    "    .reset_index(drop=True)\n",
    "    , on=['month', 'stairway_id', 'lat', 'lng']\n",
    ")"
   ]
  },
  {
   "cell_type": "markdown",
   "id": "periodic-neighborhood",
   "metadata": {},
   "source": [
    "Prep visual crossing data"
   ]
  },
  {
   "cell_type": "code",
   "execution_count": null,
   "id": "tested-cruise",
   "metadata": {},
   "outputs": [],
   "source": [
    "months_map = {'Jan': 0, \"Feb\": 1, \"Mar\": 2, \"Apr\": 3, \"May\": 4, 'Jun': 5, 'Jul' : 6,\n",
    "              'Aug': 7, 'Sep': 8, 'Oct': 9, 'Nov': 10, 'Dec': 11}\n",
    "\n",
    "# only compare where we have all 12 months\n",
    "complete_ids = (\n",
    "    df_vc\n",
    "    .groupby('stairway_id', as_index=False)\n",
    "    .agg(count = pd.NamedAgg(column='stairway_id', aggfunc='count'))\n",
    "    .loc[lambda df: df['count'] == 12]\n",
    "    ['stairway_id'].values\n",
    ")\n",
    "\n",
    "# subset and map the string months to an integer column\n",
    "df_weather_vc = (\n",
    "    df_vc\n",
    "    .loc[lambda df: df['stairway_id'].isin(complete_ids)]\n",
    "    [['stairway_id', 'period', 'temp', 'precip']]\n",
    "    .assign(month = lambda df: df['period'].map(months_map))\n",
    "    .assign(precip = lambda df: df['precip'] / 10)  # mm to cm\n",
    "    .reset_index(drop=True)\n",
    ")"
   ]
  },
  {
   "cell_type": "markdown",
   "id": "romantic-choir",
   "metadata": {},
   "source": [
    "Join and calculate differences"
   ]
  },
  {
   "cell_type": "code",
   "execution_count": null,
   "id": "personalized-passport",
   "metadata": {},
   "outputs": [],
   "source": [
    "df_diff_mean = (\n",
    "    df_weather_mean\n",
    "    .merge(df_weather_vc, on=['stairway_id', 'month'], suffixes=[\"_dw\", \"_vc\"])\n",
    "    .assign(diff_temp = lambda df: df['temp_dw'] - df['temp_vc'],\n",
    "            diff_rain = lambda df: df['precip_dw'] - df['precip_vc'],\n",
    "           )\n",
    ")\n",
    "\n",
    "df_diff_weightedmean = (\n",
    "    df_weather_weightedmean\n",
    "    .merge(df_weather_vc, on=['stairway_id', 'month'], suffixes=[\"_dw\", \"_vc\"])\n",
    "    .assign(diff_temp = lambda df: df['temp_dw'] - df['temp_vc'],\n",
    "            diff_rain = lambda df: df['precip_dw'] - df['precip_vc'],\n",
    "           )\n",
    ")\n",
    "\n",
    "print(df_diff_mean.shape, df_diff_weightedmean.shape)\n",
    "# df_diff_weightedmean.head()"
   ]
  },
  {
   "cell_type": "code",
   "execution_count": null,
   "id": "driven-morris",
   "metadata": {},
   "outputs": [],
   "source": [
    "print('Option 2: mean')\n",
    "print('MAE temp:', round(mean_absolute_error(df_diff_mean['temp_dw'], df_diff_mean['temp_vc']), 2))\n",
    "print('MAE rain:', round(mean_absolute_error(df_diff_mean['precip_dw'], df_diff_mean['precip_vc']), 2))\n",
    "\n",
    "print('Option 3: weighted mean')\n",
    "print('MAE temp:', round(mean_absolute_error(df_diff_weightedmean['temp_dw'], df_diff_weightedmean['temp_vc']), 2))\n",
    "print('MAE rain:', round(mean_absolute_error(df_diff_weightedmean['precip_dw'], df_diff_weightedmean['precip_vc']), 2))"
   ]
  },
  {
   "cell_type": "markdown",
   "id": "harmful-nutrition",
   "metadata": {},
   "source": [
    "Overall MAE on each monthly record turns out to be not so quite differrent for both metrics:\n",
    "\n",
    "```\n",
    "Option 2: mean\n",
    "MAE temp: 1.49\n",
    "MAE rain: 5.4\n",
    "\n",
    "Option 3: weighted mean\n",
    "MAE temp: 1.44\n",
    "MAE rain: 5.38\n",
    "```"
   ]
  },
  {
   "cell_type": "markdown",
   "id": "registered-insured",
   "metadata": {},
   "source": [
    "We can also calculate a MAE per place. And then look into how those are distributed.\n",
    "\n",
    "The distribution are very very much alike, so not very interesting. "
   ]
  },
  {
   "cell_type": "code",
   "execution_count": null,
   "id": "twelve-syntax",
   "metadata": {},
   "outputs": [],
   "source": [
    "def mae_weather(x):\n",
    "    d = {}\n",
    "    d['mae_temp'] = mean_absolute_error(x['temp_dw'], x['temp_vc'])\n",
    "    d['mae_precip'] = mean_absolute_error(x['precip_dw'], x['precip_vc'])\n",
    "    return pd.Series(d, index=['mae_temp', 'mae_precip'])\n",
    "\n",
    "df_diff_mean_per_place = (\n",
    "    df_diff_mean\n",
    "    .groupby('stairway_id')\n",
    "    .apply(mae_weather)\n",
    ")\n",
    "\n",
    "df_diff_weightedmean_per_place = (\n",
    "    df_diff_weightedmean\n",
    "    .groupby('stairway_id')\n",
    "    .apply(mae_weather)\n",
    ")"
   ]
  },
  {
   "cell_type": "markdown",
   "id": "included-mineral",
   "metadata": {},
   "source": [
    "Examine some of the top failures:"
   ]
  },
  {
   "cell_type": "code",
   "execution_count": null,
   "id": "ordinary-hungarian",
   "metadata": {},
   "outputs": [],
   "source": [
    "df_diff_weightedmean_per_place.sort_values('mae_temp', ascending=False).head()"
   ]
  },
  {
   "cell_type": "markdown",
   "id": "instrumental-option",
   "metadata": {},
   "source": [
    "Visualize a specific place"
   ]
  },
  {
   "cell_type": "code",
   "execution_count": null,
   "id": "frozen-training",
   "metadata": {},
   "outputs": [],
   "source": [
    "ID = 287629\n",
    "df_diff = df_diff_weightedmean\n",
    "\n",
    "fig, axes = plt.subplots(1, 2, figsize=(16,6))\n",
    "\n",
    "df_plot = df_diff.loc[lambda df: df['stairway_id'] == ID].set_index('month')\n",
    "place_description = \", \".join(df_places.loc[lambda df: df['id'] == ID][['name', 'country']].values.flatten().tolist())\n",
    "\n",
    "for weather_type, ax in zip(['temp', 'precip'], [row for row in axes]):\n",
    "    \n",
    "    df_plot[[f\"{weather_type}_dw\", f\"{weather_type}_vc\"]].plot(ax = ax)\n",
    "    MAE = mean_absolute_error(df_plot[f\"{weather_type}_dw\"], df_plot[f\"{weather_type}_vc\"])\n",
    "    ax.set_title(f\"{weather_type}, MAE: {round(MAE, 2)}\", size=13)\n",
    "\n",
    "fig.suptitle(f\"{place_description}\", size=15);\n",
    "# fig.tight_layout()"
   ]
  },
  {
   "cell_type": "markdown",
   "id": "cathedral-figure",
   "metadata": {},
   "source": [
    "## Write to file\n",
    "\n",
    "Ultimately, we have to choose one dataset ('weighted' or 'weighted_mean') and write it to file."
   ]
  },
  {
   "cell_type": "code",
   "execution_count": null,
   "id": "educated-string",
   "metadata": {},
   "outputs": [],
   "source": [
    "df_weather_weightedmean.drop(['lat', 'lng'], axis=1).to_csv(path_out, index=False)"
   ]
  },
  {
   "cell_type": "markdown",
   "id": "postal-burst",
   "metadata": {},
   "source": [
    "Done."
   ]
  }
 ],
 "metadata": {
  "kernelspec": {
   "display_name": "Python 3",
   "language": "python",
   "name": "python3"
  },
  "language_info": {
   "codemirror_mode": {
    "name": "ipython",
    "version": 3
   },
   "file_extension": ".py",
   "mimetype": "text/x-python",
   "name": "python",
   "nbconvert_exporter": "python",
   "pygments_lexer": "ipython3",
   "version": "3.7.2"
  }
 },
 "nbformat": 4,
 "nbformat_minor": 5
}
