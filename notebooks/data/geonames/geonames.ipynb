{
 "cells": [
  {
   "cell_type": "markdown",
   "metadata": {},
   "source": [
    "# Geonames\n",
    "\n",
    "Datadumps can be found here: https://download.geonames.org/export/dump/\n",
    "\n",
    "In this notebook we will explore:\n",
    "* `allCountries.zip`: for feature explanations check 'geoname' table in README\n",
    "* `hierarchy.zip`: parentId, childId, type. The type 'ADM' stands for the admin hierarchy modeled by the admin1-4 codes. The other entries are entered with the user "
   ]
  },
  {
   "cell_type": "code",
   "execution_count": null,
   "metadata": {},
   "outputs": [],
   "source": [
    "data_raw = '../../../data/geonames/raw/'"
   ]
  },
  {
   "cell_type": "code",
   "execution_count": null,
   "metadata": {},
   "outputs": [],
   "source": [
    "import pandas as pd"
   ]
  },
  {
   "cell_type": "markdown",
   "metadata": {},
   "source": [
    "## allCountries.zip"
   ]
  },
  {
   "cell_type": "code",
   "execution_count": null,
   "metadata": {},
   "outputs": [],
   "source": [
    "data = pd.read_csv(data_raw + 'allCountries.txt', sep=\"\\t\", header = None)"
   ]
  },
  {
   "cell_type": "code",
   "execution_count": null,
   "metadata": {},
   "outputs": [],
   "source": [
    "colnames = ['geoname_id', 'name', 'asciiname', 'alternativenames', 'latitude', 'longitude', 'feature_class', \n",
    "            'feature_code', 'country_code', 'cc2', 'admin1_code', 'admin2_code', 'admin3_code', 'admin4_code',\n",
    "            'population', 'elevation', 'dem', 'timezone', 'mod_date']\n",
    "\n",
    "data.columns = colnames"
   ]
  },
  {
   "cell_type": "code",
   "execution_count": null,
   "metadata": {},
   "outputs": [],
   "source": [
    "data.head()"
   ]
  },
  {
   "cell_type": "code",
   "execution_count": null,
   "metadata": {
    "scrolled": true
   },
   "outputs": [],
   "source": [
    "data.shape"
   ]
  },
  {
   "cell_type": "markdown",
   "metadata": {},
   "source": [
    "From README:\n",
    "\n",
    "feature classes:\n",
    "- A: country, state, region,...\n",
    "- H: stream, lake, ...\n",
    "- L: parks,area, ...\n",
    "- P: city, village,...\n",
    "- R: road, railroad \n",
    "- S: spot, building, farm\n",
    "- T: mountain,hill,rock,... \n",
    "- U: undersea\n",
    "- V: forest,heath,..."
   ]
  },
  {
   "cell_type": "code",
   "execution_count": null,
   "metadata": {},
   "outputs": [],
   "source": [
    "data['feature_class'].value_counts()"
   ]
  },
  {
   "cell_type": "code",
   "execution_count": null,
   "metadata": {},
   "outputs": [],
   "source": [
    "(\n",
    "    data\n",
    "    .loc[data['country_code'] == 'NL']\n",
    "    .head()\n",
    ")"
   ]
  },
  {
   "cell_type": "markdown",
   "metadata": {},
   "source": [
    "For `feature_codes` see: http://www.geonames.org/export/codes.html\n",
    "\n",
    "Findings so far: GeoNames is very detailed, and structured. \n",
    "* the geoinformation is very well organized\n",
    "* insane detail: distincts different types of canals etc.\n",
    "* has places that google maps doesn't even have. > might be hard to make the distinction in what is worthy to see and what's not."
   ]
  },
  {
   "cell_type": "code",
   "execution_count": null,
   "metadata": {
    "scrolled": true
   },
   "outputs": [],
   "source": [
    "data['feature_code'].value_counts()"
   ]
  },
  {
   "cell_type": "markdown",
   "metadata": {},
   "source": [
    "Looking at places within Amsterdam:"
   ]
  },
  {
   "cell_type": "code",
   "execution_count": null,
   "metadata": {},
   "outputs": [],
   "source": [
    "amsterdam = (\n",
    "    data\n",
    "    .loc[(data['latitude'] > 52.37) & (data['latitude'] < 52.38)]\n",
    "    .loc[(data['longitude'] > 4.89) & (data['longitude'] < 4.90)]\n",
    ")\n",
    "\n",
    "amsterdam.shape"
   ]
  },
  {
   "cell_type": "markdown",
   "metadata": {},
   "source": [
    "This list contains mostly spots. Those could be filtered out:"
   ]
  },
  {
   "cell_type": "code",
   "execution_count": null,
   "metadata": {},
   "outputs": [],
   "source": [
    "(\n",
    "    amsterdam\n",
    "    .loc[amsterdam['feature_class'] != \"S\"]\n",
    ")"
   ]
  },
  {
   "cell_type": "markdown",
   "metadata": {},
   "source": [
    "Roads could also be filtered out; a street (feature_code is `ST`) like 'Damrak' is not what you would consider a place..\n",
    "\n",
    "Also 'De Wallen' has feature class `PPLX` meaning 'section of populated place'. Probably also not what you want to have.\n",
    "\n",
    "Now let's look at a little bit bigger area:"
   ]
  },
  {
   "cell_type": "code",
   "execution_count": null,
   "metadata": {},
   "outputs": [],
   "source": [
    "amsterdam = (\n",
    "    data\n",
    "    .loc[(data['latitude'] > 52.3) & (data['latitude'] < 52.4)]\n",
    "    .loc[(data['longitude'] > 4.84) & (data['longitude'] < 4.95)]\n",
    "    .loc[~data['feature_class'].isin(['S', 'R'])]\n",
    ")\n",
    "\n",
    "amsterdam"
   ]
  },
  {
   "cell_type": "markdown",
   "metadata": {},
   "source": [
    "Lot's and lot's to filter out. Probably the only thing you want to keep eventually is the place. But this might be different for other regions. \n",
    "\n",
    "> What we need is some indication of what is important to list as a **point of interest** and what is not. \n",
    "\n",
    "It might be interesting to attempt to match the locations in Wikivoyage with this data. Because if it's in Wikivoyage, it's worth travelling too (most of the time). Combining it with Geonames gives you very accurate location data; instead of having to parse this information yourself from the Wikivoyage text.\n",
    "\n",
    "Let's see what happens if we look up 'Amsterdam', can we match it easily?"
   ]
  },
  {
   "cell_type": "code",
   "execution_count": null,
   "metadata": {
    "scrolled": true
   },
   "outputs": [],
   "source": [
    "(\n",
    "    data\n",
    "#     .loc[data['name'].str.contains('Amsterdam')]\n",
    "    .loc[data['name'] == 'Amsterdam']\n",
    ")"
   ]
  },
  {
   "cell_type": "markdown",
   "metadata": {},
   "source": [
    "Ouch that's tough. Assume you don't know the country code, or geolocation; how do you know which to pick??\n",
    "\n",
    "> That means we probably still need some additional data to make the join.. i.e. we do need to parse Wikivoyage.."
   ]
  },
  {
   "cell_type": "code",
   "execution_count": null,
   "metadata": {},
   "outputs": [],
   "source": []
  },
  {
   "cell_type": "markdown",
   "metadata": {},
   "source": [
    "## hierarchy.zip"
   ]
  },
  {
   "cell_type": "code",
   "execution_count": null,
   "metadata": {},
   "outputs": [],
   "source": [
    "hierarchy = pd.read_csv(data_raw + 'hierarchy.txt', sep=\"\\t\", header = None, \n",
    "                        names = ['parent_id', 'child_id', 'adm_type'])"
   ]
  },
  {
   "cell_type": "code",
   "execution_count": null,
   "metadata": {},
   "outputs": [],
   "source": [
    "hierarchy.head()"
   ]
  },
  {
   "cell_type": "markdown",
   "metadata": {},
   "source": [
    "Let's look up Amsterdam's parents. Amsterdam has geoname_id `2759794`"
   ]
  },
  {
   "cell_type": "code",
   "execution_count": null,
   "metadata": {
    "scrolled": true
   },
   "outputs": [],
   "source": [
    "(\n",
    "    hierarchy\n",
    "    .loc[hierarchy['child_id'] == 2759794]\n",
    ")"
   ]
  },
  {
   "cell_type": "markdown",
   "metadata": {},
   "source": [
    "Interesting; Amsterdam has no parents? i.e. it's not in the child column...\n",
    "\n",
    "We can find children of Amsterdam though:"
   ]
  },
  {
   "cell_type": "code",
   "execution_count": null,
   "metadata": {
    "scrolled": true
   },
   "outputs": [],
   "source": [
    "(\n",
    "    hierarchy\n",
    "    .loc[hierarchy['parent_id'] == 2759794]\n",
    "    .head()\n",
    "    .merge(data, left_on='child_id', right_on='geoname_id')\n",
    ")"
   ]
  },
  {
   "cell_type": "markdown",
   "metadata": {},
   "source": [
    "Let's see if we can find Amsterdam if we look top down from the province level ('Provincie Noord-Holland' has `geoname_id == 2749879`)?"
   ]
  },
  {
   "cell_type": "code",
   "execution_count": null,
   "metadata": {},
   "outputs": [],
   "source": [
    "(\n",
    "    hierarchy\n",
    "    .loc[hierarchy['parent_id'] == 2749879]\n",
    "    .merge(data, left_on='child_id', right_on='geoname_id')\n",
    "    .loc[lambda x: x['name'].str.contains('Amsterdam')]\n",
    ")"
   ]
  },
  {
   "cell_type": "markdown",
   "metadata": {},
   "source": [
    "Mmm we can find the municipality. Can we dig one deeper to city level?"
   ]
  },
  {
   "cell_type": "code",
   "execution_count": null,
   "metadata": {},
   "outputs": [],
   "source": [
    "(\n",
    "    hierarchy\n",
    "    .loc[hierarchy['parent_id'] == 2759793]\n",
    "    .merge(data, left_on='child_id', right_on='geoname_id')\n",
    "#     .loc[lambda x: x['name'].str.contains('Amsterdam')]\n",
    ")"
   ]
  },
  {
   "cell_type": "markdown",
   "metadata": {},
   "source": [
    "Odd... none of these corresponds with Amsterdam found earlier with `geoname_id == 2759794`. Let's compare both records:"
   ]
  },
  {
   "cell_type": "code",
   "execution_count": null,
   "metadata": {},
   "outputs": [],
   "source": [
    "(\n",
    "    data\n",
    "    .loc[data['geoname_id'].isin([2759793, 2759794])]\n",
    ")"
   ]
  },
  {
   "cell_type": "markdown",
   "metadata": {},
   "source": [
    "Difficult: one is a county and the other a city. They might also refer to each other through the alternative names?\n",
    "\n",
    "Wikivoyage makes this a bit easier, as there is only one record 'Amsterdam' instead of two."
   ]
  },
  {
   "cell_type": "markdown",
   "metadata": {},
   "source": [
    "## Alternative names"
   ]
  },
  {
   "cell_type": "markdown",
   "metadata": {},
   "source": [
    "Might be needed to map the two Amsterdams on each other.\n",
    "\n",
    "However, at this point the whole dataset might be a bit to cumbersome. Let's stop analysing further."
   ]
  },
  {
   "cell_type": "markdown",
   "metadata": {},
   "source": [
    "Done."
   ]
  }
 ],
 "metadata": {
  "kernelspec": {
   "display_name": "Python 3",
   "language": "python",
   "name": "python3"
  },
  "language_info": {
   "codemirror_mode": {
    "name": "ipython",
    "version": 3
   },
   "file_extension": ".py",
   "mimetype": "text/x-python",
   "name": "python",
   "nbconvert_exporter": "python",
   "pygments_lexer": "ipython3",
   "version": "3.7.2"
  }
 },
 "nbformat": 4,
 "nbformat_minor": 2
}
