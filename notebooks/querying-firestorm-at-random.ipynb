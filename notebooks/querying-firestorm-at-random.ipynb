{
 "cells": [
  {
   "cell_type": "markdown",
   "metadata": {},
   "source": [
    "# Querying firestorm at random\n",
    "\n",
    "### Initialize"
   ]
  },
  {
   "cell_type": "code",
   "execution_count": null,
   "metadata": {},
   "outputs": [],
   "source": [
    "from google.cloud import firestore\n",
    "\n",
    "import pandas as pd\n",
    "import itertools\n",
    "import numpy as np\n",
    "from scipy.stats import norm\n",
    "import matplotlib.pyplot as plt\n",
    "\n",
    "%matplotlib inline"
   ]
  },
  {
   "cell_type": "code",
   "execution_count": null,
   "metadata": {},
   "outputs": [],
   "source": [
    "db = firestore.Client.from_service_account_json(\"../credentials/stairway-firestore-key.json\")"
   ]
  },
  {
   "cell_type": "markdown",
   "metadata": {},
   "source": [
    "## At random\n",
    "\n",
    "Firestore doesn't have a random query functionality, so you will have to implement a randomizer yourself. There's two ways this could be done:\n",
    "1. If you know the distribution of your document ids, draw randomly from there and query documents based on their id directly.\n",
    "2. Choose some feature of your documents, draw a random number from it and use it to subset the data. Then sort the result and retrieve the top k documents (or sort descending if nothing found).\n"
   ]
  },
  {
   "cell_type": "markdown",
   "metadata": {},
   "source": [
    "### Implementation of random 1\n",
    "\n",
    "Showstopper: can Firestorm query multiple documents at once based on document id? If not, a for loop is required to fetch all destinations (=> multiple queries instead of one).\n",
    "\n",
    "TODO: investigate!"
   ]
  },
  {
   "cell_type": "markdown",
   "metadata": {},
   "source": [
    "### Implementation of random 2\n",
    "\n",
    "For this, we need to select a feature first and look at its distribution to start drawing random numbers from."
   ]
  },
  {
   "cell_type": "code",
   "execution_count": null,
   "metadata": {},
   "outputs": [],
   "source": [
    "dest = pd.read_csv(\"../data/destinations.csv\")\n",
    "dest = dest.loc[dest['succes'] == 1]  # only use OK destination data\n",
    "dest.index = dest['id']  # set firestorm document id equal to stairway destination id\n",
    "dest.shape"
   ]
  },
  {
   "cell_type": "markdown",
   "metadata": {},
   "source": [
    "For example, `osp_importance`:"
   ]
  },
  {
   "cell_type": "code",
   "execution_count": null,
   "metadata": {},
   "outputs": [],
   "source": [
    "feature = 'osp_importance'\n",
    "\n",
    "# Fit a normal distribution to the data:\n",
    "mu, std = norm.fit(dest[feature])\n",
    "\n",
    "# Plot the histogram.\n",
    "plt.hist(dest[feature], density=True, alpha=0.6)\n",
    "\n",
    "# Plot the PDF.\n",
    "xmin, xmax = plt.xlim()\n",
    "x = np.linspace(xmin, xmax, 100)\n",
    "p = norm.pdf(x, mu, std)\n",
    "plt.plot(x, p, 'k', linewidth=2)\n",
    "title = \"Fit results: mu = %.2f,  std = %.2f\" % (mu, std)\n",
    "plt.title(title)\n",
    "\n",
    "plt.show()"
   ]
  },
  {
   "cell_type": "markdown",
   "metadata": {},
   "source": [
    "Now we can randomly pick some kinde of number from this distribution by:"
   ]
  },
  {
   "cell_type": "code",
   "execution_count": null,
   "metadata": {},
   "outputs": [],
   "source": [
    "np.random.normal(mu, std)"
   ]
  },
  {
   "cell_type": "markdown",
   "metadata": {},
   "source": [
    "Which means the final querying of firestorm would look as follows. \n",
    "\n",
    "**Note:** to combine the equality operator (`==`) with a range or array-contains clause (`<, <=, >, >=, or array_contains`), make sure to create a composite index (one for each `continent` + `osp_importance`). Also, you cannot do range filters on two variables. See query docs [here](https://firebase.google.com/docs/firestore/query-data/queries)."
   ]
  },
  {
   "cell_type": "code",
   "execution_count": null,
   "metadata": {},
   "outputs": [],
   "source": [
    "query = (\n",
    "    db\n",
    "    .collection(\"destinations\")\n",
    "    .where('EU', '==', 1)\n",
    "    .where('osp_importance', '<=', np.random.normal(mu, std))\n",
    "    .order_by('osp_importance', direction=firestore.Query.DESCENDING)\n",
    "    .limit(3)\n",
    "    .get()\n",
    ")\n",
    "\n",
    "for doc in itertools.islice(query, 2):\n",
    "    print(u'{} => {}'.format(doc.id, doc.to_dict()['name']))"
   ]
  },
  {
   "cell_type": "markdown",
   "metadata": {},
   "source": [
    "Next steps: \n",
    "- Probably the distribution of `osp_importance` is highly variable per continent. Maybe fit something like this for each continent? \n",
    "- The `<=` filter in combination with descending probably causes the top `osp_importance` destinations to be never selected even though you might want these to be selected the most. Think about whether this is desired."
   ]
  },
  {
   "cell_type": "markdown",
   "metadata": {},
   "source": [
    "Done."
   ]
  }
 ],
 "metadata": {
  "kernelspec": {
   "display_name": "Python 3",
   "language": "python",
   "name": "python3"
  },
  "language_info": {
   "codemirror_mode": {
    "name": "ipython",
    "version": 3
   },
   "file_extension": ".py",
   "mimetype": "text/x-python",
   "name": "python",
   "nbconvert_exporter": "python",
   "pygments_lexer": "ipython3",
   "version": "3.7.2"
  }
 },
 "nbformat": 4,
 "nbformat_minor": 2
}
