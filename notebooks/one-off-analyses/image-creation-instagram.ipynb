{
 "cells": [
  {
   "cell_type": "markdown",
   "metadata": {},
   "source": [
    "## Create nice images for instagram, programmatically\n"
   ]
  },
  {
   "cell_type": "markdown",
   "metadata": {},
   "source": [
    "Necessities:\n",
    "\n",
    "* Image, that still needs to be sized, cropped and positioned into an 1080 by 1080 square\n",
    "* Transparrent dark bottom layer, place on top of the image so that the text stands out more.\n",
    "* Logo, needs to be placed on top in the bottom left corner\n",
    "* 2x text, for the place and for the country.\n",
    "\n",
    "To make our life more easier, we combined the transparant bottom and logo into a single layer.\n",
    "\n",
    "Implementation moved to module `stairway.instagram.image`."
   ]
  },
  {
   "cell_type": "code",
   "execution_count": null,
   "metadata": {},
   "outputs": [],
   "source": [
    "%load_ext autoreload\n",
    "%autoreload 2"
   ]
  },
  {
   "cell_type": "code",
   "execution_count": null,
   "metadata": {},
   "outputs": [],
   "source": [
    "import pandas as pd\n",
    "import requests\n",
    "from io import BytesIO\n",
    "\n",
    "from stairway.instagram.image import create_instagram_image, resize_image, crop_image_center"
   ]
  },
  {
   "cell_type": "markdown",
   "metadata": {},
   "source": [
    "### Init\n",
    "\n",
    "This notebook demos how the function works. First pick a pic to format."
   ]
  },
  {
   "cell_type": "code",
   "execution_count": null,
   "metadata": {},
   "outputs": [],
   "source": [
    "input_folder = '../../data/instagram-post/'\n",
    "\n",
    "# place specifics\n",
    "place_id = 644651\n",
    "place_id = 627255  # a smaller than 1080x1080 example\n",
    "place_id = 220380\n",
    "place_id = 482586\n",
    "place_image  = input_folder + f'{place_id}.jpg' \n",
    "# place_image = input_folder + 'portrait_example.jpg'\n",
    "\n",
    "# or retriev via url\n",
    "# TODO: make these dynamic (depending on the place_id)\n",
    "place_url_b = 'https://farm3.staticflickr.com/2601/3970594887_fbdbd8dbaa_b.jpg'  # large size\n",
    "# place_url_o = 'https://live.staticflickr.com/2601/3970594887_6cd6d05565_o.jpg'  # original size (takes 6x longer)\n",
    "\n",
    "# place data\n",
    "data_dir = '../../data/wikivoyage/enriched/'\n",
    "file_name = 'wikivoyage_destinations.csv'\n",
    "place_df = pd.read_csv(data_dir + file_name).set_index(\"id\", drop=False)"
   ]
  },
  {
   "cell_type": "markdown",
   "metadata": {},
   "source": [
    "Get text for on image from the database"
   ]
  },
  {
   "cell_type": "code",
   "execution_count": null,
   "metadata": {},
   "outputs": [],
   "source": [
    "place_text   = place_df.loc[place_id][\"name\"]\n",
    "country_text = place_df.loc[place_id][\"country\"]"
   ]
  },
  {
   "cell_type": "markdown",
   "metadata": {},
   "source": [
    "## Image processing\n",
    "\n",
    "### Single function call"
   ]
  },
  {
   "cell_type": "code",
   "execution_count": null,
   "metadata": {},
   "outputs": [],
   "source": [
    "# create_instagram_image(place_image, place_text, country_text, input_folder + 'test.jpeg')\n",
    "create_instagram_image(place_url_b, place_text, country_text, input_folder + 'test.jpeg')"
   ]
  },
  {
   "cell_type": "markdown",
   "metadata": {},
   "source": [
    "#### Parralel processing\n",
    "\n",
    "Implementation moved to script `instagram_image_processing.py`"
   ]
  },
  {
   "cell_type": "markdown",
   "metadata": {},
   "source": [
    "### Image Processing - Step by Step\n",
    "\n",
    "Follow this [blog](https://auth0.com/blog/image-processing-in-python-with-pillow) which has very nice example code and explanation on how to do most of the beneath steps."
   ]
  },
  {
   "cell_type": "markdown",
   "metadata": {},
   "source": [
    "Initiate the image from file:"
   ]
  },
  {
   "cell_type": "code",
   "execution_count": null,
   "metadata": {},
   "outputs": [],
   "source": [
    "image = Image.open(place_image)\n",
    " \n",
    "image.size"
   ]
  },
  {
   "cell_type": "markdown",
   "metadata": {},
   "source": [
    "Or initiate from url:"
   ]
  },
  {
   "cell_type": "code",
   "execution_count": null,
   "metadata": {},
   "outputs": [],
   "source": [
    "# response = requests.get(place_url_o)\n",
    "# image = Image.open(BytesIO(response.content))\n",
    "\n",
    "# image.size"
   ]
  },
  {
   "cell_type": "markdown",
   "metadata": {},
   "source": [
    "First resize. `.thumbnail()` can only make images smaller, so resize manually by calculating the aspect ratio first. This way we can also process images that have dimensions smaller than 1080x1080."
   ]
  },
  {
   "cell_type": "code",
   "execution_count": null,
   "metadata": {},
   "outputs": [],
   "source": [
    "image = resize_image(image)\n",
    "\n",
    "image.size"
   ]
  },
  {
   "cell_type": "markdown",
   "metadata": {},
   "source": [
    "Crop center"
   ]
  },
  {
   "cell_type": "code",
   "execution_count": null,
   "metadata": {},
   "outputs": [],
   "source": [
    "image = crop_image_center(image)\n",
    "\n",
    "image.size"
   ]
  },
  {
   "cell_type": "markdown",
   "metadata": {},
   "source": [
    "Paste logo layer on top"
   ]
  },
  {
   "cell_type": "code",
   "execution_count": null,
   "metadata": {},
   "outputs": [],
   "source": [
    "logo = Image.open(logo_layer)\n",
    "\n",
    "# don't need to provide position as both are already 1080x1080\n",
    "image.paste(logo, mask=logo)"
   ]
  },
  {
   "cell_type": "markdown",
   "metadata": {},
   "source": [
    "Place text. Following this [tutorial](https://haptik.ai/tech/putting-text-on-image-using-python/)"
   ]
  },
  {
   "cell_type": "code",
   "execution_count": null,
   "metadata": {},
   "outputs": [],
   "source": [
    "add_text(image, place_text, (210, 870), place_font, 80)\n",
    "add_text(image, country_text, (210, 962), country_font, 40)"
   ]
  },
  {
   "cell_type": "markdown",
   "metadata": {},
   "source": [
    "Ready!"
   ]
  },
  {
   "cell_type": "code",
   "execution_count": null,
   "metadata": {},
   "outputs": [],
   "source": [
    "image"
   ]
  },
  {
   "cell_type": "markdown",
   "metadata": {},
   "source": [
    "Save if wanted."
   ]
  },
  {
   "cell_type": "code",
   "execution_count": null,
   "metadata": {},
   "outputs": [],
   "source": [
    "image.save(input_folder + 'output.jpeg', optimize=True, quality=90)"
   ]
  },
  {
   "cell_type": "markdown",
   "metadata": {},
   "source": [
    "Done."
   ]
  }
 ],
 "metadata": {
  "kernelspec": {
   "display_name": "Python 3",
   "language": "python",
   "name": "python3"
  },
  "language_info": {
   "codemirror_mode": {
    "name": "ipython",
    "version": 3
   },
   "file_extension": ".py",
   "mimetype": "text/x-python",
   "name": "python",
   "nbconvert_exporter": "python",
   "pygments_lexer": "ipython3",
   "version": "3.7.2"
  }
 },
 "nbformat": 4,
 "nbformat_minor": 2
}
