{
 "cells": [
  {
   "cell_type": "markdown",
   "metadata": {},
   "source": [
    "## Create nice images for instagram, programmatically\n"
   ]
  },
  {
   "cell_type": "markdown",
   "metadata": {},
   "source": [
    "Necessities:\n",
    "\n",
    "* Image, that still needs to be sized, cropped and positioned into an 1080 by 1080 square\n",
    "* Transparrent dark bottom layer, place on top of the image so that the text stands out more.\n",
    "* Logo, needs to be placed on top in the bottom left corner\n",
    "* 2x text, for the place and for the country.\n",
    "\n",
    "To make our life more easier, we combined the transparant bottom and logo into a single layer."
   ]
  },
  {
   "cell_type": "code",
   "execution_count": null,
   "metadata": {},
   "outputs": [],
   "source": [
    "input_folder = '../../images/instagram-post/'\n",
    "\n",
    "# place specifics\n",
    "place_image  = input_folder + '644651.jpg' \n",
    "# place_image  = input_folder + '627255.jpg' # a smaller than 1080x1080 example\n",
    "place_text   = \"Kuantan\"\n",
    "country_text = \"Malaysia\"\n",
    "\n",
    "# or retriev via url\n",
    "place_url_b = 'https://farm3.staticflickr.com/2601/3970594887_fbdbd8dbaa_b.jpg'  # large size\n",
    "place_url_o = 'https://live.staticflickr.com/2601/3970594887_6cd6d05565_o.jpg'  # original size (takes 6x longer)\n",
    "\n",
    "# generics\n",
    "logo_layer   = input_folder + 'logo-darkened-bottom.png'\n",
    "place_font   = input_folder + 'Roboto-Bold.ttf'\n",
    "country_font = input_folder + 'Roboto-Regular.ttf'"
   ]
  },
  {
   "cell_type": "markdown",
   "metadata": {},
   "source": [
    "### Imports"
   ]
  },
  {
   "cell_type": "code",
   "execution_count": null,
   "metadata": {},
   "outputs": [],
   "source": [
    "from PIL import Image, ImageDraw, ImageFont\n",
    "import requests\n",
    "from io import BytesIO"
   ]
  },
  {
   "cell_type": "markdown",
   "metadata": {},
   "source": [
    "## Image Processing\n",
    "\n",
    "Follow this [blog](https://auth0.com/blog/image-processing-in-python-with-pillow) which has very nice example code and explanation on how to do most of the beneath steps."
   ]
  },
  {
   "cell_type": "markdown",
   "metadata": {},
   "source": [
    "Initiate the image from file:"
   ]
  },
  {
   "cell_type": "code",
   "execution_count": null,
   "metadata": {},
   "outputs": [],
   "source": [
    "image = Image.open(place_image)\n",
    " \n",
    "image.size"
   ]
  },
  {
   "cell_type": "markdown",
   "metadata": {},
   "source": [
    "Or initiate from url:"
   ]
  },
  {
   "cell_type": "code",
   "execution_count": null,
   "metadata": {},
   "outputs": [],
   "source": [
    "response = requests.get(place_url_o)\n",
    "image = Image.open(BytesIO(response.content))\n",
    "\n",
    "image.size"
   ]
  },
  {
   "cell_type": "markdown",
   "metadata": {},
   "source": [
    "First resize. `.thumbnail()` can only make images smaller, so resize manually by calculating the aspect ratio first. This way we can also process images that have dimensions smaller than 1080x1080."
   ]
  },
  {
   "cell_type": "code",
   "execution_count": null,
   "metadata": {},
   "outputs": [],
   "source": [
    "width, height = image.size   # Get dimensions\n",
    "\n",
    "new_height = 1080\n",
    "new_width = int(new_height*width/height)\n",
    "\n",
    "image = image.resize((new_width, new_height))\n",
    "\n",
    "image.size"
   ]
  },
  {
   "cell_type": "markdown",
   "metadata": {},
   "source": [
    "Crop center"
   ]
  },
  {
   "cell_type": "code",
   "execution_count": null,
   "metadata": {},
   "outputs": [],
   "source": [
    "new_width = 1080\n",
    "new_height = 1080\n",
    "\n",
    "width, height = image.size   # Get dimensions\n",
    "\n",
    "left = (width - new_width)/2\n",
    "top = (height - new_height)/2\n",
    "right = (width + new_width)/2\n",
    "bottom = (height + new_height)/2\n",
    "\n",
    "# Crop the center of the image\n",
    "image = image.crop((left, top, right, bottom))\n",
    "\n",
    "image.size"
   ]
  },
  {
   "cell_type": "markdown",
   "metadata": {},
   "source": [
    "Paste logo layer on top"
   ]
  },
  {
   "cell_type": "code",
   "execution_count": null,
   "metadata": {},
   "outputs": [],
   "source": [
    "logo = Image.open(logo_layer)\n",
    "\n",
    "# don't need to provide position as both are already 1080x1080\n",
    "image.paste(logo, mask=logo)"
   ]
  },
  {
   "cell_type": "markdown",
   "metadata": {},
   "source": [
    "Place text. Following this [tutorial](https://haptik.ai/tech/putting-text-on-image-using-python/)"
   ]
  },
  {
   "cell_type": "code",
   "execution_count": null,
   "metadata": {},
   "outputs": [],
   "source": [
    "# initialise the drawing context with\n",
    "# the image object as background\n",
    " \n",
    "draw = ImageDraw.Draw(image)\n",
    "\n",
    "# create font object with the font file and specify size\n",
    " \n",
    "font_place= ImageFont.truetype(place_font, size=80)\n",
    "font_country= ImageFont.truetype(country_font, size=40)\n",
    "\n",
    "# Place name\n",
    " \n",
    "(x, y) = (210, 870)\n",
    "color = 'rgb(255, 255, 255)' # white color\n",
    "draw.text((x, y), place_text, fill=color, font=font_place)\n",
    " \n",
    "# Country name\n",
    " \n",
    "(x, y) = (210, 962)\n",
    "color = 'rgb(255, 255, 255)' # white color\n",
    "draw.text((x, y), country_text, fill=color, font=font_country) "
   ]
  },
  {
   "cell_type": "code",
   "execution_count": null,
   "metadata": {},
   "outputs": [],
   "source": [
    "image"
   ]
  },
  {
   "cell_type": "markdown",
   "metadata": {},
   "source": [
    "Save if wanted."
   ]
  },
  {
   "cell_type": "code",
   "execution_count": null,
   "metadata": {},
   "outputs": [],
   "source": [
    "# image.save(input_folder + 'ouput.jpeg', optimize=True, quality=90)"
   ]
  },
  {
   "cell_type": "markdown",
   "metadata": {},
   "source": [
    "Done."
   ]
  }
 ],
 "metadata": {
  "kernelspec": {
   "display_name": "Python 3",
   "language": "python",
   "name": "python3"
  },
  "language_info": {
   "codemirror_mode": {
    "name": "ipython",
    "version": 3
   },
   "file_extension": ".py",
   "mimetype": "text/x-python",
   "name": "python",
   "nbconvert_exporter": "python",
   "pygments_lexer": "ipython3",
   "version": "3.7.2"
  }
 },
 "nbformat": 4,
 "nbformat_minor": 2
}
