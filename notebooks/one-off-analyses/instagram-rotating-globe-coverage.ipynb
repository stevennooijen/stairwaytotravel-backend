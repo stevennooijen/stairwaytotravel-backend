{
 "cells": [
  {
   "cell_type": "markdown",
   "metadata": {},
   "source": [
    "# Creating a rotating globe to show instagram coverage\n",
    "\n",
    "Following this [blog](https://makersportal.com/blog/2018/8/16/rotating-globe-in-python-using-basemap-toolkit)"
   ]
  },
  {
   "cell_type": "code",
   "execution_count": null,
   "metadata": {},
   "outputs": [],
   "source": [
    "output_dir = '../../images/instagram-coverage-globe/50-places/'\n",
    "output_file = 'globe-coverage.mp4'\n",
    "\n",
    "png_dir = output_dir + 'png_dir_background/'\n",
    "data_file = '../../data/wikivoyage/enriched/wikivoyage_destinations.csv'\n",
    "\n",
    "background_color = '#003859'"
   ]
  },
  {
   "cell_type": "code",
   "execution_count": null,
   "metadata": {},
   "outputs": [],
   "source": [
    "import datetime,matplotlib,time\n",
    "from mpl_toolkits.basemap import Basemap\n",
    "import matplotlib.pyplot as plt\n",
    "import numpy as np\n",
    "import os\n",
    "import pandas as pd\n",
    "import shutil\n",
    "import imageio"
   ]
  },
  {
   "cell_type": "markdown",
   "metadata": {},
   "source": [
    "## Step 0: get the places that we featured"
   ]
  },
  {
   "cell_type": "code",
   "execution_count": null,
   "metadata": {},
   "outputs": [],
   "source": [
    "# hard copy from excel instagram post list\n",
    "featured_places = [734084, 487177, 695433, 212363, 834699, 544653, 311565, 430102, 407578, 482586, 968478, 546594, 892966, 595111, 440744, 999079, 916650, 644651, 108206, 539442, 507446, 731702, 179384, 627255, 698560, 832450, 334786, 258755, 981575, 560330, 993099, 209357, 464720, 522962, 689492, 767322, 733660, 228316, 169182, 220380, 171868, 700129, 159458, 473827, 145126, 749803, 298478, 184570, 762363, 539699, 487177, 850394, 983183, 900939, 380647, 840626, 110451, 766851, 222076]"
   ]
  },
  {
   "cell_type": "code",
   "execution_count": null,
   "metadata": {},
   "outputs": [],
   "source": [
    "df = pd.read_csv(data_file).loc[lambda df: df['id'].isin(featured_places)]#[['lat', 'lng']]\n",
    "points = [(v['lat'], v['lng']) for (k, v) in df.iterrows()]"
   ]
  },
  {
   "cell_type": "markdown",
   "metadata": {},
   "source": [
    "## Step 1: Create function for plotting 3D globe\n",
    "\n",
    "Note: for some reason a .mp4 made from images created with a dpi of 300 cannot be imported into iMovie. Set dpi to 200 and it will work...\n",
    "\n",
    "For more info about how to set an exact pixel size image with matplotlib, see this [explanation](https://stackoverflow.com/questions/13714454/specifying-and-saving-a-figure-with-exact-size-in-pixels).\n",
    "\n",
    "The scale argument in `bluemarble()` indicates the quality of the map. See [docs](https://matplotlib.org/basemap/api/basemap_api.html#mpl_toolkits.basemap.Basemap.bluemarble).\n",
    "\n",
    "To add a glow effect to your scatter. Redraw the scatter a couple of times with different alpha. See [blog](https://towardsdatascience.com/cyberpunk-style-with-matplotlib-f47404c9d4c5)."
   ]
  },
  {
   "cell_type": "code",
   "execution_count": null,
   "metadata": {},
   "outputs": [],
   "source": [
    "def create_image(lat, lon, points, filename, show_plot=False, background_color=None, dpi=200):\n",
    "    \n",
    "    fig = plt.figure(figsize=(16,9))\n",
    "    if background_color:\n",
    "        fig.patch.set_facecolor(background_color)\n",
    "\n",
    "    # define color maps for water and land\n",
    "    ocean_map = (plt.get_cmap('ocean'))(210)\n",
    "    cmap = plt.get_cmap('gist_earth')\n",
    "\n",
    "    # call the basemap and use orthographic projection at viewing angle\n",
    "    m = Basemap(projection='ortho', lat_0=lat, lon_0=lon)    \n",
    "\n",
    "    # coastlines, map boundary, fill continents/water, fill ocean, draw countries\n",
    "    m.bluemarble(scale=1)   # to low skill yields ugly edges\n",
    "#     m.drawcoastlines(color='white', linewidth=0.2)\n",
    "#     m.drawmapboundary(fill_color=ocean_map)\n",
    "#     m.fillcontinents(color=cmap(200),lake_color=ocean_map)\n",
    "#     m.drawcountries()\n",
    "\n",
    "    # scatter for plotting the lat/lon points\n",
    "    for i in points:\n",
    "        lat = i[0]\n",
    "        lon = i[1]\n",
    "        x,y = m(lon,lat)\n",
    "        m.scatter(x, y, marker='o', color='#F16C21', s=25, alpha = 1)\n",
    "\n",
    "        # For neon effect, redraw the data with low alpha and slighty increased linewidth:\n",
    "        n_shades = 10\n",
    "        diff_linewidth = 1.05\n",
    "        alpha_value = 0.5 / n_shades\n",
    "        for n in range(1, n_shades+1):\n",
    "            m.scatter(x, y, marker='o', color='#F16C21', s=70,\n",
    "                      linewidth=2+(diff_linewidth*n), alpha=alpha_value)\n",
    "    \n",
    "    # add margin if you want to place text below the image\n",
    "#     plt.subplots_adjust(bottom=0.2, top=0.95)\n",
    "\n",
    "    if background_color:\n",
    "        plt.savefig(filename, facecolor=background_color, edgecolor=background_color, dpi=dpi)\n",
    "    else:\n",
    "        plt.savefig(filename, transparent=True, dpi=dpi)\n",
    "    \n",
    "    if show_plot:\n",
    "        plt.show()\n",
    "        \n",
    "    plt.close()"
   ]
  },
  {
   "cell_type": "code",
   "execution_count": null,
   "metadata": {},
   "outputs": [],
   "source": [
    "# set perspective angle\n",
    "lat_viewing_angle = 10\n",
    "lon_viewing_angle = 9\n",
    "\n",
    "# create example image\n",
    "# create_image(lat_viewing_angle, lon_viewing_angle, \n",
    "#              points, \n",
    "#              output_dir + 'orthographic_map_example_python.png', True, background_color)"
   ]
  },
  {
   "cell_type": "markdown",
   "metadata": {},
   "source": [
    "## Step 2: Rotate earth and save pngs"
   ]
  },
  {
   "cell_type": "code",
   "execution_count": null,
   "metadata": {},
   "outputs": [],
   "source": [
    "rotation_steps = 200\n",
    "\n",
    "# create vector of longitutes to loop over\n",
    "lon_viewing_angle = [-180, 180]\n",
    "lon_vec = np.linspace(lon_viewing_angle[0],lon_viewing_angle[1],rotation_steps)\n",
    "start_index = min(range(len(lon_vec)), key=lambda i: abs(lon_vec[i]+lat_viewing_angle))\n",
    "lon_steps = np.hstack([lon_vec[start_index:],lon_vec[:start_index]])"
   ]
  },
  {
   "cell_type": "code",
   "execution_count": null,
   "metadata": {},
   "outputs": [],
   "source": [
    "# remove old images before placing new\n",
    "if os.path.exists(png_dir):\n",
    "    shutil.rmtree(png_dir)\n",
    "os.makedirs(png_dir)\n",
    "\n",
    "# loop through the longitude vector above\n",
    "gif_indx = 0\n",
    "for lon in lon_steps:    \n",
    "    create_image(20, lon, points, png_dir + 'frame_'+str(gif_indx)+'_.png', background_color=background_color)\n",
    "    gif_indx+=1"
   ]
  },
  {
   "cell_type": "markdown",
   "metadata": {},
   "source": [
    "## Step 3: Make Gif/Movie\n",
    "\n",
    "`gif_maker` function below taken from this [github](https://github.com/makerportal/gifly) and adapted a bit.\n",
    "\n",
    "The default '.mp4' method creates videos in an AVC format. However, those are [not compatible with iMovie](https://discussions.apple.com/thread/250754287). So use the recommended settings as described [here](https://stackoverflow.com/questions/52948735/quality-loss-in-imageio).\n",
    "\n",
    "If all that doesn't work, just [try another video library](https://stackoverflow.com/questions/53214221/how-to-create-a-video-from-images/53214695)"
   ]
  },
  {
   "cell_type": "code",
   "execution_count": null,
   "metadata": {},
   "outputs": [],
   "source": [
    "def gif_maker(gif_name, png_dir):\n",
    "    # define some GIF parameters\n",
    "    frame_length = 0.5 # seconds between frames\n",
    "    end_pause = 4 # seconds to stay on last frame\n",
    "    # define MP4 parameters\n",
    "    fps = 20\n",
    "\n",
    "    # list the images for in the animation\n",
    "    images,image_file_names = [],[]\n",
    "    for file_name in os.listdir(png_dir):\n",
    "        if file_name.endswith('.png'):\n",
    "            image_file_names.append(file_name)       \n",
    "    sorted_files = sorted(image_file_names, key=lambda y: int(y.split('_')[1]))\n",
    "    \n",
    "    # loop through files, join them to image array, and write to GIF called 'wind_turbine_dist.gif'\n",
    "    for ii in range(0,len(sorted_files)):       \n",
    "        file_path = os.path.join(png_dir, sorted_files[ii])\n",
    "        if ii==len(sorted_files)-1:\n",
    "            for jj in range(0,int(end_pause/frame_length)):\n",
    "                images.append(imageio.imread(file_path))\n",
    "        else:\n",
    "            images.append(imageio.imread(file_path))\n",
    "\n",
    "    if gif_name.split('.')[-1] == 'gif':\n",
    "        # the duration is the time spent on each image (1/duration is frame rate)\n",
    "        imageio.mimsave(gif_name, images,'GIF',duration=frame_length)\n",
    "    else:  # make mp4\n",
    "        writer = imageio.get_writer(gif_name, fps=fps)\n",
    "        for im in [png_dir + file for file in sorted_files]:\n",
    "            writer.append_data(imageio.imread(im))\n",
    "        writer.close()\n"
   ]
  },
  {
   "cell_type": "code",
   "execution_count": null,
   "metadata": {},
   "outputs": [],
   "source": [
    "# gif_maker(output_dir + 'test.gif', output_dir + 'png_dir/')\n",
    "gif_maker(output_dir + output_file, png_dir)"
   ]
  },
  {
   "cell_type": "markdown",
   "metadata": {},
   "source": [
    "Done. The rest of the video editing is done in iMovie."
   ]
  }
 ],
 "metadata": {
  "kernelspec": {
   "display_name": "Python 3",
   "language": "python",
   "name": "python3"
  },
  "language_info": {
   "codemirror_mode": {
    "name": "ipython",
    "version": 3
   },
   "file_extension": ".py",
   "mimetype": "text/x-python",
   "name": "python",
   "nbconvert_exporter": "python",
   "pygments_lexer": "ipython3",
   "version": "3.7.2"
  }
 },
 "nbformat": 4,
 "nbformat_minor": 2
}
