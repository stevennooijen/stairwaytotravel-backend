{
 "cells": [
  {
   "cell_type": "markdown",
   "metadata": {},
   "source": [
    "# Creating a rotating globe to show instagram coverage\n",
    "\n",
    "Following this [blog](https://makersportal.com/blog/2018/8/16/rotating-globe-in-python-using-basemap-toolkit)"
   ]
  },
  {
   "cell_type": "code",
   "execution_count": null,
   "metadata": {},
   "outputs": [],
   "source": [
    "output_dir = '../../images/instagram-coverage-globe/'\n",
    "output_file = 'globe-coverage-22places.mp4'\n",
    "\n",
    "png_dir = output_dir + 'png_dir/'\n",
    "data_file = '../../data/wikivoyage/enriched/wikivoyage_destinations.csv'"
   ]
  },
  {
   "cell_type": "code",
   "execution_count": null,
   "metadata": {},
   "outputs": [],
   "source": [
    "import os\n",
    "os.environ['PROJ_LIB'] = '<path to anaconda>/anaconda3/share/proj'"
   ]
  },
  {
   "cell_type": "code",
   "execution_count": null,
   "metadata": {},
   "outputs": [],
   "source": [
    "import datetime,matplotlib,time\n",
    "from mpl_toolkits.basemap import Basemap\n",
    "import matplotlib.pyplot as plt\n",
    "import numpy as np\n",
    "import pandas as pd\n",
    "import shutil\n",
    "import imageio"
   ]
  },
  {
   "cell_type": "markdown",
   "metadata": {},
   "source": [
    "### Step 0: get the places that we featured"
   ]
  },
  {
   "cell_type": "code",
   "execution_count": null,
   "metadata": {},
   "outputs": [],
   "source": [
    "# hard copy from excel instagram post list\n",
    "featured_places = [522962, 212363, 733660, 311565, 334786, 749803, 749803, 698560, 734084, 179384, 762363, 440744, 892966, 539442, 767322, 595111, 644651, 258755, 464720, 145126, 627255, 981575]"
   ]
  },
  {
   "cell_type": "code",
   "execution_count": null,
   "metadata": {},
   "outputs": [],
   "source": [
    "df = pd.read_csv(data_file).loc[lambda df: df['id'].isin(featured_places)][['lat', 'lng']]\n",
    "points = [(v['lat'], v['lng']) for (k, v) in df.iterrows()]"
   ]
  },
  {
   "cell_type": "markdown",
   "metadata": {},
   "source": [
    "### Step 1: Create function for plotting 3D globe"
   ]
  },
  {
   "cell_type": "code",
   "execution_count": null,
   "metadata": {},
   "outputs": [],
   "source": [
    "# set perspective angle\n",
    "lat_viewing_angle = 10\n",
    "lon_viewing_angle = 9\n",
    "coordinates = [(lat_viewing_angle, lon_viewing_angle)]\n",
    "\n",
    "def create_image(lat, lon, points, filename, show_plot=False):\n",
    "    fig = plt.figure(figsize=(9,6))\n",
    "\n",
    "    # define color maps for water and land\n",
    "    ocean_map = (plt.get_cmap('ocean'))(210)\n",
    "    cmap = plt.get_cmap('gist_earth')\n",
    "\n",
    "    # call the basemap and use orthographic projection at viewing angle\n",
    "    m = Basemap(projection='ortho', \n",
    "              lat_0=lat, lon_0=lon)    \n",
    "\n",
    "    # coastlines, map boundary, fill continents/water, fill ocean, draw countries\n",
    "    m.bluemarble(scale=0.2)   # full scale will be overkill\n",
    "    m.drawcoastlines(color='white', linewidth=0.2)  # add coastlines\n",
    "#     m.drawmapboundary(fill_color=ocean_map)\n",
    "#     m.fillcontinents(color=cmap(200),lake_color=ocean_map)\n",
    "#     m.drawcountries()\n",
    "\n",
    "    # latitude/longitude line vectors\n",
    "    # lat_line_range = [-90,90]\n",
    "    # lat_lines = 8\n",
    "    # lat_line_count = (lat_line_range[1]-lat_line_range[0])/lat_lines\n",
    "\n",
    "    # merid_range = [-180,180]\n",
    "    # merid_lines = 8\n",
    "    # merid_count = (merid_range[1]-merid_range[0])/merid_lines\n",
    "\n",
    "    # m.drawparallels(np.arange(lat_line_range[0],lat_line_range[1],lat_line_count))\n",
    "    # m.drawmeridians(np.arange(merid_range[0],merid_range[1],merid_count))\n",
    "    \n",
    "    # scatter to indicate lat/lon point\n",
    "    for i in points:\n",
    "        lat = i[0]\n",
    "        lon = i[1]\n",
    "        x,y = m(lon,lat)\n",
    "    #     m.scatter(x,y,marker='o',color='#DDDDDD',s=3000,zorder=10,alpha=0.7, edgecolor='#000000')\n",
    "        m.scatter(x, y, marker='o', color='#F16C21', s=50, alpha = 1)\n",
    "\n",
    "        # For neon effect, redraw the data with low alpha and slighty increased linewidth:\n",
    "        n_shades = 10\n",
    "        diff_linewidth = 1.05\n",
    "        alpha_value = 0.5 / n_shades\n",
    "        for n in range(1, n_shades+1):\n",
    "            m.scatter(x, y, marker='o', color='#F16C21', s=100,\n",
    "                      linewidth=2+(diff_linewidth*n), alpha=alpha_value)\n",
    "\n",
    "    # save figure at 150 dpi and show it\n",
    "    plt.savefig(filename, dpi=150, transparent=True)\n",
    "    \n",
    "    if show_plot:\n",
    "        plt.show()\n",
    "        \n",
    "    plt.close()"
   ]
  },
  {
   "cell_type": "code",
   "execution_count": null,
   "metadata": {},
   "outputs": [],
   "source": [
    "create_image(lat_viewing_angle, lon_viewing_angle, \n",
    "             points, \n",
    "             output_dir + 'orthographic_map_example_python.png', True)"
   ]
  },
  {
   "cell_type": "markdown",
   "metadata": {},
   "source": [
    "## Step 2: Rotate earth and save pngs"
   ]
  },
  {
   "cell_type": "code",
   "execution_count": null,
   "metadata": {},
   "outputs": [],
   "source": [
    "rotation_steps = 100\n",
    "\n",
    "# create vector of longitutes to loop over\n",
    "lon_viewing_angle = [-180, 180]\n",
    "lon_vec = np.linspace(lon_viewing_angle[0],lon_viewing_angle[1],rotation_steps)\n",
    "start_index = min(range(len(lon_vec)), key=lambda i: abs(lon_vec[i]+lat_viewing_angle))\n",
    "lon_steps = np.hstack([lon_vec[start_index:],lon_vec[:start_index]])"
   ]
  },
  {
   "cell_type": "code",
   "execution_count": null,
   "metadata": {},
   "outputs": [],
   "source": [
    "# remove old images before placing new\n",
    "if os.path.exists(png_dir):\n",
    "    shutil.rmtree(png_dir)\n",
    "os.makedirs(png_dir)\n",
    "\n",
    "# loop through the longitude vector above\n",
    "gif_indx = 0\n",
    "for lon in lon_steps:    \n",
    "    create_image(31, lon, points, png_dir + 'frame_'+str(gif_indx)+'_.png')\n",
    "    gif_indx+=1"
   ]
  },
  {
   "cell_type": "markdown",
   "metadata": {},
   "source": [
    "## Step 3: Make Gif/Movie"
   ]
  },
  {
   "cell_type": "code",
   "execution_count": null,
   "metadata": {},
   "outputs": [],
   "source": [
    "def gif_maker(gif_name, png_dir):\n",
    "    # define some GIF parameters\n",
    "    frame_length = 0.5 # seconds between frames\n",
    "    end_pause = 4 # seconds to stay on last frame\n",
    "    # define MP4 parameters\n",
    "    fps = 20\n",
    "\n",
    "    # list the images for in the animation\n",
    "    images,image_file_names = [],[]\n",
    "    for file_name in os.listdir(png_dir):\n",
    "        if file_name.endswith('.png'):\n",
    "            image_file_names.append(file_name)       \n",
    "    sorted_files = sorted(image_file_names, key=lambda y: int(y.split('_')[1]))\n",
    "    \n",
    "    # loop through files, join them to image array, and write to GIF called 'wind_turbine_dist.gif'\n",
    "    for ii in range(0,len(sorted_files)):       \n",
    "        file_path = os.path.join(png_dir, sorted_files[ii])\n",
    "        if ii==len(sorted_files)-1:\n",
    "            for jj in range(0,int(end_pause/frame_length)):\n",
    "                images.append(imageio.imread(file_path))\n",
    "        else:\n",
    "            images.append(imageio.imread(file_path))\n",
    "\n",
    "    if gif_name.split('.')[-1] == 'gif':\n",
    "        # the duration is the time spent on each image (1/duration is frame rate)\n",
    "        imageio.mimsave(gif_name, images,'GIF',duration=frame_length)\n",
    "    else:  # make mp4\n",
    "        writer = imageio.get_writer(gif_name, fps=fps)\n",
    "        for im in [png_dir + file for file in sorted_files]:\n",
    "            writer.append_data(imageio.imread(im))\n",
    "        writer.close()\n"
   ]
  },
  {
   "cell_type": "code",
   "execution_count": null,
   "metadata": {},
   "outputs": [],
   "source": [
    "# gif_maker(output_dir + 'test.gif', output_dir + 'png_dir/')\n",
    "gif_maker(output_dir + output_file, png_dir)"
   ]
  },
  {
   "cell_type": "markdown",
   "metadata": {},
   "source": [
    "Done."
   ]
  }
 ],
 "metadata": {
  "kernelspec": {
   "display_name": "Python 3",
   "language": "python",
   "name": "python3"
  },
  "language_info": {
   "codemirror_mode": {
    "name": "ipython",
    "version": 3
   },
   "file_extension": ".py",
   "mimetype": "text/x-python",
   "name": "python",
   "nbconvert_exporter": "python",
   "pygments_lexer": "ipython3",
   "version": "3.7.2"
  }
 },
 "nbformat": 4,
 "nbformat_minor": 2
}
