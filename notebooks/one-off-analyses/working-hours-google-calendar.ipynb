{
 "cells": [
  {
   "cell_type": "markdown",
   "metadata": {},
   "source": [
    "# Analysis on Stairway working hours\n",
    "\n",
    "Based on Google Calendar data.\n",
    "\n",
    "Exported to ICS file, then free converted to CSV using https://www.projectwizards.net/en/support/ics2csv-converter"
   ]
  },
  {
   "cell_type": "code",
   "execution_count": null,
   "metadata": {},
   "outputs": [],
   "source": [
    "import pandas as pd\n",
    "import numpy as np\n",
    "import datetime"
   ]
  },
  {
   "cell_type": "code",
   "execution_count": null,
   "metadata": {},
   "outputs": [],
   "source": [
    "import matplotlib.pyplot as plt\n",
    "%matplotlib inline"
   ]
  },
  {
   "cell_type": "markdown",
   "metadata": {},
   "source": [
    "### Import and prep data"
   ]
  },
  {
   "cell_type": "code",
   "execution_count": null,
   "metadata": {
    "scrolled": true
   },
   "outputs": [],
   "source": [
    "!ls '../../data/google-calendar'"
   ]
  },
  {
   "cell_type": "code",
   "execution_count": null,
   "metadata": {},
   "outputs": [],
   "source": [
    "column_names = ['title', 'start_time', 'end_time', 'notes', 'assigned_resources', 'additional_title']\n",
    "\n",
    "df = pd.read_csv('../../data/google-calendar/stairway-to-travel-calendar.csv', \n",
    "                 sep=\"\\t\", names=column_names, header=0, parse_dates=[1, 2])\n",
    "\n",
    "# create some usefull features\n",
    "df['work_time'] = df['end_time'] - df['start_time']\n",
    "df['work_hours'] = df['work_time'] / np.timedelta64(1, 'h')\n",
    "df[\"week_date\"] = (df['start_time'] - df['start_time'].dt.weekday * datetime.timedelta(days=1)).dt.date"
   ]
  },
  {
   "cell_type": "code",
   "execution_count": null,
   "metadata": {
    "scrolled": true
   },
   "outputs": [],
   "source": [
    "df.head()"
   ]
  },
  {
   "cell_type": "markdown",
   "metadata": {},
   "source": [
    "### Simple stats\n",
    "\n",
    "Period of administration"
   ]
  },
  {
   "cell_type": "code",
   "execution_count": null,
   "metadata": {},
   "outputs": [],
   "source": [
    "df['start_time'].min(), df['start_time'].max()"
   ]
  },
  {
   "cell_type": "code",
   "execution_count": null,
   "metadata": {},
   "outputs": [],
   "source": [
    "df['start_time'].max() - df['start_time'].min()"
   ]
  },
  {
   "cell_type": "markdown",
   "metadata": {},
   "source": [
    "Total time invested in this period"
   ]
  },
  {
   "cell_type": "code",
   "execution_count": null,
   "metadata": {},
   "outputs": [],
   "source": [
    "df['work_hours'].sum()"
   ]
  },
  {
   "cell_type": "markdown",
   "metadata": {},
   "source": [
    "## Plot weekly working hours over time\n",
    "\n",
    "Create an index to add missing weeks. Set working hours to zero for missing weeks."
   ]
  },
  {
   "cell_type": "code",
   "execution_count": null,
   "metadata": {},
   "outputs": [],
   "source": [
    "all_week_dates = pd.date_range(df[\"week_date\"].min(), df[\"week_date\"].max(), freq='W-MON')"
   ]
  },
  {
   "cell_type": "code",
   "execution_count": null,
   "metadata": {},
   "outputs": [],
   "source": [
    "fig = plt.figure(figsize=(16,9))\n",
    "ax = fig.gca()\n",
    "\n",
    "hours_per_week = (\n",
    "    df\n",
    "    .groupby('week_date')\n",
    "    .agg({\n",
    "        'work_hours' : sum\n",
    "    })\n",
    "    .reindex(all_week_dates, fill_value=0)\n",
    "    .assign(rolling_mean = lambda df: df.rolling(window=4).mean())\n",
    "    .assign(overall_mean = lambda df: df['work_hours'].mean())\n",
    ")\n",
    "\n",
    "hours_per_week.plot(ax=ax);"
   ]
  },
  {
   "cell_type": "markdown",
   "metadata": {},
   "source": [
    "Conclusie: Los van vakanties en met name onze bruiloft, gemiddeld >1 dag per week."
   ]
  },
  {
   "cell_type": "markdown",
   "metadata": {},
   "source": [
    "## Analyse time spent on\n",
    "\n",
    "**TODO**: Find out how much time I spent on front-end, back-end or business work by extracting labels from text."
   ]
  },
  {
   "cell_type": "code",
   "execution_count": null,
   "metadata": {},
   "outputs": [],
   "source": []
  },
  {
   "cell_type": "markdown",
   "metadata": {},
   "source": [
    "## Analyse when during the week I typically work\n",
    "\n",
    "**TODO**: Make heatmap with hours of day on y-axis (00.00-24.00) and day of week on x-axis (Mon-Sun). Then light up the hours that I have worked."
   ]
  },
  {
   "cell_type": "code",
   "execution_count": null,
   "metadata": {},
   "outputs": [],
   "source": []
  },
  {
   "cell_type": "markdown",
   "metadata": {},
   "source": [
    "Done."
   ]
  }
 ],
 "metadata": {
  "kernelspec": {
   "display_name": "Python 3",
   "language": "python",
   "name": "python3"
  },
  "language_info": {
   "codemirror_mode": {
    "name": "ipython",
    "version": 3
   },
   "file_extension": ".py",
   "mimetype": "text/x-python",
   "name": "python",
   "nbconvert_exporter": "python",
   "pygments_lexer": "ipython3",
   "version": "3.7.2"
  }
 },
 "nbformat": 4,
 "nbformat_minor": 2
}
