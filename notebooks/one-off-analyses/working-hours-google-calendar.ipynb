{
 "cells": [
  {
   "cell_type": "markdown",
   "metadata": {},
   "source": [
    "# Analysis on Stairway working hours\n",
    "\n",
    "Based on Google Calendar data.\n",
    "\n",
    "Exported to ICS file, then free converted to CSV using https://www.projectwizards.net/en/support/ics2csv-converter"
   ]
  },
  {
   "cell_type": "code",
   "execution_count": null,
   "metadata": {},
   "outputs": [],
   "source": [
    "import pandas as pd\n",
    "import numpy as np\n",
    "import datetime"
   ]
  },
  {
   "cell_type": "code",
   "execution_count": null,
   "metadata": {},
   "outputs": [],
   "source": [
    "import matplotlib.pyplot as plt\n",
    "import seaborn as sns\n",
    "%matplotlib inline"
   ]
  },
  {
   "cell_type": "markdown",
   "metadata": {},
   "source": [
    "### Import and prep data"
   ]
  },
  {
   "cell_type": "code",
   "execution_count": null,
   "metadata": {
    "scrolled": true
   },
   "outputs": [],
   "source": [
    "!ls '../../data/google-calendar'"
   ]
  },
  {
   "cell_type": "code",
   "execution_count": null,
   "metadata": {},
   "outputs": [],
   "source": [
    "column_names = ['title', 'start_time', 'end_time', 'notes', 'assigned_resources', 'additional_title']\n",
    "\n",
    "df = pd.read_csv('../../data/google-calendar/stairway-to-travel-calendar.csv', \n",
    "                 sep=\"\\t\", names=column_names, header=0, parse_dates=[1, 2])\n",
    "\n",
    "# create some usefull features\n",
    "df['work_time'] = df['end_time'] - df['start_time']\n",
    "df['work_hours'] = df['work_time'] / np.timedelta64(1, 'h')\n",
    "df[\"week_date\"] = (df['start_time'] - df['start_time'].dt.weekday * datetime.timedelta(days=1)).dt.date"
   ]
  },
  {
   "cell_type": "code",
   "execution_count": null,
   "metadata": {
    "scrolled": true
   },
   "outputs": [],
   "source": [
    "df.head()"
   ]
  },
  {
   "cell_type": "markdown",
   "metadata": {},
   "source": [
    "### Simple stats\n",
    "\n",
    "Period of administration"
   ]
  },
  {
   "cell_type": "code",
   "execution_count": null,
   "metadata": {},
   "outputs": [],
   "source": [
    "df['start_time'].min(), df['start_time'].max()"
   ]
  },
  {
   "cell_type": "code",
   "execution_count": null,
   "metadata": {},
   "outputs": [],
   "source": [
    "df['start_time'].max() - df['start_time'].min()"
   ]
  },
  {
   "cell_type": "markdown",
   "metadata": {},
   "source": [
    "Total time invested in this period"
   ]
  },
  {
   "cell_type": "code",
   "execution_count": null,
   "metadata": {},
   "outputs": [],
   "source": [
    "df['work_hours'].sum()"
   ]
  },
  {
   "cell_type": "markdown",
   "metadata": {},
   "source": [
    "## Plot weekly working hours over time\n",
    "\n",
    "Create an index to add missing weeks. Set working hours to zero for missing weeks."
   ]
  },
  {
   "cell_type": "code",
   "execution_count": null,
   "metadata": {},
   "outputs": [],
   "source": [
    "all_week_dates = pd.date_range(df[\"week_date\"].min(), df[\"week_date\"].max(), freq='W-MON')"
   ]
  },
  {
   "cell_type": "code",
   "execution_count": null,
   "metadata": {},
   "outputs": [],
   "source": [
    "fig = plt.figure(figsize=(16,9))\n",
    "ax = fig.gca()\n",
    "\n",
    "hours_per_week = (\n",
    "    df\n",
    "    .groupby('week_date')\n",
    "    .agg({\n",
    "        'work_hours' : sum\n",
    "    })\n",
    "    .reindex(all_week_dates, fill_value=0)\n",
    "    .assign(rolling_mean = lambda df: df.rolling(window=4).mean())\n",
    "    .assign(overall_mean = lambda df: df['work_hours'].mean())\n",
    ")\n",
    "\n",
    "hours_per_week.plot(ax=ax)\n",
    "ax.set_title('Weekly working hours on Stairway to Travel', fontsize=16)\n",
    "ax.set_ylabel('Worked hours per week');"
   ]
  },
  {
   "cell_type": "markdown",
   "metadata": {},
   "source": [
    "Conclusie: Los van vakanties en met name onze bruiloft, gemiddeld >1 dag per week."
   ]
  },
  {
   "cell_type": "markdown",
   "metadata": {},
   "source": [
    "## Analyse time spent on\n",
    "\n",
    "**TODO**: Find out how much time I spent on front-end, back-end or business work by extracting labels from text."
   ]
  },
  {
   "cell_type": "code",
   "execution_count": null,
   "metadata": {},
   "outputs": [],
   "source": []
  },
  {
   "cell_type": "markdown",
   "metadata": {},
   "source": [
    "## Analyse when during the week I typically work\n",
    "\n",
    "Make heatmap with hours of day on y-axis (00.00-24.00) and day of week on x-axis (Mon-Sun). Then light up the hours that I have worked.\n",
    "\n",
    "Start by picking one record that has an odd start/end time that doesn't perfectly align with a `15min`, `30min`, or `h` interval. Use this to develop the code."
   ]
  },
  {
   "cell_type": "code",
   "execution_count": null,
   "metadata": {},
   "outputs": [],
   "source": [
    "row = df.iloc[189]\n",
    "# row"
   ]
  },
  {
   "cell_type": "markdown",
   "metadata": {},
   "source": [
    "Below code is partially copied from [this example](https://stackoverflow.com/questions/43154462/python-pandas-transform-start-and-end-datetime-range-stored-as-2-columns-to-i), but adjusted to make it work for our dataframe."
   ]
  },
  {
   "cell_type": "code",
   "execution_count": null,
   "metadata": {},
   "outputs": [],
   "source": [
    "def expand_datetime_range(row, freq = '15min'):\n",
    "    intervals = pd.date_range(row[\"start_time\"].floor(freq), row[\"end_time\"].ceil(freq), freq=freq)\n",
    "    df = (\n",
    "        pd.DataFrame({'start_interval': intervals[:-1], 'end_interval' : intervals[1:]})\n",
    "        .assign(start_time = row['start_time'], end_time = row['end_time'], title = row['title'])\n",
    "    )\n",
    "    return df\n",
    "\n",
    "def apply_function_to_full_df(df, function, freq = '15min'):\n",
    "    dfs = pd.concat([function(series, freq) for idx, series in df.iterrows()])\n",
    "    return dfs"
   ]
  },
  {
   "cell_type": "markdown",
   "metadata": {},
   "source": [
    "Try it out on the example record, to see if it works:"
   ]
  },
  {
   "cell_type": "code",
   "execution_count": null,
   "metadata": {},
   "outputs": [],
   "source": [
    "(\n",
    "    expand_datetime_range(row, 'h')\n",
    "    .assign(overlap_time = lambda row: row[['end_interval', 'end_time']].min(axis=1) - row[['start_interval', 'start_time']].max(axis=1))\n",
    ")"
   ]
  },
  {
   "cell_type": "markdown",
   "metadata": {},
   "source": [
    "Great! So now apply it to the entire df:"
   ]
  },
  {
   "cell_type": "code",
   "execution_count": null,
   "metadata": {},
   "outputs": [],
   "source": [
    "freq = 'h'\n",
    "\n",
    "df_intervals = (\n",
    "    apply_function_to_full_df(df, expand_datetime_range, freq=freq)\n",
    "    # calculate intervals\n",
    "    .assign(overlap_time = lambda row: row[['end_interval', 'end_time']].min(axis=1) - row[['start_interval', 'start_time']].max(axis=1))\n",
    "    .assign(overlap = lambda row: row['overlap_time'] / (row['end_interval'] - row['start_interval']))\n",
    "    # set time variables for heatmap\n",
    "    .assign(time = lambda row: row['start_interval'].dt.time)\n",
    "    .assign(weekday = lambda row: row['start_interval'].dt.weekday)\n",
    "#     .assign(weekday = lambda row: row['start_interval'].dt.strftime(\"%A\"))\n",
    ")"
   ]
  },
  {
   "cell_type": "code",
   "execution_count": null,
   "metadata": {},
   "outputs": [],
   "source": [
    "fig = plt.figure(figsize=(16,9))\n",
    "ax = fig.gca()\n",
    "\n",
    "# pivot data for heatmap\n",
    "df_heatmap = (\n",
    "    df_intervals\n",
    "    .pivot_table(index='time', columns='weekday', values='overlap', aggfunc='sum')\n",
    ")\n",
    "\n",
    "ax = sns.heatmap(df_heatmap)\n",
    "ax.set_title('Time in the week that I work on Stairway to Travel', fontsize=16);"
   ]
  },
  {
   "cell_type": "markdown",
   "metadata": {},
   "source": [
    "Interesting, according to the data, I work most when:\n",
    "* In the evening hours between 20.00 and 22.00, except for Friday and Saturday nights (party!)\n",
    "* During daytime on Wednesdays or Fridays. These are respectively my free day and GoDataDriven Friday\n",
    "* Sundays in the afternoon!\n",
    "\n",
    "Which I indeed recognize.\n",
    "\n",
    "There is one odd night in which I pulled an all nighter. Looking into this event:"
   ]
  },
  {
   "cell_type": "code",
   "execution_count": null,
   "metadata": {},
   "outputs": [],
   "source": [
    "df_intervals.loc[lambda df : df['time'] == datetime.time(3, 0)]"
   ]
  },
  {
   "cell_type": "markdown",
   "metadata": {},
   "source": [
    "I remember: this was the flight back from San Fransisco! "
   ]
  },
  {
   "cell_type": "markdown",
   "metadata": {},
   "source": [
    "Done."
   ]
  }
 ],
 "metadata": {
  "kernelspec": {
   "display_name": "Python 3",
   "language": "python",
   "name": "python3"
  },
  "language_info": {
   "codemirror_mode": {
    "name": "ipython",
    "version": 3
   },
   "file_extension": ".py",
   "mimetype": "text/x-python",
   "name": "python",
   "nbconvert_exporter": "python",
   "pygments_lexer": "ipython3",
   "version": "3.7.2"
  }
 },
 "nbformat": 4,
 "nbformat_minor": 2
}
