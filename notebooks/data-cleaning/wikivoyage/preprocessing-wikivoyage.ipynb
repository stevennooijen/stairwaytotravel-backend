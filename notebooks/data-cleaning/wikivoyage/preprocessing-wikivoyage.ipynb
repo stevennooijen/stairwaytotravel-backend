{
 "cells": [
  {
   "cell_type": "markdown",
   "metadata": {},
   "source": [
    "# Preprocessing Wikivoyage\n",
    "\n",
    "Assumes wikivoyage data has been parsed into a dataframe with metadata and a generator for creating the tokens."
   ]
  },
  {
   "cell_type": "code",
   "execution_count": null,
   "metadata": {},
   "outputs": [],
   "source": [
    "data_dir = '../../../data/wikivoyage/'\n",
    "\n",
    "path_wiki_metadata = data_dir + 'processed/wikivoyage_dest_list.csv'\n",
    "\n",
    "# path_wiki_in = data_dir + 'raw/enwikivoyage-20191001-pages-articles.xml.bz2'"
   ]
  },
  {
   "cell_type": "code",
   "execution_count": null,
   "metadata": {
    "scrolled": true
   },
   "outputs": [],
   "source": [
    "# import re\n",
    "import pandas as pd\n",
    "\n",
    "# from itertools import islice"
   ]
  },
  {
   "cell_type": "markdown",
   "metadata": {},
   "source": [
    "## requirements for base product\n",
    "\n",
    "structured:\n",
    "* destination name\n",
    "* parent (incl. hierarchy) -> country, continent\n",
    "* geolocation\n",
    "* (possibly: synonyms?)\n",
    "\n",
    "text:\n",
    "* activities\n",
    "\n"
   ]
  },
  {
   "cell_type": "markdown",
   "metadata": {},
   "source": [
    "## Extending Gensim to parse text content"
   ]
  },
  {
   "cell_type": "markdown",
   "metadata": {},
   "source": [
    "Cleaning steps in this notebook:\n",
    "\n",
    "13. throw away some specific stuff with parents like moon and space\n",
    "11. set parents of continet to 'world'\n",
    "12. get parent ids by string matching ... follows from 'ispartof' ...\n",
    "\n",
    "### Load data"
   ]
  },
  {
   "cell_type": "code",
   "execution_count": null,
   "metadata": {},
   "outputs": [],
   "source": [
    "data = pd.read_csv(path_wiki_metadata)\n",
    "data.shape"
   ]
  },
  {
   "cell_type": "markdown",
   "metadata": {},
   "source": [
    "## Adding `world` parent to continents "
   ]
  },
  {
   "cell_type": "code",
   "execution_count": null,
   "metadata": {},
   "outputs": [],
   "source": [
    "# set is part of for continents\n",
    "data.loc[(data['ispartof'].isnull()) & (data['articletype'] == 'continent'), 'ispartof'] = 'World'"
   ]
  },
  {
   "cell_type": "markdown",
   "metadata": {},
   "source": [
    "## Scope data\n",
    "\n",
    "Remove useless stuff and focus on core destinations"
   ]
  },
  {
   "cell_type": "code",
   "execution_count": null,
   "metadata": {
    "scrolled": false
   },
   "outputs": [],
   "source": [
    "import numpy as np \n",
    "\n",
    "df = (\n",
    "    data    \n",
    "    .loc[lambda df: df['articletype'].isin(['city', 'region', 'park', 'country', 'continent'])]\n",
    "    .loc[lambda df: ~df['status'].isin(['extra'])]\n",
    "    .loc[lambda df: ~df['title'].str.contains('disambiguation')]\n",
    "    .loc[lambda df: df['disambiguation'] == False]\n",
    "    .loc[lambda df: df['historical'] == False]\n",
    "    .loc[lambda df: ~df['articletype'].isnull()]\n",
    "    .loc[lambda df: ~df['ispartof'].isnull()]\n",
    ")\n",
    "print(df.shape)"
   ]
  },
  {
   "cell_type": "markdown",
   "metadata": {},
   "source": [
    "## Getting the parent path for each destination"
   ]
  },
  {
   "cell_type": "code",
   "execution_count": null,
   "metadata": {},
   "outputs": [],
   "source": [
    "(\n",
    "    df\n",
    "    .loc[lambda df: df['articletype'] == 'continent']\n",
    "\n",
    "\n",
    ")"
   ]
  },
  {
   "cell_type": "code",
   "execution_count": null,
   "metadata": {},
   "outputs": [],
   "source": []
  },
  {
   "cell_type": "code",
   "execution_count": null,
   "metadata": {},
   "outputs": [],
   "source": []
  },
  {
   "cell_type": "code",
   "execution_count": null,
   "metadata": {},
   "outputs": [],
   "source": []
  }
 ],
 "metadata": {
  "kernelspec": {
   "display_name": "Python 3",
   "language": "python",
   "name": "python3"
  },
  "language_info": {
   "codemirror_mode": {
    "name": "ipython",
    "version": 3
   },
   "file_extension": ".py",
   "mimetype": "text/x-python",
   "name": "python",
   "nbconvert_exporter": "python",
   "pygments_lexer": "ipython3",
   "version": "3.7.2"
  }
 },
 "nbformat": 4,
 "nbformat_minor": 2
}
