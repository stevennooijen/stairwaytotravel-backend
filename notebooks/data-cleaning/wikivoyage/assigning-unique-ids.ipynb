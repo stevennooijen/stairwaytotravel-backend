{
 "cells": [
  {
   "cell_type": "code",
   "execution_count": null,
   "metadata": {},
   "outputs": [],
   "source": [
    "%load_ext autoreload\n",
    "%autoreload 2"
   ]
  },
  {
   "cell_type": "markdown",
   "metadata": {},
   "source": [
    "# Assigning unique ids\n"
   ]
  },
  {
   "cell_type": "code",
   "execution_count": null,
   "metadata": {},
   "outputs": [],
   "source": [
    "data_dir = '../../../data/wikivoyage/'\n",
    "# folder where data should live for flask API\n",
    "# api_dir = '../../../api/data/'\n",
    "\n",
    "input_path = data_dir + 'processed/wikivoyage_destinations.csv'\n",
    "# output_path1 = data_dir + 'enriched/wikivoyage_destinations.csv'\n",
    "# output_path2 = api_dir + 'wikivoyage_destinations.csv'"
   ]
  },
  {
   "cell_type": "code",
   "execution_count": null,
   "metadata": {},
   "outputs": [],
   "source": [
    "import pandas as pd"
   ]
  },
  {
   "cell_type": "code",
   "execution_count": null,
   "metadata": {},
   "outputs": [],
   "source": [
    "df = pd.read_csv(input_path)\n",
    "df.head()"
   ]
  },
  {
   "cell_type": "markdown",
   "metadata": {},
   "source": [
    "## Hashing\n",
    "\n",
    "Requirement: make the hashes resilient for changes in the wikivoyage table. I.e. a wikivoyage id should **always** be mapped to the **same** random id, no matter if the wikivoyage table contains for example new entries.\n",
    "\n",
    "Idea: map the wikivoyage ids to random generated ids using a mapping table.\n",
    "\n",
    "First step, discover the range required for this mapping table."
   ]
  },
  {
   "cell_type": "code",
   "execution_count": null,
   "metadata": {},
   "outputs": [],
   "source": [
    "df['id'].min(), df['id'].max()"
   ]
  },
  {
   "cell_type": "markdown",
   "metadata": {},
   "source": [
    "Ok, so we need a mapping table for everything in the range between 10 and 180k -> meaning we need 6 digits.\n",
    "\n",
    "This is what we implemented in `add_random_id`:"
   ]
  },
  {
   "cell_type": "code",
   "execution_count": null,
   "metadata": {},
   "outputs": [],
   "source": [
    "from stairway.wikivoyage.feature_engineering import add_random_id"
   ]
  },
  {
   "cell_type": "code",
   "execution_count": null,
   "metadata": {},
   "outputs": [],
   "source": [
    "(\n",
    "    df\n",
    "    .head()\n",
    "    .rename(columns={\"id\": \"wiki_id\"})\n",
    "    .pipe(add_random_id)\n",
    ")"
   ]
  },
  {
   "cell_type": "markdown",
   "metadata": {},
   "source": [
    "Done."
   ]
  }
 ],
 "metadata": {
  "kernelspec": {
   "display_name": "Python 3",
   "language": "python",
   "name": "python3"
  },
  "language_info": {
   "codemirror_mode": {
    "name": "ipython",
    "version": 3
   },
   "file_extension": ".py",
   "mimetype": "text/x-python",
   "name": "python",
   "nbconvert_exporter": "python",
   "pygments_lexer": "ipython3",
   "version": "3.7.2"
  }
 },
 "nbformat": 4,
 "nbformat_minor": 2
}
