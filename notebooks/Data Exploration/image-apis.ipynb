{
 "cells": [
  {
   "cell_type": "markdown",
   "metadata": {},
   "source": [
    "## Image APIs\n",
    "\n",
    "- [x] [flickr.photos.search](https://www.flickr.com/services/api/flickr.photos.search.html)\n",
    "    - location search possible, see [map view](https://www.flickr.com/map)\n",
    "    - Can search on both geolocation and tag\n",
    "    - Pricing unclear, need to contact in case of 'commercial use'\n",
    "- [ ] Instagram\n",
    "    - **BAD:** Is migrating to new Instagram Graph API. Media queries are closed down or being closed down. Unsure when it will be back up\n",
    "    - Has [Geography Subscription](https://stackoverflow.com/questions/21870059/limit-posts-from-instagram-api-on-a-google-map-based-on-radius-in-current-window) for searching on geolocation.\n",
    "    - No service for calling on geolocation AND tag (so will need to filter geography results)\n",
    "- [ ] [Unsplash](https://unsplash.com/documentation)\n",
    "    - **BAD:** Can only search on string, not geolocation\n",
    "    - Free up to 5000 requests an hour\n",
    "    - Need to satisfy Attribution guidelines (a text like \"Photo by _Annie Spratt_ on _Unsplash_\"). See [guidelines](https://help.unsplash.com/api-guidelines/unsplash-api-guidelines).\n",
    "    - Official libraries for PHP, Ruby and Javascript, not Python (altough [package](https://pypi.org/project/unsplash-search/) available).\n",
    "- [ ] [Google Places](https://developers.google.com/places/web-service/intro)\n",
    "    - Yet to assess\n",
    "- [ ] Foursquare\n",
    "    - Yet to assess"
   ]
  },
  {
   "cell_type": "markdown",
   "metadata": {},
   "source": [
    "### Flickr\n",
    "\n",
    "3 unofficial python packages to interact with the API are listed [here](https://www.flickr.com/services/api/). These packages do also wrap around other services than the [flickr.photos.search](https://www.flickr.com/services/api/flickr.photos.search.html). Assess to what extend that could be helpfull, or unneseccary overhead.\n",
    "\n"
   ]
  },
  {
   "cell_type": "markdown",
   "metadata": {},
   "source": [
    "### Instagram\n",
    "\n",
    "Search by geolocation and then filter by tag or vice versa depending on what gets you best results. Check out this [stackoverflow discussion](https://stackoverflow.com/questions/21870059/limit-posts-from-instagram-api-on-a-google-map-based-on-radius-in-current-window).\n",
    "\n",
    "Media search API seems to be still in operation.. No clue when it will shut down. But this is how [it should work](http://techmonks.net/instagram-using-the-api/):\n",
    "\n",
    "```\n",
    "For most recent pictures from a specific location:\n",
    "url:  \"https://api.instagram.com/v1/media/search?lat=[LAT]&lng=[LNG]&distance=[DST]\n",
    "?client_id=[ClientID]&access_token=[CODE]\"\n",
    "\n",
    "Where LAT and LNG are latitude and longitude of the place and DST is the radius of the area in meters (max 5000 meters)\n",
    "```"
   ]
  },
  {
   "cell_type": "markdown",
   "metadata": {},
   "source": [
    "### Unsplash\n",
    "\n",
    "Can only search using string `query`:\n",
    "\n",
    "`\n",
    "https://api.unsplash.com/search/photos?query=nature\n",
    "`\n",
    "\n",
    "See [documentation](https://unsplash.com/documentation#search-photos)."
   ]
  }
 ],
 "metadata": {
  "kernelspec": {
   "display_name": "Python 3",
   "language": "python",
   "name": "python3"
  },
  "language_info": {
   "codemirror_mode": {
    "name": "ipython",
    "version": 3
   },
   "file_extension": ".py",
   "mimetype": "text/x-python",
   "name": "python",
   "nbconvert_exporter": "python",
   "pygments_lexer": "ipython3",
   "version": "3.7.2"
  }
 },
 "nbformat": 4,
 "nbformat_minor": 2
}
