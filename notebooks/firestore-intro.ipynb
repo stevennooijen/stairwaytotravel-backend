{
 "cells": [
  {
   "cell_type": "markdown",
   "metadata": {},
   "source": [
    "# Intro to firestorm\n",
    "\n",
    "Following the standard [tutorial](https://cloud.google.com/firestore/docs/quickstart-servers)\n"
   ]
  },
  {
   "cell_type": "code",
   "execution_count": null,
   "metadata": {},
   "outputs": [],
   "source": [
    "from google.cloud import firestore\n",
    "\n",
    "import itertools"
   ]
  },
  {
   "cell_type": "markdown",
   "metadata": {},
   "source": [
    "### Authentication \n",
    "\n",
    "Authentication can be a bitch. Either:\n",
    "- `export` account credentials as environment veriable, or;\n",
    "- make the credentials explicit to your project. \n",
    "\n",
    "The latter is preferred, see [docs](https://googleapis.github.io/google-cloud-python/latest/core/auth.html).\n",
    "\n",
    "Also make sure the service account has the right [Firebase access rights](https://firebase.google.com/docs/projects/iam/permissions)"
   ]
  },
  {
   "cell_type": "code",
   "execution_count": null,
   "metadata": {},
   "outputs": [],
   "source": [
    "db = firestore.Client.from_service_account_json(\"../credentials/stairway-firestore-key.json\")"
   ]
  },
  {
   "cell_type": "markdown",
   "metadata": {},
   "source": [
    "### Writing data\n",
    "\n",
    "As there is no schema you can write anything, there are no rules to enforce a specific format. The below code for example creates a new document in a new database if there isn't any yet. If it is existing, it updates the properties instead.\n",
    "\n",
    "The documents are basically JSON, so use key-value pairs.\n",
    "\n",
    "To create or overwrite a single document, use the `set()` method:"
   ]
  },
  {
   "cell_type": "code",
   "execution_count": null,
   "metadata": {},
   "outputs": [],
   "source": [
    "# adding data\n",
    "doc_ref = db.collection(\"test\").document('alovelace')\n",
    "doc_ref.set({\n",
    "    u'first': u'Ada',\n",
    "    u'last': u'Lovelace2',\n",
    "    u'born': 1815\n",
    "})"
   ]
  },
  {
   "cell_type": "markdown",
   "metadata": {},
   "source": [
    "### Reading data"
   ]
  },
  {
   "cell_type": "code",
   "execution_count": null,
   "metadata": {
    "scrolled": true
   },
   "outputs": [],
   "source": [
    "# read data\n",
    "users_ref = db.collection(\"destinations-old\")\n",
    "docs = users_ref.get()\n",
    "\n",
    "for doc in itertools.islice(docs, 5):\n",
    "    print(u'{} => {}'.format(doc.id, doc.to_dict()['name']))"
   ]
  },
  {
   "cell_type": "markdown",
   "metadata": {},
   "source": [
    "Filter using `where` clause, see [examples](https://firebase.google.com/docs/firestore/query-data/queries). "
   ]
  },
  {
   "cell_type": "code",
   "execution_count": null,
   "metadata": {},
   "outputs": [],
   "source": [
    "query = (\n",
    "    db\n",
    "    .collection(\"destinations-old\")\n",
    "    .where('AF', '==', 1)\n",
    "    .get()\n",
    ")\n",
    "\n",
    "for doc in query:\n",
    "    print(u'{} => {}'.format(doc.id, doc.to_dict()['name']))\n"
   ]
  },
  {
   "cell_type": "markdown",
   "metadata": {},
   "source": [
    "As there's no random select function, a [solution](https://stackoverflow.com/questions/46798981/firestore-how-to-get-random-documents-in-a-collection) could be to add a random index to Firestore and limit the result to 1. For demonstration purposes, let's use the feature `osp_importance` as a proxy for random."
   ]
  },
  {
   "cell_type": "code",
   "execution_count": null,
   "metadata": {
    "scrolled": true
   },
   "outputs": [],
   "source": [
    "query = (\n",
    "    db\n",
    "    .collection(\"destinations-old\")\n",
    "    .where('AF', '==', 1)\n",
    "#     .order_by('osp_importance')\n",
    "    .limit(3)\n",
    "    .get()\n",
    ")\n",
    "\n",
    "for doc in itertools.islice(query, 2):\n",
    "    print(u'{} => {}'.format(doc.id, doc.to_dict()['name']))"
   ]
  },
  {
   "cell_type": "markdown",
   "metadata": {},
   "source": [
    "For returning a single document through the API we can use `to_dict()` to return the relevant JSON.\n",
    "\n",
    "You can also return a list of documents. This is relevant for the `explore` tab wherein the user gets to see multiple destinations:"
   ]
  },
  {
   "cell_type": "code",
   "execution_count": null,
   "metadata": {},
   "outputs": [],
   "source": [
    "query = (\n",
    "    db\n",
    "    .collection(\"destinations-old\")\n",
    "    .limit(5)\n",
    "    .get()\n",
    ")\n",
    "\n",
    "{\n",
    "    \"Destinations\": [item.to_dict() for item in list(query)]\n",
    "}"
   ]
  },
  {
   "cell_type": "markdown",
   "metadata": {},
   "source": [
    "### Deleting data\n",
    "\n",
    "See documentation in tutorial"
   ]
  },
  {
   "cell_type": "code",
   "execution_count": null,
   "metadata": {},
   "outputs": [],
   "source": [
    "# removing a single document\n",
    "db.collection(\"test\").document(\"alovelace\").delete()"
   ]
  },
  {
   "cell_type": "markdown",
   "metadata": {},
   "source": [
    "Deleting a collection requires iterating over the documents in it."
   ]
  },
  {
   "cell_type": "code",
   "execution_count": null,
   "metadata": {},
   "outputs": [],
   "source": [
    "def delete_collection(coll_ref, batch_size):\n",
    "    docs = coll_ref.limit(10).get()\n",
    "    deleted = 0\n",
    "\n",
    "    for doc in docs:\n",
    "        print(u'Deleting doc {} => {}'.format(doc.id, doc.to_dict()))\n",
    "        doc.reference.delete()\n",
    "        deleted = deleted + 1\n",
    "\n",
    "    if deleted >= batch_size:\n",
    "        return delete_collection(coll_ref, batch_size)"
   ]
  },
  {
   "cell_type": "code",
   "execution_count": null,
   "metadata": {},
   "outputs": [],
   "source": [
    "delete_collection(db.collection(\"test\"), 5)"
   ]
  },
  {
   "cell_type": "markdown",
   "metadata": {},
   "source": [
    "Done."
   ]
  }
 ],
 "metadata": {
  "kernelspec": {
   "display_name": "Python 3",
   "language": "python",
   "name": "python3"
  },
  "language_info": {
   "codemirror_mode": {
    "name": "ipython",
    "version": 3
   },
   "file_extension": ".py",
   "mimetype": "text/x-python",
   "name": "python",
   "nbconvert_exporter": "python",
   "pygments_lexer": "ipython3",
   "version": "3.7.2"
  }
 },
 "nbformat": 4,
 "nbformat_minor": 2
}
