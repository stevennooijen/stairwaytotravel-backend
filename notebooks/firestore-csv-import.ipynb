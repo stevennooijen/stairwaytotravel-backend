{
 "cells": [
  {
   "cell_type": "markdown",
   "metadata": {},
   "source": [
    "# Importing destinations data into Firestore\n",
    "\n",
    "### Initialize"
   ]
  },
  {
   "cell_type": "code",
   "execution_count": null,
   "metadata": {},
   "outputs": [],
   "source": [
    "from google.cloud import firestore\n",
    "\n",
    "import pandas as pd\n",
    "import json"
   ]
  },
  {
   "cell_type": "code",
   "execution_count": null,
   "metadata": {},
   "outputs": [],
   "source": [
    "db = firestore.Client.from_service_account_json(\"../credentials/stairway-firestore-key.json\")"
   ]
  },
  {
   "cell_type": "markdown",
   "metadata": {},
   "source": [
    "## Batch write\n",
    "\n",
    "We will have to use a [batch writes](https://cloud.google.com/firestore/docs/manage-data/transactions) for importing larger data sets. Each transaction or batch of writes can write to a maximum of 500 documents. \n",
    "\n",
    "NOTE: the [free tier](https://firebase.google.com/docs/firestore/quotas) allows 20.000 writes/deletes per day and up to 1GB of data. So take care to stay below that! Number of free reads per day is 50.000."
   ]
  },
  {
   "cell_type": "code",
   "execution_count": null,
   "metadata": {},
   "outputs": [],
   "source": [
    "dest = pd.read_csv(\"../data/destinations.csv\").sample(30)\n",
    "dest.shape"
   ]
  },
  {
   "cell_type": "code",
   "execution_count": null,
   "metadata": {},
   "outputs": [],
   "source": [
    "# transform to JSON\n",
    "dest_json = json.loads(dest.to_json(orient='index'))"
   ]
  },
  {
   "cell_type": "markdown",
   "metadata": {},
   "source": [
    "Below will create the batch and commit it. Note, if uploading more than 500 in one batch, the dataframe has to be split. Check out this [blog](https://medium.com/google-cloud/firebase-migrating-data-to-cloud-firestore-using-admin-sdk-6a5184f503c2) of a guy who has already done a batch migrate of over 500 items to Firestore to steal his code."
   ]
  },
  {
   "cell_type": "code",
   "execution_count": null,
   "metadata": {
    "scrolled": true
   },
   "outputs": [],
   "source": [
    "# Set the collection\n",
    "dest_collection = db.collection('destinations-old')\n",
    "\n",
    "# Define the batch write\n",
    "batch = db.batch()\n",
    "for (dest_id, dest_values) in dest_json.items():\n",
    "    doc = dest_collection.document(dest_id)\n",
    "    batch.set(doc, dest_values)\n",
    "\n",
    "# Upload it\n",
    "batch.commit()"
   ]
  },
  {
   "cell_type": "markdown",
   "metadata": {},
   "source": [
    "Done."
   ]
  }
 ],
 "metadata": {
  "kernelspec": {
   "display_name": "Python 3",
   "language": "python",
   "name": "python3"
  },
  "language_info": {
   "codemirror_mode": {
    "name": "ipython",
    "version": 3
   },
   "file_extension": ".py",
   "mimetype": "text/x-python",
   "name": "python",
   "nbconvert_exporter": "python",
   "pygments_lexer": "ipython3",
   "version": "3.7.2"
  }
 },
 "nbformat": 4,
 "nbformat_minor": 2
}
