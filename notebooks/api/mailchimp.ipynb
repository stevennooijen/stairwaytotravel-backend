{
 "cells": [
  {
   "cell_type": "markdown",
   "metadata": {},
   "source": [
    "# Demos of mailchimp API"
   ]
  },
  {
   "cell_type": "markdown",
   "metadata": {},
   "source": [
    "### Init\n",
    "\n",
    "Set up credentials and some generic utils."
   ]
  },
  {
   "cell_type": "code",
   "execution_count": null,
   "metadata": {},
   "outputs": [],
   "source": [
    "from json import load, dumps\n",
    "from requests import get, post, patch\n",
    "import pandas as pd\n",
    "import sys\n",
    "sys.path.append('../../')"
   ]
  },
  {
   "cell_type": "code",
   "execution_count": null,
   "metadata": {},
   "outputs": [],
   "source": [
    "from api.resources.utils.utils import create_list_of_likes"
   ]
  },
  {
   "cell_type": "code",
   "execution_count": null,
   "metadata": {},
   "outputs": [],
   "source": [
    "base_url = 'https://us3.api.mailchimp.com/3.0/'\n",
    "MAILCHIMP_CREDENTIALS = '../../api/credentials/mailchimp-key.json'\n",
    "\n",
    "with open(MAILCHIMP_CREDENTIALS, 'r') as f:\n",
    "    MAILCHIMP_KEY = load(f)\n",
    "    \n",
    "headers = {'content-type': \"application/json\"}"
   ]
  },
  {
   "cell_type": "code",
   "execution_count": null,
   "metadata": {},
   "outputs": [],
   "source": [
    "test_email = 'steven.nooijen@hotmail.com'  # 'steven.nooijen@hotmail.com'\n",
    "page_source = 'bucket_list'  # or, 'about'"
   ]
  },
  {
   "cell_type": "markdown",
   "metadata": {},
   "source": [
    "And load data for creating custom HTML"
   ]
  },
  {
   "cell_type": "code",
   "execution_count": null,
   "metadata": {},
   "outputs": [],
   "source": [
    "data_dir = '../../api/data/'\n",
    "file_name = 'wikivoyage_destinations.csv'"
   ]
  },
  {
   "cell_type": "markdown",
   "metadata": {},
   "source": [
    "### 1. Create user through signup form\n",
    "\n",
    "Possibly add hidden field for source: `about` or `bucket_list`. Check out this [doc](https://mailchimp.com/help/determine-webpage-signup-location/?&_ga=1.250466117.290251718.1487777734#Before_you_start).\n",
    "\n",
    "And take into account status `subscribed` versus `non-subscribed` with regards to marketing updates."
   ]
  },
  {
   "cell_type": "code",
   "execution_count": null,
   "metadata": {},
   "outputs": [],
   "source": [
    "payload = {'email_address': test_email, \n",
    "           'status': 'subscribed', \n",
    "           'merge_fields': {\n",
    "               \"SIGNUP\": page_source\n",
    "           }}"
   ]
  },
  {
   "cell_type": "code",
   "execution_count": null,
   "metadata": {},
   "outputs": [],
   "source": [
    "r = post(base_url + 'lists/{}/members/'.format(MAILCHIMP_KEY['audience_id']),\n",
    "         json=payload, headers=headers, auth=('randomstring', MAILCHIMP_KEY['api_key']))\n",
    "\n",
    "print(r.status_code)"
   ]
  },
  {
   "cell_type": "code",
   "execution_count": null,
   "metadata": {},
   "outputs": [],
   "source": [
    "# r.json()"
   ]
  },
  {
   "cell_type": "markdown",
   "metadata": {},
   "source": [
    "400 means bad request, makes sense as it's already there. Looks like:\n",
    "\n",
    "```json\n",
    "{\n",
    "    'title': 'Forgotten Email Not Subscribed',\n",
    "    'status': 400,\n",
    "    'detail': 'stevennooijen@godatadriven.com was permanently deleted and cannot be re-imported. The contact must resubscribe to get back on the list.',\n",
    "    ...\n",
    "}\n",
    "```\n",
    "\n",
    "Or, if the member already exists:\n",
    "\n",
    "```json\n",
    "{\n",
    "    \"title\": \"Member Exists\",\n",
    "    \"status\": 400,\n",
    "    \"detail\": \"steven.nooijen@hotmail.com is already a list member. Use PUT to insert or update list members.\",\n",
    "    ...\n",
    "}\n",
    "```\n",
    "\n",
    "If call succeeds, 201 should be returned. However, confusingly, `status` in the succesfull response object now refers to the marketing status of the contact: \n",
    "\n",
    "```json\n",
    "{\n",
    "    \"id\": \"2a967377119f7d5d3d03d340d8c882f2\",\n",
    "    \"email_address\": \"dude2@gmail.com\",\n",
    "    \"status\": \"subscribed\",\n",
    "    ...\n",
    "}\n",
    "```\n",
    "\n",
    "Anyway, `id` is what we need so return that!"
   ]
  },
  {
   "cell_type": "markdown",
   "metadata": {},
   "source": [
    "### 2. Check if user exists\n",
    "\n",
    "And get contact id if true.\n",
    "\n",
    "Check out example in [docs](https://mailchimp.com/developer/guides/manage-subscribers-with-the-mailchimp-api/)\n",
    "\n",
    "For the address, urist.mcvankab@freddiesjokes.com, make a GET request to /3.0/lists/9e67587f52/members/62eeb292278cc15f5817cb78f7790b08. However, you can also just use the email address instead of the MD5 hash."
   ]
  },
  {
   "cell_type": "code",
   "execution_count": null,
   "metadata": {},
   "outputs": [],
   "source": [
    "r = get(base_url + 'lists/{}/members/{}'.format(MAILCHIMP_KEY['audience_id'], test_email),\n",
    "        auth=('randomstring', MAILCHIMP_KEY['api_key']))\n",
    "\n",
    "r.json()['status']"
   ]
  },
  {
   "cell_type": "code",
   "execution_count": null,
   "metadata": {},
   "outputs": [],
   "source": [
    "r.status_code == 200"
   ]
  },
  {
   "cell_type": "code",
   "execution_count": null,
   "metadata": {},
   "outputs": [],
   "source": [
    "# r.json()"
   ]
  },
  {
   "cell_type": "markdown",
   "metadata": {},
   "source": [
    "If the call returns a 404 response, the contact is not subscribed to the list/audience.\n",
    "\n",
    "```json\n",
    "{\n",
    "    \"title\": \"Resource Not Found\",\n",
    "    \"status\": 404,\n",
    "    \"detail\": \"The requested resource could not be found.\",\n",
    "    ...\n",
    "}\n",
    "```\n",
    "\n",
    "If the call returns a 200 response, check the status field. \n",
    "\n",
    "```json\n",
    "{\n",
    "    \"id\": \"a7b7b06c1ad4ec9f0031cd06692301ee\",\n",
    "    \"email_address\": \"steven.nooijen@hotmail.com\",\n",
    "    \"unique_email_id\": \"d48f7473bd\",\n",
    "    \"status\": \"transactional\",\n",
    "    ...\n",
    "}\n",
    "```"
   ]
  },
  {
   "cell_type": "markdown",
   "metadata": {},
   "source": [
    "### 3. Update contact\n",
    "\n",
    "For example change someones status from `subscribed` to `transactional`. Check [docs](https://mailchimp.com/developer/guides/manage-subscribers-with-the-mailchimp-api/#Create_or_update_a_contact)"
   ]
  },
  {
   "cell_type": "code",
   "execution_count": null,
   "metadata": {},
   "outputs": [],
   "source": [
    "payload = {\n",
    "    \"status\": \"subscribed\"\n",
    "}"
   ]
  },
  {
   "cell_type": "code",
   "execution_count": null,
   "metadata": {},
   "outputs": [],
   "source": [
    "r = patch(base_url + 'lists/{}/members/{}'.format(MAILCHIMP_KEY['audience_id'], test_email),\n",
    "          json=payload, headers=headers, auth=('randomstring', MAILCHIMP_KEY['api_key']))\n",
    "\n",
    "print(r.status_code)"
   ]
  },
  {
   "cell_type": "code",
   "execution_count": null,
   "metadata": {},
   "outputs": [],
   "source": [
    "# r.json()"
   ]
  },
  {
   "cell_type": "markdown",
   "metadata": {},
   "source": [
    "If succesfull, returns a 200 with a json of the new member data including the new `status`:\n",
    "\n",
    "```json\n",
    "{\n",
    "    'id': 'a7b7b06c1ad4ec9f0031cd06692301ee',\n",
    "    'email_address': 'steven.nooijen@hotmail.com',\n",
    "    'status': 'transactional',\n",
    "    ...\n",
    "}\n",
    "```"
   ]
  },
  {
   "cell_type": "markdown",
   "metadata": {},
   "source": [
    "The patch function can also be used to update other attributes of a user. For example, change one specific merge field called `UTIL_HTML` by setting the payload to:"
   ]
  },
  {
   "cell_type": "code",
   "execution_count": null,
   "metadata": {},
   "outputs": [],
   "source": [
    "payload = {\n",
    "    \"merge_fields\": {'UTIL_HTML' : '<ul class=\"mcnTextContent\"> <li>New information. <li>New2 information. <li>New3. </ul>'}\n",
    "}"
   ]
  },
  {
   "cell_type": "markdown",
   "metadata": {},
   "source": [
    "This enables us to insert our own HTML to be used email formatting. For example, let's say we want to insert an unordered list based on 5 likes:"
   ]
  },
  {
   "cell_type": "code",
   "execution_count": null,
   "metadata": {},
   "outputs": [],
   "source": [
    "df = pd.read_csv(data_dir + file_name)\n",
    "likes = df.head()['id'].tolist()\n",
    "\n",
    "likes"
   ]
  },
  {
   "cell_type": "code",
   "execution_count": null,
   "metadata": {},
   "outputs": [],
   "source": [
    "create_list_of_likes(df, likes)"
   ]
  },
  {
   "cell_type": "code",
   "execution_count": null,
   "metadata": {},
   "outputs": [],
   "source": [
    "payload = {\n",
    "    \"merge_fields\": {'UTIL_HTML' : create_list_of_likes(df, likes)}\n",
    "}"
   ]
  },
  {
   "cell_type": "code",
   "execution_count": null,
   "metadata": {},
   "outputs": [],
   "source": [
    "# r = patch(base_url + 'lists/{}/members/{}'.format(MAILCHIMP_KEY['audience_id'], test_email),\n",
    "#           json=payload, headers=headers, auth=('randomstring', MAILCHIMP_KEY['api_key']))\n",
    "\n",
    "# print(r.status_code)"
   ]
  },
  {
   "cell_type": "code",
   "execution_count": null,
   "metadata": {},
   "outputs": [],
   "source": [
    "# r.json()"
   ]
  },
  {
   "cell_type": "markdown",
   "metadata": {},
   "source": [
    "### 4. Member events\n",
    "\n",
    "Register someones liked destinations.\n",
    "\n",
    "Docs [here](https://mailchimp.com/developer/reference/lists/list-members/list-member-events/)"
   ]
  },
  {
   "cell_type": "code",
   "execution_count": null,
   "metadata": {},
   "outputs": [],
   "source": [
    "liked_destinations = [1, 2, 'somePlace', 'test']\n",
    "\n",
    "payload = {\"name\": \"liked_destinations\",\n",
    "           \"properties\": {\n",
    "               \"destinations\": dumps(liked_destinations),\n",
    "           }}\n",
    "headers = {'content-type': \"application/json\"}"
   ]
  },
  {
   "cell_type": "code",
   "execution_count": null,
   "metadata": {},
   "outputs": [],
   "source": [
    "r = post(base_url + 'lists/{}/members/{}/events'.format(MAILCHIMP_KEY['audience_id'], \n",
    "                                                                               test_email),\n",
    "         json=payload, headers=headers, auth=('randomstring', MAILCHIMP_KEY['api_key']))\n",
    "\n",
    "print(r.status_code)"
   ]
  },
  {
   "cell_type": "markdown",
   "metadata": {},
   "source": [
    "Works!"
   ]
  },
  {
   "cell_type": "markdown",
   "metadata": {},
   "source": [
    "Done."
   ]
  }
 ],
 "metadata": {
  "kernelspec": {
   "display_name": "Python 3",
   "language": "python",
   "name": "python3"
  },
  "language_info": {
   "codemirror_mode": {
    "name": "ipython",
    "version": 3
   },
   "file_extension": ".py",
   "mimetype": "text/x-python",
   "name": "python",
   "nbconvert_exporter": "python",
   "pygments_lexer": "ipython3",
   "version": "3.7.2"
  }
 },
 "nbformat": 4,
 "nbformat_minor": 2
}
