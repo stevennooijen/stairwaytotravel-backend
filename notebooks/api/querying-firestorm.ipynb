{
 "cells": [
  {
   "cell_type": "markdown",
   "metadata": {},
   "source": [
    "# Querying firestorm at random\n",
    "\n",
    "### Initialize"
   ]
  },
  {
   "cell_type": "code",
   "execution_count": null,
   "metadata": {},
   "outputs": [],
   "source": [
    "from google.cloud import firestore\n",
    "\n",
    "import pandas as pd\n",
    "import itertools\n",
    "import numpy as np\n",
    "from scipy.stats import norm\n",
    "import matplotlib.pyplot as plt\n",
    "\n",
    "%matplotlib inline"
   ]
  },
  {
   "cell_type": "code",
   "execution_count": null,
   "metadata": {},
   "outputs": [],
   "source": [
    "db = firestore.Client.from_service_account_json(\"../credentials/stairway-firestore-key.json\")"
   ]
  },
  {
   "cell_type": "markdown",
   "metadata": {},
   "source": [
    "## At random\n",
    "\n",
    "Firestore doesn't have a random query functionality, so you will have to implement a randomizer yourself. There's two ways this could be done:\n",
    "1. If you know the distribution of your document ids, draw randomly from there and query documents based on their id directly.\n",
    "2. Choose some feature of your documents, draw a random number from it and use it to subset the data. Then sort the result and retrieve the top k documents (or sort descending if nothing found).\n"
   ]
  },
  {
   "cell_type": "markdown",
   "metadata": {},
   "source": [
    "### Implementation of random 1\n",
    "\n",
    "Showstopper: can Firestorm query multiple documents at once based on document id? If not, a for loop is required to fetch all destinations (=> multiple queries instead of one).\n",
    "\n",
    "TODO: investigate!"
   ]
  },
  {
   "cell_type": "markdown",
   "metadata": {},
   "source": [
    "### Implementation of random 2\n",
    "\n",
    "For this, we need to select a feature first and look at its distribution to start drawing random numbers from."
   ]
  },
  {
   "cell_type": "code",
   "execution_count": null,
   "metadata": {},
   "outputs": [],
   "source": [
    "dest = pd.read_csv(\"../data/destinations.csv\")\n",
    "dest = dest.loc[dest['succes'] == 1]  # only use OK destination data\n",
    "dest.index = dest['id']  # set firestorm document id equal to stairway destination id\n",
    "dest.shape"
   ]
  },
  {
   "cell_type": "markdown",
   "metadata": {},
   "source": [
    "For example, `osp_importance`:"
   ]
  },
  {
   "cell_type": "code",
   "execution_count": null,
   "metadata": {},
   "outputs": [],
   "source": [
    "feature = 'osp_importance'\n",
    "\n",
    "# Fit a normal distribution to the data:\n",
    "mu, std = norm.fit(dest[feature])\n",
    "\n",
    "# Plot the histogram.\n",
    "plt.hist(dest[feature], density=True, alpha=0.6)\n",
    "\n",
    "# Plot the PDF.\n",
    "xmin, xmax = plt.xlim()\n",
    "x = np.linspace(xmin, xmax, 100)\n",
    "p = norm.pdf(x, mu, std)\n",
    "plt.plot(x, p, 'k', linewidth=2)\n",
    "title = \"Fit results: mu = %.2f,  std = %.2f\" % (mu, std)\n",
    "plt.title(title)\n",
    "\n",
    "plt.show()"
   ]
  },
  {
   "cell_type": "markdown",
   "metadata": {},
   "source": [
    "Now we can randomly pick some kinde of number from this distribution by:"
   ]
  },
  {
   "cell_type": "code",
   "execution_count": null,
   "metadata": {},
   "outputs": [],
   "source": [
    "np.random.normal(mu, std)"
   ]
  },
  {
   "cell_type": "markdown",
   "metadata": {},
   "source": [
    "Which means the final querying of firestorm would look as follows. \n",
    "\n",
    "**Note:** to combine the equality operator (`==`) with a range or array-contains clause (`<, <=, >, >=, or array_contains`), make sure to create a composite index (one for each `continent` + `osp_importance`). Also, you cannot do range filters on two variables. See query docs [here](https://firebase.google.com/docs/firestore/query-data/queries)."
   ]
  },
  {
   "cell_type": "code",
   "execution_count": null,
   "metadata": {},
   "outputs": [],
   "source": [
    "query = (\n",
    "    db\n",
    "    .collection(\"destinations\")\n",
    "    .where('EU', '==', 1)\n",
    "    .where('osp_importance', '<=', np.random.normal(mu, std))\n",
    "    .order_by('osp_importance', direction=firestore.Query.DESCENDING)\n",
    "    .limit(3)\n",
    "    .get()\n",
    ")\n",
    "\n",
    "for doc in itertools.islice(query, 2):\n",
    "    print(u'{} => {}'.format(doc.id, doc.to_dict()['name']))"
   ]
  },
  {
   "cell_type": "markdown",
   "metadata": {},
   "source": [
    "Next steps: \n",
    "- Probably the distribution of `osp_importance` is highly variable per continent. Maybe fit something like this for each continent? \n",
    "- The `<=` filter in combination with descending probably causes the top `osp_importance` destinations to be never selected even though you might want these to be selected the most. Think about whether this is desired."
   ]
  },
  {
   "cell_type": "markdown",
   "metadata": {},
   "source": [
    "## Ultimate query - assessing Firestorm's fit\n",
    "\n",
    "### Example Airbnb\n",
    "\n",
    "It is quite possible that we eventually end up with a similar query as Airbnb makes:\n",
    "\n",
    "https://www.airbnb.com/s/Barcelona--Spain/homes?refinement_paths%5B%5D=%2Fhomes\n",
    "- &current_tab_id=home_tab\n",
    "- &selected_tab_id=home_tab\n",
    "- &metadata_only=false\n",
    "- &version=1.7.0\n",
    "- &items_per_grid=18\n",
    "- &screen_size=large\n",
    "- &map_toggle=true\n",
    "- &search_type=unknown\n",
    "- &hide_dates_and_guests_filters=false\n",
    "- &ne_lat=43.97363914475397&ne_lng=5.173845810128569&sw_lat=38.69043481932856&sw_lng=-0.5720037992464313\n",
    "- &zoom=7\n",
    "- &search_by_map=true\n",
    "- &checkin=2020-05-09\n",
    "- &checkout=2020-05-10\n",
    "- &adults=16\n",
    "- &amenities%5B%5D=25&amenities%5B%5D=9\n",
    "- &property_type_id%5B%5D=2&property_type_id%5B%5D=1\n",
    "- &price_min=83&price_max=451\n",
    "\n",
    "From here, we can distill some simple queries (`adults=16`), some range queries `price_min= & price_max=` and some array filters (`amenities= & amenities=`) - that could possibly be brought down to simple select queries.\n",
    "\n",
    "### Own criteria\n",
    "\n",
    "Eventually we will need to be able to query on quite some criteria ourselves:\n",
    "\n",
    "* geolocation: `ne_lat`, `ne_lng`, `sw_lat`, `sw_lng`\n",
    "    - range query based on lat & lon?\n",
    "    - or, filter query based on geohash? \n",
    "* price\n",
    "    - range query based on monetary amount: `budget_min`, `budget_max`\n",
    "    - or, [in](https://firebase.google.com/docs/firestore/query-data/queries#in_and_array-contains-any) query to check if destination budget type (like average) is in one of the requested by user (average - and thus also cheap): `budget_class`?\n",
    "* period of travel\n",
    "    - in combination with other featuers like **weather**, \n",
    "    - range query of travel dates `checkin`, `checkout`,\n",
    "    - filter on `month` or `period` => possibly even select multiple months\n",
    "* weather\n",
    "    - given a period or all months selected:\n",
    "        - range query based on temperature: `temp_min`, `temp_max`\n",
    "        - filter query based on weather type (sunny, rainy, cloudy, snow...) `temp_type`?\n",
    "* activities\n",
    "    - [array contains](https://firebase.google.com/docs/firestore/query-data/queries#array_membership) query, check if user requested activities are in destination activities array: `activities`\n",
    "    - or multiple single filters (like airbnb): `activity`\n",
    "* passport\n",
    "* safety requirements\n",
    "\n",
    "Most of these will be 'hard' filters that **must** be applied.\n",
    "\n",
    "However, within this selection, we also want to do an **ordering** of the destinations that are most likely to be a fit with the end-user.\n",
    "\n",
    "### Recommendation queries in old code\n",
    "\n",
    "For recommendation queries we need to rank destinations based on some ordering. Based on the user profile and/or request, this ordering will be different and calculations will need to be done. \n",
    "\n",
    "For example in our old code, sorting is done by summing feature scores for all selected features by the end-user and sorting on that:\n",
    "\n",
    "query for recommendations in [`dao/bm25Recommendations.py`](https://github.com/Braamling/project_travel/blob/master/REST_API/project_travel/dao/bm25Recommendations.py)\n",
    "\n",
    "```python\n",
    "def query(self, columns, user_id, limit, offset):\n",
    "    dbHelper = DbHelpers()\n",
    "\n",
    "    order_by = dbHelper.build_feature_score_filter(columns)\n",
    "\n",
    "    query = \"SELECT ds.destination_id FROM (`destination_scores` ds\" +\\\n",
    "            \" INNER JOIN `destinations` d ON succes > 0 AND \" +\\\n",
    "            \"ds.destination_id = d.id) LEFT JOIN `wishlist` w \" +\\\n",
    "            \"ON d.id = w.destination_id AND w.user_id = %s \" +\\\n",
    "            \"WHERE w.destination_id is NULL ORDER BY \" +\\\n",
    "            \"( \" + order_by + \" ) DESC LIMIT %s OFFSET %s\"\n",
    "```\n",
    "\n",
    "where the `order_by` constructs the combined feature score in [`dao/dbHelpers.py`](https://github.com/Braamling/project_travel/blob/master/REST_API/project_travel/dao/dbHelpers.py):\n",
    "\n",
    "```python\n",
    "def build_feature_score_filter(self, features):\n",
    "    valid_columns = self.get_column_names('destination_scores')\n",
    "    order_by = \"( \"\n",
    "    for feature in features[:-1]:\n",
    "        if feature in valid_columns:\n",
    "            order_by += feature + \" + \"\n",
    "\n",
    "    if features[-1] in valid_columns:\n",
    "        order_by += features[-1] + \" )\"\n",
    "    else:\n",
    "        order_by += \" )\"\n",
    "\n",
    "    return order_by\n",
    "```\n",
    "\n",
    "This demands a bit of flexibility of your system.\n",
    "\n",
    "### Get requests in old code\n",
    "\n",
    "Given that we have applied all of the above filters and got a destination id, this is how we used to retrieve the destination info: \n",
    "\n",
    "join and receive all info from 1 destination in [`classes/destination.py`](https://github.com/Braamling/project_travel/blob/master/REST_API/project_travel/classes/destination.py)\n",
    "\n",
    "```python\n",
    "# Join and recieve all information about a destination.\n",
    "    query = \"SELECT d.*, r.*, t.*, b.* FROM `destinations` d INNER JOIN\" +\\\n",
    "            \" `rain` r ON d.id = %s AND d.temperature_id = \" +\\\n",
    "            \" r.id INNER JOIN `temperatures` t ON d.temperature_id = t.id\" +\\\n",
    "            \" INNER JOIN `attributes` a ON a.id = d.attr_id \" +\\\n",
    "            \" INNER JOIN `budget` b on b.id = d.budget_id\"\n",
    "\n",
    "    cur.execute(query, (destination_id))\n",
    "```\n",
    "\n",
    "It get's a bit more complicated if you want to take into account what destinations the user has already looked at. For example, this is how we got visited destinations in [`dao/destinations.py`](https://github.com/Braamling/project_travel/blob/master/REST_API/project_travel/dao/destinations.py)\n",
    "\n",
    "```python\n",
    "def get_visited(self, user_id):\n",
    "    cur = self.get_cursor()\n",
    "\n",
    "    query = \"SELECT d.id, d.name, d.country_name, d.longitude, d.latitude FROM `visited` v INNER JOIN \" +\\\n",
    "            \" `users` u ON u.id = %s AND u.id = v.user_id INNER JOIN \" +\\\n",
    "            \"`destinations` d ON d.id = v.destination_id WHERE v.status = 'VISITED'\"\n",
    "\n",
    "    cur.execute(query, (user_id))\n",
    "```\n",
    "\n",
    "This is obviously not the hardest part. But it will depend on where you store the user feedback.\n",
    "\n",
    "### Conclusion: fit with Firestore\n",
    "\n",
    "Firebase has a couple of limitations with regards to querying:\n",
    "- You can use only one `in` or `array-contains-any` clause per query. You can't use both `in` and `array-contains-any` in the same query.\n",
    "- You can combine `array-contains` with `in` but not with `array-contains-any`.\n",
    "- You can only perform range comparisons (`<, <=, >, >=`) on a single field, and you can include at most one `array-contains` or `array-contains-any`clause in a compound query:\n",
    "\n",
    "This means that if we want to continue with Firebase, we need to:\n",
    "* Use **geohashing** for the 'hard' filtering based on location\n",
    "* Wether retrieving all destinations from the 'hard' filter and calculating the smart stuff in the Flask app is good enough in terms of performance.\n",
    "    - compared to Bram's SQL code that works with an offset you will be retrieving significantly more data from the database each time Flask calls the DB... Can make it slow + expensive.\n",
    "* Think about how to save user feedback (watched/likes/dislikes) and combine it in recommendation and bucketlist queries\n",
    "\n",
    "Conclusion: it is probably wise to abandon Firestore and think of an alternative."
   ]
  },
  {
   "cell_type": "markdown",
   "metadata": {},
   "source": [
    "Done."
   ]
  }
 ],
 "metadata": {
  "kernelspec": {
   "display_name": "Python 3",
   "language": "python",
   "name": "python3"
  },
  "language_info": {
   "codemirror_mode": {
    "name": "ipython",
    "version": 3
   },
   "file_extension": ".py",
   "mimetype": "text/x-python",
   "name": "python",
   "nbconvert_exporter": "python",
   "pygments_lexer": "ipython3",
   "version": "3.7.2"
  }
 },
 "nbformat": 4,
 "nbformat_minor": 2
}
