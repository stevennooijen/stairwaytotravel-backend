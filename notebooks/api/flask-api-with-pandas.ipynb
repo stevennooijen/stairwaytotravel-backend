{
 "cells": [
  {
   "cell_type": "markdown",
   "metadata": {},
   "source": [
    "# Create queries for simple flask api with pandas\n",
    "\n",
    "Goal is to replace the call to the Firestore Database with a fetch from local disk.\n",
    "\n",
    "I.e. we will save a csv file on the app engine machine."
   ]
  },
  {
   "cell_type": "code",
   "execution_count": null,
   "metadata": {},
   "outputs": [],
   "source": [
    "%load_ext autoreload\n",
    "%autoreload 2"
   ]
  },
  {
   "cell_type": "code",
   "execution_count": null,
   "metadata": {},
   "outputs": [],
   "source": [
    "import pandas as pd\n",
    "import sys\n",
    "sys.path.append('../../')"
   ]
  },
  {
   "cell_type": "code",
   "execution_count": null,
   "metadata": {},
   "outputs": [],
   "source": [
    "data_dir = '../../data/wikivoyage/processed/'\n",
    "# folder where data should live for flask API\n",
    "output_data_dir = '../../api/data/'\n",
    "\n",
    "file_name = 'wikivoyage_destinations.csv'"
   ]
  },
  {
   "cell_type": "markdown",
   "metadata": {},
   "source": [
    "### Read data & prep for front-end\n",
    "\n",
    "**TODO:** Fix all these small things so that file can be read in normally\n",
    "\n",
    "Make sure feature names are the same as used in React"
   ]
  },
  {
   "cell_type": "code",
   "execution_count": null,
   "metadata": {},
   "outputs": [],
   "source": [
    "# df = (\n",
    "#     pd.read_csv(data_dir + file_name)\n",
    "#     .drop(columns=['nr_tokens', 'ispartof', 'parentid'])\n",
    "#     .set_index('id', drop=False)\n",
    "#     # need to do this to convert numpy int and float to native data types\n",
    "#     .astype('object')\n",
    "# )\n",
    "# df.head()"
   ]
  },
  {
   "cell_type": "code",
   "execution_count": null,
   "metadata": {},
   "outputs": [],
   "source": [
    "# write 'approved' file to the api folder\n",
    "# df.to_csv(output_data_dir + file_name, index=False)"
   ]
  },
  {
   "cell_type": "markdown",
   "metadata": {},
   "source": [
    "Alternatively, read the already prepared data:"
   ]
  },
  {
   "cell_type": "code",
   "execution_count": null,
   "metadata": {},
   "outputs": [],
   "source": [
    "df = pd.read_csv(output_data_dir + file_name)"
   ]
  },
  {
   "cell_type": "markdown",
   "metadata": {},
   "source": [
    "## Row lookup\n",
    "\n",
    "Read with index column on `pageid`, then use `.loc`"
   ]
  },
  {
   "cell_type": "code",
   "execution_count": null,
   "metadata": {
    "scrolled": true
   },
   "outputs": [],
   "source": [
    "df.loc[33].to_dict()"
   ]
  },
  {
   "cell_type": "markdown",
   "metadata": {},
   "source": [
    "To fetch random:"
   ]
  },
  {
   "cell_type": "code",
   "execution_count": null,
   "metadata": {},
   "outputs": [],
   "source": [
    "df.sample(1).iloc[0].to_dict()"
   ]
  },
  {
   "cell_type": "markdown",
   "metadata": {},
   "source": [
    "## Build queries\n",
    "\n",
    "### based on geo\n",
    "\n",
    "ne_lat, ne_lng, sw_lat, and sw_lng will be given:\n",
    "\n",
    "`&ne_lat=43.97363914475397&ne_lng=5.173845810128569&sw_lat=38.69043481932856&sw_lng=-0.5720037992464313`"
   ]
  },
  {
   "cell_type": "code",
   "execution_count": null,
   "metadata": {},
   "outputs": [],
   "source": [
    "ne_lat, ne_lng, sw_lat, sw_lng = 43.9, 5.17, 38.7, -0.57"
   ]
  },
  {
   "cell_type": "markdown",
   "metadata": {},
   "source": [
    "Apply filter:"
   ]
  },
  {
   "cell_type": "code",
   "execution_count": null,
   "metadata": {},
   "outputs": [],
   "source": [
    "from api.resources.utils.selection import filter_on_geolocation"
   ]
  },
  {
   "cell_type": "code",
   "execution_count": null,
   "metadata": {
    "scrolled": false
   },
   "outputs": [],
   "source": [
    "(\n",
    "    df\n",
    "    .pipe(filter_on_geolocation, ne_lat, ne_lng, sw_lat, sw_lng)\n",
    ").head()"
   ]
  },
  {
   "cell_type": "markdown",
   "metadata": {},
   "source": [
    "### Sampling`\n",
    "\n",
    "What to do if the area is too small? Need to handle an error as there is no data available!"
   ]
  },
  {
   "cell_type": "code",
   "execution_count": null,
   "metadata": {},
   "outputs": [],
   "source": [
    "ne_lat, ne_lng, sw_lat, sw_lng = 48.9, 2.47, 48.82, 2.22"
   ]
  },
  {
   "cell_type": "markdown",
   "metadata": {},
   "source": [
    "There are two cases: \n",
    "\n",
    "1. Really nothing can be found\n",
    "2. Only a small number can be found, for example less then the 10 requested by `sample(10)`\n",
    "\n",
    "Rather than sampling, let's try a technique where we sort the dataframe at random, and then pick the top x observations. This way, we can also work with offsets if we preserve the ordering. Preserve the ordering by setting a random seed."
   ]
  },
  {
   "cell_type": "code",
   "execution_count": null,
   "metadata": {
    "scrolled": true
   },
   "outputs": [],
   "source": [
    "(\n",
    "    df\n",
    "    .pipe(filter_on_geolocation, ne_lat, ne_lng, sw_lat, sw_lng)\n",
    ").sample(frac=1, random_state=1234)"
   ]
  },
  {
   "cell_type": "markdown",
   "metadata": {},
   "source": [
    "### Error handling\n",
    "\n",
    "Now, what is returned in case no records are found?"
   ]
  },
  {
   "cell_type": "code",
   "execution_count": null,
   "metadata": {},
   "outputs": [],
   "source": [
    "ne_lat, ne_lng, sw_lat, sw_lng = 48.8, 2.2, 48.82, 2.22\n",
    "\n",
    "try:\n",
    "    (\n",
    "        df\n",
    "        .pipe(filter_on_geolocation, ne_lat, ne_lng, sw_lat, sw_lng)\n",
    "    ).sample(frac=1, random_state=1234)\n",
    "except ValueError:\n",
    "    print(\"Oops, ValueError! Must have at least one record. Return empty list?\")"
   ]
  },
  {
   "cell_type": "markdown",
   "metadata": {},
   "source": [
    "### Offsets\n",
    "\n",
    "Select subset of results when working with an offset."
   ]
  },
  {
   "cell_type": "code",
   "execution_count": null,
   "metadata": {},
   "outputs": [],
   "source": [
    "n = 10\n",
    "offset = 0\n",
    "n_results = 3\n",
    "subset = df.sample(frac=1, random_state=1234).head(n)"
   ]
  },
  {
   "cell_type": "code",
   "execution_count": null,
   "metadata": {},
   "outputs": [],
   "source": [
    "subset"
   ]
  },
  {
   "cell_type": "code",
   "execution_count": null,
   "metadata": {},
   "outputs": [],
   "source": [
    "subset.iloc[offset:offset+n_results]"
   ]
  },
  {
   "cell_type": "markdown",
   "metadata": {},
   "source": [
    "Works."
   ]
  },
  {
   "cell_type": "markdown",
   "metadata": {},
   "source": [
    "### Weighted sampling\n",
    "\n",
    "In order to get some randomness, but still sample more important destinations first, use weights created in one of the feature engineering notebooks."
   ]
  },
  {
   "cell_type": "code",
   "execution_count": null,
   "metadata": {},
   "outputs": [],
   "source": [
    "(\n",
    "    df\n",
    "    .sample(frac=1, random_state=1234, weights='weight')\n",
    "    .head(3)\n",
    ")"
   ]
  },
  {
   "cell_type": "markdown",
   "metadata": {},
   "source": [
    "### Convert to json\n",
    "\n",
    "Provide the places, as well as some metadata."
   ]
  },
  {
   "cell_type": "code",
   "execution_count": null,
   "metadata": {},
   "outputs": [],
   "source": [
    "from api.resources.utils.utils import prettify_n_results"
   ]
  },
  {
   "cell_type": "code",
   "execution_count": null,
   "metadata": {},
   "outputs": [],
   "source": [
    "# example of prettifying an X number of results for the front-end\n",
    "prettify_n_results(3500)"
   ]
  },
  {
   "cell_type": "code",
   "execution_count": null,
   "metadata": {},
   "outputs": [],
   "source": [
    "subset = df.sample(2).to_dict(orient='records')\n",
    "\n",
    "{\n",
    "    \"Results\": len(subset),\n",
    "    \"Results_string\": prettify_n_results(len(subset)),\n",
    "    \"Destinations\": subset\n",
    "}"
   ]
  },
  {
   "cell_type": "markdown",
   "metadata": {},
   "source": [
    "Done."
   ]
  }
 ],
 "metadata": {
  "kernelspec": {
   "display_name": "Python 3",
   "language": "python",
   "name": "python3"
  },
  "language_info": {
   "codemirror_mode": {
    "name": "ipython",
    "version": 3
   },
   "file_extension": ".py",
   "mimetype": "text/x-python",
   "name": "python",
   "nbconvert_exporter": "python",
   "pygments_lexer": "ipython3",
   "version": "3.7.2"
  }
 },
 "nbformat": 4,
 "nbformat_minor": 2
}
