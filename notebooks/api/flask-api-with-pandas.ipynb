{
 "cells": [
  {
   "cell_type": "markdown",
   "metadata": {},
   "source": [
    "# Create queries for simple flask api with pandas\n",
    "\n",
    "Goal is to replace the call to the Firestore Database with a fetch from local disk.\n",
    "\n",
    "I.e. we will save a csv file on the app engine machine."
   ]
  },
  {
   "cell_type": "code",
   "execution_count": 22,
   "metadata": {},
   "outputs": [
    {
     "name": "stdout",
     "output_type": "stream",
     "text": [
      "The autoreload extension is already loaded. To reload it, use:\n",
      "  %reload_ext autoreload\n"
     ]
    }
   ],
   "source": [
    "%load_ext autoreload\n",
    "%autoreload 2"
   ]
  },
  {
   "cell_type": "code",
   "execution_count": 23,
   "metadata": {},
   "outputs": [],
   "source": [
    "import pandas as pd\n",
    "import sys\n",
    "sys.path.append('../../')"
   ]
  },
  {
   "cell_type": "code",
   "execution_count": 24,
   "metadata": {},
   "outputs": [],
   "source": [
    "api_data_dir = '../../api/data/'\n",
    "\n",
    "file_name = 'wikivoyage_destinations.csv'\n",
    "features_file_name = 'wikivoyage_features.csv'\n",
    "features_types = 'wikivoyage_features_types.csv'"
   ]
  },
  {
   "cell_type": "markdown",
   "metadata": {},
   "source": [
    "### Read data\n",
    "\n",
    "Read data that has been prepared for the frontend by `feature_engineering.py`\n"
   ]
  },
  {
   "cell_type": "code",
   "execution_count": 25,
   "metadata": {},
   "outputs": [],
   "source": [
    "df = pd.read_csv(api_data_dir + file_name).set_index(\"id\", drop=False)\n",
    "df_features = pd.read_csv(api_data_dir + features_file_name).set_index(\"id\")\n",
    "df_feature_types = pd.read_csv(api_data_dir + features_types)"
   ]
  },
  {
   "cell_type": "markdown",
   "metadata": {},
   "source": [
    "## Row lookup\n",
    "\n",
    "Read with index column on `pageid`, then use `.loc`"
   ]
  },
  {
   "cell_type": "code",
   "execution_count": null,
   "metadata": {
    "scrolled": true
   },
   "outputs": [],
   "source": [
    "df.loc[146019].to_dict()"
   ]
  },
  {
   "cell_type": "markdown",
   "metadata": {},
   "source": [
    "To fetch random:"
   ]
  },
  {
   "cell_type": "code",
   "execution_count": null,
   "metadata": {},
   "outputs": [],
   "source": [
    "df.sample(1).iloc[0].to_dict()"
   ]
  },
  {
   "cell_type": "markdown",
   "metadata": {},
   "source": [
    "## Build queries\n",
    "\n",
    "### based on geo\n",
    "\n",
    "ne_lat, ne_lng, sw_lat, and sw_lng will be given:\n",
    "\n",
    "`&ne_lat=43.97363914475397&ne_lng=5.173845810128569&sw_lat=38.69043481932856&sw_lng=-0.5720037992464313`"
   ]
  },
  {
   "cell_type": "code",
   "execution_count": 26,
   "metadata": {},
   "outputs": [],
   "source": [
    "ne_lat, ne_lng, sw_lat, sw_lng = 43.9, 5.17, 38.7, -0.57"
   ]
  },
  {
   "cell_type": "markdown",
   "metadata": {},
   "source": [
    "Apply filter:"
   ]
  },
  {
   "cell_type": "code",
   "execution_count": 27,
   "metadata": {},
   "outputs": [],
   "source": [
    "from api.resources.utils.selection import filter_on_geolocation"
   ]
  },
  {
   "cell_type": "code",
   "execution_count": 28,
   "metadata": {
    "scrolled": false
   },
   "outputs": [
    {
     "data": {
      "text/html": [
       "<div>\n",
       "<style scoped>\n",
       "    .dataframe tbody tr th:only-of-type {\n",
       "        vertical-align: middle;\n",
       "    }\n",
       "\n",
       "    .dataframe tbody tr th {\n",
       "        vertical-align: top;\n",
       "    }\n",
       "\n",
       "    .dataframe thead th {\n",
       "        text-align: right;\n",
       "    }\n",
       "</style>\n",
       "<table border=\"1\" class=\"dataframe\">\n",
       "  <thead>\n",
       "    <tr style=\"text-align: right;\">\n",
       "      <th></th>\n",
       "      <th>id</th>\n",
       "      <th>wiki_id</th>\n",
       "      <th>name</th>\n",
       "      <th>status</th>\n",
       "      <th>type</th>\n",
       "      <th>lat</th>\n",
       "      <th>lng</th>\n",
       "      <th>country</th>\n",
       "      <th>weight</th>\n",
       "      <th>nr_tokens_norm</th>\n",
       "    </tr>\n",
       "    <tr>\n",
       "      <th>id</th>\n",
       "      <th></th>\n",
       "      <th></th>\n",
       "      <th></th>\n",
       "      <th></th>\n",
       "      <th></th>\n",
       "      <th></th>\n",
       "      <th></th>\n",
       "      <th></th>\n",
       "      <th></th>\n",
       "      <th></th>\n",
       "    </tr>\n",
       "  </thead>\n",
       "  <tbody>\n",
       "    <tr>\n",
       "      <th>902784</th>\n",
       "      <td>902784</td>\n",
       "      <td>370</td>\n",
       "      <td>Aigues-Mortes</td>\n",
       "      <td>outline</td>\n",
       "      <td>city</td>\n",
       "      <td>43.566700</td>\n",
       "      <td>4.200000</td>\n",
       "      <td>France</td>\n",
       "      <td>2455</td>\n",
       "      <td>0.005104</td>\n",
       "    </tr>\n",
       "    <tr>\n",
       "      <th>690103</th>\n",
       "      <td>690103</td>\n",
       "      <td>379</td>\n",
       "      <td>Ainsa</td>\n",
       "      <td>outline</td>\n",
       "      <td>city</td>\n",
       "      <td>42.416220</td>\n",
       "      <td>0.138190</td>\n",
       "      <td>Spain</td>\n",
       "      <td>598</td>\n",
       "      <td>0.001732</td>\n",
       "    </tr>\n",
       "    <tr>\n",
       "      <th>111488</th>\n",
       "      <td>111488</td>\n",
       "      <td>489</td>\n",
       "      <td>Alaigne</td>\n",
       "      <td>outline</td>\n",
       "      <td>city</td>\n",
       "      <td>43.100000</td>\n",
       "      <td>2.083300</td>\n",
       "      <td>France</td>\n",
       "      <td>14550</td>\n",
       "      <td>0.017680</td>\n",
       "    </tr>\n",
       "    <tr>\n",
       "      <th>240854</th>\n",
       "      <td>240854</td>\n",
       "      <td>594</td>\n",
       "      <td>Alcudia</td>\n",
       "      <td>outline</td>\n",
       "      <td>city</td>\n",
       "      <td>39.850833</td>\n",
       "      <td>3.120833</td>\n",
       "      <td>Spain</td>\n",
       "      <td>16001</td>\n",
       "      <td>0.018865</td>\n",
       "    </tr>\n",
       "    <tr>\n",
       "      <th>423393</th>\n",
       "      <td>423393</td>\n",
       "      <td>737</td>\n",
       "      <td>Almàssera</td>\n",
       "      <td>usable</td>\n",
       "      <td>city</td>\n",
       "      <td>39.511667</td>\n",
       "      <td>-0.356111</td>\n",
       "      <td>Spain</td>\n",
       "      <td>3263</td>\n",
       "      <td>0.006258</td>\n",
       "    </tr>\n",
       "  </tbody>\n",
       "</table>\n",
       "</div>"
      ],
      "text/plain": [
       "            id  wiki_id           name   status  type        lat       lng  \\\n",
       "id                                                                           \n",
       "902784  902784      370  Aigues-Mortes  outline  city  43.566700  4.200000   \n",
       "690103  690103      379          Ainsa  outline  city  42.416220  0.138190   \n",
       "111488  111488      489        Alaigne  outline  city  43.100000  2.083300   \n",
       "240854  240854      594        Alcudia  outline  city  39.850833  3.120833   \n",
       "423393  423393      737      Almàssera   usable  city  39.511667 -0.356111   \n",
       "\n",
       "       country  weight  nr_tokens_norm  \n",
       "id                                      \n",
       "902784  France    2455        0.005104  \n",
       "690103   Spain     598        0.001732  \n",
       "111488  France   14550        0.017680  \n",
       "240854   Spain   16001        0.018865  \n",
       "423393   Spain    3263        0.006258  "
      ]
     },
     "execution_count": 28,
     "metadata": {},
     "output_type": "execute_result"
    }
   ],
   "source": [
    "(\n",
    "    df\n",
    "    .pipe(filter_on_geolocation, ne_lat, ne_lng, sw_lat, sw_lng)\n",
    ").head()"
   ]
  },
  {
   "cell_type": "markdown",
   "metadata": {},
   "source": [
    "### Sampling`\n",
    "\n",
    "What to do if the area is too small? Need to handle an error as there is no data available!"
   ]
  },
  {
   "cell_type": "code",
   "execution_count": null,
   "metadata": {},
   "outputs": [],
   "source": [
    "ne_lat, ne_lng, sw_lat, sw_lng = 48.9, 2.47, 48.82, 2.22"
   ]
  },
  {
   "cell_type": "markdown",
   "metadata": {},
   "source": [
    "There are two cases: \n",
    "\n",
    "1. Really nothing can be found\n",
    "2. Only a small number can be found, for example less then the 10 requested by `sample(10)`\n",
    "\n",
    "Rather than sampling, let's try a technique where we sort the dataframe at random, and then pick the top x observations. This way, we can also work with offsets if we preserve the ordering. Preserve the ordering by setting a random seed."
   ]
  },
  {
   "cell_type": "code",
   "execution_count": null,
   "metadata": {
    "scrolled": true
   },
   "outputs": [],
   "source": [
    "(\n",
    "    df\n",
    "    .pipe(filter_on_geolocation, ne_lat, ne_lng, sw_lat, sw_lng)\n",
    ").sample(frac=1, random_state=1234)"
   ]
  },
  {
   "cell_type": "markdown",
   "metadata": {},
   "source": [
    "### Error handling\n",
    "\n",
    "Now, what is returned in case no records are found?"
   ]
  },
  {
   "cell_type": "code",
   "execution_count": null,
   "metadata": {},
   "outputs": [],
   "source": [
    "ne_lat, ne_lng, sw_lat, sw_lng = 48.8, 2.2, 48.82, 2.22\n",
    "\n",
    "try:\n",
    "    (\n",
    "        df\n",
    "        .pipe(filter_on_geolocation, ne_lat, ne_lng, sw_lat, sw_lng)\n",
    "    ).sample(frac=1, random_state=1234)\n",
    "except ValueError:\n",
    "    print(\"Oops, ValueError! Must have at least one record. Return empty list?\")"
   ]
  },
  {
   "cell_type": "markdown",
   "metadata": {},
   "source": [
    "### Offsets\n",
    "\n",
    "Select subset of results when working with an offset."
   ]
  },
  {
   "cell_type": "code",
   "execution_count": 44,
   "metadata": {},
   "outputs": [],
   "source": [
    "n = 10\n",
    "offset = 0\n",
    "n_results = 3\n",
    "subset = df.sample(frac=1, random_state=1234).head(n)"
   ]
  },
  {
   "cell_type": "code",
   "execution_count": 45,
   "metadata": {},
   "outputs": [
    {
     "data": {
      "text/html": [
       "<div>\n",
       "<style scoped>\n",
       "    .dataframe tbody tr th:only-of-type {\n",
       "        vertical-align: middle;\n",
       "    }\n",
       "\n",
       "    .dataframe tbody tr th {\n",
       "        vertical-align: top;\n",
       "    }\n",
       "\n",
       "    .dataframe thead th {\n",
       "        text-align: right;\n",
       "    }\n",
       "</style>\n",
       "<table border=\"1\" class=\"dataframe\">\n",
       "  <thead>\n",
       "    <tr style=\"text-align: right;\">\n",
       "      <th></th>\n",
       "      <th>id</th>\n",
       "      <th>wiki_id</th>\n",
       "      <th>name</th>\n",
       "      <th>status</th>\n",
       "      <th>type</th>\n",
       "      <th>lat</th>\n",
       "      <th>lng</th>\n",
       "      <th>country</th>\n",
       "      <th>weight</th>\n",
       "      <th>nr_tokens_norm</th>\n",
       "    </tr>\n",
       "    <tr>\n",
       "      <th>id</th>\n",
       "      <th></th>\n",
       "      <th></th>\n",
       "      <th></th>\n",
       "      <th></th>\n",
       "      <th></th>\n",
       "      <th></th>\n",
       "      <th></th>\n",
       "      <th></th>\n",
       "      <th></th>\n",
       "      <th></th>\n",
       "    </tr>\n",
       "  </thead>\n",
       "  <tbody>\n",
       "    <tr>\n",
       "      <th>163999</th>\n",
       "      <td>163999</td>\n",
       "      <td>148007</td>\n",
       "      <td>Lower Gwynedd Township</td>\n",
       "      <td>outline</td>\n",
       "      <td>city</td>\n",
       "      <td>40.213000</td>\n",
       "      <td>-75.284000</td>\n",
       "      <td>United States of America</td>\n",
       "      <td>103</td>\n",
       "      <td>0.000243</td>\n",
       "    </tr>\n",
       "    <tr>\n",
       "      <th>468369</th>\n",
       "      <td>468369</td>\n",
       "      <td>13029</td>\n",
       "      <td>Gorkhi-Terelj National Park</td>\n",
       "      <td>outline</td>\n",
       "      <td>park</td>\n",
       "      <td>47.914040</td>\n",
       "      <td>107.435990</td>\n",
       "      <td>Mongolia</td>\n",
       "      <td>9898</td>\n",
       "      <td>0.013579</td>\n",
       "    </tr>\n",
       "    <tr>\n",
       "      <th>550618</th>\n",
       "      <td>550618</td>\n",
       "      <td>40241</td>\n",
       "      <td>Zahedan</td>\n",
       "      <td>outline</td>\n",
       "      <td>city</td>\n",
       "      <td>29.496389</td>\n",
       "      <td>60.862778</td>\n",
       "      <td>Iran</td>\n",
       "      <td>5118</td>\n",
       "      <td>0.008597</td>\n",
       "    </tr>\n",
       "    <tr>\n",
       "      <th>646697</th>\n",
       "      <td>646697</td>\n",
       "      <td>33184</td>\n",
       "      <td>Solana Beach</td>\n",
       "      <td>outline</td>\n",
       "      <td>city</td>\n",
       "      <td>32.995278</td>\n",
       "      <td>-117.260278</td>\n",
       "      <td>United States of America</td>\n",
       "      <td>4660</td>\n",
       "      <td>0.008050</td>\n",
       "    </tr>\n",
       "    <tr>\n",
       "      <th>709756</th>\n",
       "      <td>709756</td>\n",
       "      <td>147941</td>\n",
       "      <td>Matagi Island</td>\n",
       "      <td>outline</td>\n",
       "      <td>city</td>\n",
       "      <td>-16.733333</td>\n",
       "      <td>-179.750833</td>\n",
       "      <td>Fiji</td>\n",
       "      <td>16878</td>\n",
       "      <td>0.019564</td>\n",
       "    </tr>\n",
       "    <tr>\n",
       "      <th>903195</th>\n",
       "      <td>903195</td>\n",
       "      <td>26780</td>\n",
       "      <td>Paraty</td>\n",
       "      <td>usable</td>\n",
       "      <td>city</td>\n",
       "      <td>-23.219444</td>\n",
       "      <td>-44.714722</td>\n",
       "      <td>Brazil</td>\n",
       "      <td>32864</td>\n",
       "      <td>0.030743</td>\n",
       "    </tr>\n",
       "    <tr>\n",
       "      <th>362874</th>\n",
       "      <td>362874</td>\n",
       "      <td>7093</td>\n",
       "      <td>Chiaramonte Gulfi</td>\n",
       "      <td>outline</td>\n",
       "      <td>city</td>\n",
       "      <td>37.033300</td>\n",
       "      <td>14.700000</td>\n",
       "      <td>Italy</td>\n",
       "      <td>985</td>\n",
       "      <td>0.002582</td>\n",
       "    </tr>\n",
       "    <tr>\n",
       "      <th>116262</th>\n",
       "      <td>116262</td>\n",
       "      <td>24235</td>\n",
       "      <td>New Canaan (Connecticut)</td>\n",
       "      <td>usable</td>\n",
       "      <td>city</td>\n",
       "      <td>41.146800</td>\n",
       "      <td>-73.494900</td>\n",
       "      <td>United States of America</td>\n",
       "      <td>783</td>\n",
       "      <td>0.002157</td>\n",
       "    </tr>\n",
       "    <tr>\n",
       "      <th>874121</th>\n",
       "      <td>874121</td>\n",
       "      <td>24838</td>\n",
       "      <td>North Bay</td>\n",
       "      <td>usable</td>\n",
       "      <td>city</td>\n",
       "      <td>46.310772</td>\n",
       "      <td>-79.462605</td>\n",
       "      <td>Canada</td>\n",
       "      <td>26417</td>\n",
       "      <td>0.026520</td>\n",
       "    </tr>\n",
       "    <tr>\n",
       "      <th>783020</th>\n",
       "      <td>783020</td>\n",
       "      <td>16542</td>\n",
       "      <td>Junagadh</td>\n",
       "      <td>usable</td>\n",
       "      <td>city</td>\n",
       "      <td>21.520000</td>\n",
       "      <td>70.470000</td>\n",
       "      <td>India</td>\n",
       "      <td>11857</td>\n",
       "      <td>0.015372</td>\n",
       "    </tr>\n",
       "  </tbody>\n",
       "</table>\n",
       "</div>"
      ],
      "text/plain": [
       "            id  wiki_id                         name   status  type  \\\n",
       "id                                                                    \n",
       "163999  163999   148007       Lower Gwynedd Township  outline  city   \n",
       "468369  468369    13029  Gorkhi-Terelj National Park  outline  park   \n",
       "550618  550618    40241                      Zahedan  outline  city   \n",
       "646697  646697    33184                 Solana Beach  outline  city   \n",
       "709756  709756   147941                Matagi Island  outline  city   \n",
       "903195  903195    26780                       Paraty   usable  city   \n",
       "362874  362874     7093            Chiaramonte Gulfi  outline  city   \n",
       "116262  116262    24235     New Canaan (Connecticut)   usable  city   \n",
       "874121  874121    24838                    North Bay   usable  city   \n",
       "783020  783020    16542                     Junagadh   usable  city   \n",
       "\n",
       "              lat         lng                   country  weight  \\\n",
       "id                                                                \n",
       "163999  40.213000  -75.284000  United States of America     103   \n",
       "468369  47.914040  107.435990                  Mongolia    9898   \n",
       "550618  29.496389   60.862778                      Iran    5118   \n",
       "646697  32.995278 -117.260278  United States of America    4660   \n",
       "709756 -16.733333 -179.750833                      Fiji   16878   \n",
       "903195 -23.219444  -44.714722                    Brazil   32864   \n",
       "362874  37.033300   14.700000                     Italy     985   \n",
       "116262  41.146800  -73.494900  United States of America     783   \n",
       "874121  46.310772  -79.462605                    Canada   26417   \n",
       "783020  21.520000   70.470000                     India   11857   \n",
       "\n",
       "        nr_tokens_norm  \n",
       "id                      \n",
       "163999        0.000243  \n",
       "468369        0.013579  \n",
       "550618        0.008597  \n",
       "646697        0.008050  \n",
       "709756        0.019564  \n",
       "903195        0.030743  \n",
       "362874        0.002582  \n",
       "116262        0.002157  \n",
       "874121        0.026520  \n",
       "783020        0.015372  "
      ]
     },
     "execution_count": 45,
     "metadata": {},
     "output_type": "execute_result"
    }
   ],
   "source": [
    "subset"
   ]
  },
  {
   "cell_type": "code",
   "execution_count": 31,
   "metadata": {},
   "outputs": [
    {
     "data": {
      "text/html": [
       "<div>\n",
       "<style scoped>\n",
       "    .dataframe tbody tr th:only-of-type {\n",
       "        vertical-align: middle;\n",
       "    }\n",
       "\n",
       "    .dataframe tbody tr th {\n",
       "        vertical-align: top;\n",
       "    }\n",
       "\n",
       "    .dataframe thead th {\n",
       "        text-align: right;\n",
       "    }\n",
       "</style>\n",
       "<table border=\"1\" class=\"dataframe\">\n",
       "  <thead>\n",
       "    <tr style=\"text-align: right;\">\n",
       "      <th></th>\n",
       "      <th>id</th>\n",
       "      <th>wiki_id</th>\n",
       "      <th>name</th>\n",
       "      <th>status</th>\n",
       "      <th>type</th>\n",
       "      <th>lat</th>\n",
       "      <th>lng</th>\n",
       "      <th>country</th>\n",
       "      <th>weight</th>\n",
       "      <th>nr_tokens_norm</th>\n",
       "    </tr>\n",
       "    <tr>\n",
       "      <th>id</th>\n",
       "      <th></th>\n",
       "      <th></th>\n",
       "      <th></th>\n",
       "      <th></th>\n",
       "      <th></th>\n",
       "      <th></th>\n",
       "      <th></th>\n",
       "      <th></th>\n",
       "      <th></th>\n",
       "      <th></th>\n",
       "    </tr>\n",
       "  </thead>\n",
       "  <tbody>\n",
       "    <tr>\n",
       "      <th>163999</th>\n",
       "      <td>163999</td>\n",
       "      <td>148007</td>\n",
       "      <td>Lower Gwynedd Township</td>\n",
       "      <td>outline</td>\n",
       "      <td>city</td>\n",
       "      <td>40.213000</td>\n",
       "      <td>-75.284000</td>\n",
       "      <td>United States of America</td>\n",
       "      <td>103</td>\n",
       "      <td>0.000243</td>\n",
       "    </tr>\n",
       "    <tr>\n",
       "      <th>468369</th>\n",
       "      <td>468369</td>\n",
       "      <td>13029</td>\n",
       "      <td>Gorkhi-Terelj National Park</td>\n",
       "      <td>outline</td>\n",
       "      <td>park</td>\n",
       "      <td>47.914040</td>\n",
       "      <td>107.435990</td>\n",
       "      <td>Mongolia</td>\n",
       "      <td>9898</td>\n",
       "      <td>0.013579</td>\n",
       "    </tr>\n",
       "    <tr>\n",
       "      <th>550618</th>\n",
       "      <td>550618</td>\n",
       "      <td>40241</td>\n",
       "      <td>Zahedan</td>\n",
       "      <td>outline</td>\n",
       "      <td>city</td>\n",
       "      <td>29.496389</td>\n",
       "      <td>60.862778</td>\n",
       "      <td>Iran</td>\n",
       "      <td>5118</td>\n",
       "      <td>0.008597</td>\n",
       "    </tr>\n",
       "  </tbody>\n",
       "</table>\n",
       "</div>"
      ],
      "text/plain": [
       "            id  wiki_id                         name   status  type  \\\n",
       "id                                                                    \n",
       "163999  163999   148007       Lower Gwynedd Township  outline  city   \n",
       "468369  468369    13029  Gorkhi-Terelj National Park  outline  park   \n",
       "550618  550618    40241                      Zahedan  outline  city   \n",
       "\n",
       "              lat         lng                   country  weight  \\\n",
       "id                                                                \n",
       "163999  40.213000  -75.284000  United States of America     103   \n",
       "468369  47.914040  107.435990                  Mongolia    9898   \n",
       "550618  29.496389   60.862778                      Iran    5118   \n",
       "\n",
       "        nr_tokens_norm  \n",
       "id                      \n",
       "163999        0.000243  \n",
       "468369        0.013579  \n",
       "550618        0.008597  "
      ]
     },
     "execution_count": 31,
     "metadata": {},
     "output_type": "execute_result"
    }
   ],
   "source": [
    "subset.iloc[offset:offset+n_results]"
   ]
  },
  {
   "cell_type": "markdown",
   "metadata": {},
   "source": [
    "Works."
   ]
  },
  {
   "cell_type": "markdown",
   "metadata": {},
   "source": [
    "### Weighted sampling\n",
    "\n",
    "In order to get some randomness, but still sample more important destinations first, use weights created in one of the feature engineering notebooks."
   ]
  },
  {
   "cell_type": "code",
   "execution_count": null,
   "metadata": {},
   "outputs": [],
   "source": [
    "(\n",
    "    df\n",
    "    .sample(frac=1, random_state=1234, weights='weight')\n",
    "    .head(3)\n",
    ")"
   ]
  },
  {
   "cell_type": "code",
   "execution_count": null,
   "metadata": {},
   "outputs": [],
   "source": [
    "df['weight'].value_counts()"
   ]
  },
  {
   "cell_type": "markdown",
   "metadata": {},
   "source": [
    "### Add top X destination features\n",
    "\n",
    "Given the place id, grab and sort the features directly:"
   ]
  },
  {
   "cell_type": "code",
   "execution_count": 34,
   "metadata": {},
   "outputs": [],
   "source": [
    "from api.resources.utils.features import select_features, select_features_with_profiles, select_feature_columns_with_profiles"
   ]
  },
  {
   "cell_type": "code",
   "execution_count": 35,
   "metadata": {},
   "outputs": [
    {
     "data": {
      "text/plain": [
       "['Historic villages',\n",
       " 'Landmarks',\n",
       " 'Sightseeing tours',\n",
       " 'Neighborhood walks',\n",
       " 'Town centers/squares/plazas']"
      ]
     },
     "execution_count": 35,
     "metadata": {},
     "output_type": "execute_result"
    }
   ],
   "source": [
    "dest_id = 662248\n",
    "top_x = 5\n",
    "\n",
    "select_features(dest_id, df_features)"
   ]
  },
  {
   "cell_type": "code",
   "execution_count": 36,
   "metadata": {},
   "outputs": [
    {
     "data": {
      "text/plain": [
       "['Town centers/squares/plazas']"
      ]
     },
     "execution_count": 36,
     "metadata": {},
     "output_type": "execute_result"
    }
   ],
   "source": [
    "# this one should just have one feature\n",
    "select_features(146019, df_features)"
   ]
  },
  {
   "cell_type": "markdown",
   "metadata": {},
   "source": [
    "Then simply add to the output doc."
   ]
  },
  {
   "cell_type": "code",
   "execution_count": 37,
   "metadata": {},
   "outputs": [
    {
     "data": {
      "text/plain": [
       "{'id': 662248,\n",
       " 'wiki_id': 10,\n",
       " 'name': \"'s-Hertogenbosch\",\n",
       " 'status': 'guide',\n",
       " 'type': 'city',\n",
       " 'lat': 51.69014,\n",
       " 'lng': 5.29897,\n",
       " 'country': 'Netherlands',\n",
       " 'weight': 99691,\n",
       " 'nr_tokens_norm': 0.06488851084513032,\n",
       " 'features': ['Historic villages',\n",
       "  'Landmarks',\n",
       "  'Sightseeing tours',\n",
       "  'Neighborhood walks',\n",
       "  'Town centers/squares/plazas']}"
      ]
     },
     "execution_count": 37,
     "metadata": {},
     "output_type": "execute_result"
    }
   ],
   "source": [
    "doc = df.loc[int(dest_id)].to_dict()\n",
    "\n",
    "doc[\"features\"] = select_features(doc['id'], df_features)\n",
    "doc"
   ]
  },
  {
   "cell_type": "markdown",
   "metadata": {},
   "source": [
    "For the explore endpoint, apply the function to all destinations."
   ]
  },
  {
   "cell_type": "code",
   "execution_count": 54,
   "metadata": {},
   "outputs": [
    {
     "data": {
      "text/html": [
       "<div>\n",
       "<style scoped>\n",
       "    .dataframe tbody tr th:only-of-type {\n",
       "        vertical-align: middle;\n",
       "    }\n",
       "\n",
       "    .dataframe tbody tr th {\n",
       "        vertical-align: top;\n",
       "    }\n",
       "\n",
       "    .dataframe thead th {\n",
       "        text-align: right;\n",
       "    }\n",
       "</style>\n",
       "<table border=\"1\" class=\"dataframe\">\n",
       "  <thead>\n",
       "    <tr style=\"text-align: right;\">\n",
       "      <th></th>\n",
       "      <th>id</th>\n",
       "      <th>wiki_id</th>\n",
       "      <th>name</th>\n",
       "      <th>status</th>\n",
       "      <th>type</th>\n",
       "      <th>lat</th>\n",
       "      <th>lng</th>\n",
       "      <th>country</th>\n",
       "      <th>weight</th>\n",
       "      <th>nr_tokens_norm</th>\n",
       "    </tr>\n",
       "    <tr>\n",
       "      <th>id</th>\n",
       "      <th></th>\n",
       "      <th></th>\n",
       "      <th></th>\n",
       "      <th></th>\n",
       "      <th></th>\n",
       "      <th></th>\n",
       "      <th></th>\n",
       "      <th></th>\n",
       "      <th></th>\n",
       "      <th></th>\n",
       "    </tr>\n",
       "  </thead>\n",
       "  <tbody>\n",
       "    <tr>\n",
       "      <th>163999</th>\n",
       "      <td>163999</td>\n",
       "      <td>148007</td>\n",
       "      <td>Lower Gwynedd Township</td>\n",
       "      <td>outline</td>\n",
       "      <td>city</td>\n",
       "      <td>40.213000</td>\n",
       "      <td>-75.284000</td>\n",
       "      <td>United States of America</td>\n",
       "      <td>103</td>\n",
       "      <td>0.000243</td>\n",
       "    </tr>\n",
       "    <tr>\n",
       "      <th>468369</th>\n",
       "      <td>468369</td>\n",
       "      <td>13029</td>\n",
       "      <td>Gorkhi-Terelj National Park</td>\n",
       "      <td>outline</td>\n",
       "      <td>park</td>\n",
       "      <td>47.914040</td>\n",
       "      <td>107.435990</td>\n",
       "      <td>Mongolia</td>\n",
       "      <td>9898</td>\n",
       "      <td>0.013579</td>\n",
       "    </tr>\n",
       "    <tr>\n",
       "      <th>550618</th>\n",
       "      <td>550618</td>\n",
       "      <td>40241</td>\n",
       "      <td>Zahedan</td>\n",
       "      <td>outline</td>\n",
       "      <td>city</td>\n",
       "      <td>29.496389</td>\n",
       "      <td>60.862778</td>\n",
       "      <td>Iran</td>\n",
       "      <td>5118</td>\n",
       "      <td>0.008597</td>\n",
       "    </tr>\n",
       "  </tbody>\n",
       "</table>\n",
       "</div>"
      ],
      "text/plain": [
       "            id  wiki_id                         name   status  type  \\\n",
       "id                                                                    \n",
       "163999  163999   148007       Lower Gwynedd Township  outline  city   \n",
       "468369  468369    13029  Gorkhi-Terelj National Park  outline  park   \n",
       "550618  550618    40241                      Zahedan  outline  city   \n",
       "\n",
       "              lat         lng                   country  weight  \\\n",
       "id                                                                \n",
       "163999  40.213000  -75.284000  United States of America     103   \n",
       "468369  47.914040  107.435990                  Mongolia    9898   \n",
       "550618  29.496389   60.862778                      Iran    5118   \n",
       "\n",
       "        nr_tokens_norm  \n",
       "id                      \n",
       "163999        0.000243  \n",
       "468369        0.013579  \n",
       "550618        0.008597  "
      ]
     },
     "execution_count": 54,
     "metadata": {},
     "output_type": "execute_result"
    }
   ],
   "source": [
    "places = subset.iloc[offset:offset+n_results].copy()\n",
    "places"
   ]
  },
  {
   "cell_type": "code",
   "execution_count": 55,
   "metadata": {},
   "outputs": [],
   "source": [
    "places[\"features\"] = places[\"id\"].apply(\n",
    "            lambda x: select_features_with_profiles(\n",
    "                x, [], df_features, df_feature_types\n",
    "            )\n",
    "        )"
   ]
  },
  {
   "cell_type": "code",
   "execution_count": 50,
   "metadata": {},
   "outputs": [
    {
     "name": "stderr",
     "output_type": "stream",
     "text": [
      "/Users/terminator/miniconda3/envs/stairway-backend/lib/python3.7/site-packages/pandas/core/indexing.py:965: SettingWithCopyWarning: \n",
      "A value is trying to be set on a copy of a slice from a DataFrame.\n",
      "Try using .loc[row_indexer,col_indexer] = value instead\n",
      "\n",
      "See the caveats in the documentation: https://pandas.pydata.org/pandas-docs/stable/user_guide/indexing.html#returning-a-view-versus-a-copy\n",
      "  self.obj[item] = s\n"
     ]
    }
   ],
   "source": [
    "places.loc[:,\"features\"] = places[\"id\"].apply(\n",
    "            lambda x: select_features_with_profiles(\n",
    "                x, [], df_features, df_feature_types\n",
    "            )\n",
    "        )"
   ]
  },
  {
   "cell_type": "code",
   "execution_count": 53,
   "metadata": {},
   "outputs": [
    {
     "ename": "KeyError",
     "evalue": "'id'",
     "output_type": "error",
     "traceback": [
      "\u001b[0;31m---------------------------------------------------------------------------\u001b[0m",
      "\u001b[0;31mKeyError\u001b[0m                                  Traceback (most recent call last)",
      "\u001b[0;32m~/miniconda3/envs/stairway-backend/lib/python3.7/site-packages/pandas/core/indexes/base.py\u001b[0m in \u001b[0;36mget_loc\u001b[0;34m(self, key, method, tolerance)\u001b[0m\n\u001b[1;32m   2645\u001b[0m             \u001b[0;32mtry\u001b[0m\u001b[0;34m:\u001b[0m\u001b[0;34m\u001b[0m\u001b[0;34m\u001b[0m\u001b[0m\n\u001b[0;32m-> 2646\u001b[0;31m                 \u001b[0;32mreturn\u001b[0m \u001b[0mself\u001b[0m\u001b[0;34m.\u001b[0m\u001b[0m_engine\u001b[0m\u001b[0;34m.\u001b[0m\u001b[0mget_loc\u001b[0m\u001b[0;34m(\u001b[0m\u001b[0mkey\u001b[0m\u001b[0;34m)\u001b[0m\u001b[0;34m\u001b[0m\u001b[0;34m\u001b[0m\u001b[0m\n\u001b[0m\u001b[1;32m   2647\u001b[0m             \u001b[0;32mexcept\u001b[0m \u001b[0mKeyError\u001b[0m\u001b[0;34m:\u001b[0m\u001b[0;34m\u001b[0m\u001b[0;34m\u001b[0m\u001b[0m\n",
      "\u001b[0;32mpandas/_libs/index.pyx\u001b[0m in \u001b[0;36mpandas._libs.index.IndexEngine.get_loc\u001b[0;34m()\u001b[0m\n",
      "\u001b[0;32mpandas/_libs/index.pyx\u001b[0m in \u001b[0;36mpandas._libs.index.IndexEngine.get_loc\u001b[0;34m()\u001b[0m\n",
      "\u001b[0;32mpandas/_libs/index_class_helper.pxi\u001b[0m in \u001b[0;36mpandas._libs.index.Int64Engine._check_type\u001b[0;34m()\u001b[0m\n",
      "\u001b[0;31mKeyError\u001b[0m: 'id'",
      "\nDuring handling of the above exception, another exception occurred:\n",
      "\u001b[0;31mKeyError\u001b[0m                                  Traceback (most recent call last)",
      "\u001b[0;32m<ipython-input-53-d859356969b0>\u001b[0m in \u001b[0;36m<module>\u001b[0;34m\u001b[0m\n\u001b[0;32m----> 1\u001b[0;31m \u001b[0mplaces\u001b[0m\u001b[0;34m.\u001b[0m\u001b[0mloc\u001b[0m\u001b[0;34m[\u001b[0m\u001b[0;34m\"id\"\u001b[0m\u001b[0;34m]\u001b[0m\u001b[0;34m\u001b[0m\u001b[0;34m\u001b[0m\u001b[0m\n\u001b[0m",
      "\u001b[0;32m~/miniconda3/envs/stairway-backend/lib/python3.7/site-packages/pandas/core/indexing.py\u001b[0m in \u001b[0;36m__getitem__\u001b[0;34m(self, key)\u001b[0m\n\u001b[1;32m   1765\u001b[0m \u001b[0;34m\u001b[0m\u001b[0m\n\u001b[1;32m   1766\u001b[0m             \u001b[0mmaybe_callable\u001b[0m \u001b[0;34m=\u001b[0m \u001b[0mcom\u001b[0m\u001b[0;34m.\u001b[0m\u001b[0mapply_if_callable\u001b[0m\u001b[0;34m(\u001b[0m\u001b[0mkey\u001b[0m\u001b[0;34m,\u001b[0m \u001b[0mself\u001b[0m\u001b[0;34m.\u001b[0m\u001b[0mobj\u001b[0m\u001b[0;34m)\u001b[0m\u001b[0;34m\u001b[0m\u001b[0;34m\u001b[0m\u001b[0m\n\u001b[0;32m-> 1767\u001b[0;31m             \u001b[0;32mreturn\u001b[0m \u001b[0mself\u001b[0m\u001b[0;34m.\u001b[0m\u001b[0m_getitem_axis\u001b[0m\u001b[0;34m(\u001b[0m\u001b[0mmaybe_callable\u001b[0m\u001b[0;34m,\u001b[0m \u001b[0maxis\u001b[0m\u001b[0;34m=\u001b[0m\u001b[0maxis\u001b[0m\u001b[0;34m)\u001b[0m\u001b[0;34m\u001b[0m\u001b[0;34m\u001b[0m\u001b[0m\n\u001b[0m\u001b[1;32m   1768\u001b[0m \u001b[0;34m\u001b[0m\u001b[0m\n\u001b[1;32m   1769\u001b[0m     \u001b[0;32mdef\u001b[0m \u001b[0m_is_scalar_access\u001b[0m\u001b[0;34m(\u001b[0m\u001b[0mself\u001b[0m\u001b[0;34m,\u001b[0m \u001b[0mkey\u001b[0m\u001b[0;34m:\u001b[0m \u001b[0mTuple\u001b[0m\u001b[0;34m)\u001b[0m\u001b[0;34m:\u001b[0m\u001b[0;34m\u001b[0m\u001b[0;34m\u001b[0m\u001b[0m\n",
      "\u001b[0;32m~/miniconda3/envs/stairway-backend/lib/python3.7/site-packages/pandas/core/indexing.py\u001b[0m in \u001b[0;36m_getitem_axis\u001b[0;34m(self, key, axis)\u001b[0m\n\u001b[1;32m   1962\u001b[0m         \u001b[0;31m# fall thru to straight lookup\u001b[0m\u001b[0;34m\u001b[0m\u001b[0;34m\u001b[0m\u001b[0;34m\u001b[0m\u001b[0m\n\u001b[1;32m   1963\u001b[0m         \u001b[0mself\u001b[0m\u001b[0;34m.\u001b[0m\u001b[0m_validate_key\u001b[0m\u001b[0;34m(\u001b[0m\u001b[0mkey\u001b[0m\u001b[0;34m,\u001b[0m \u001b[0maxis\u001b[0m\u001b[0;34m)\u001b[0m\u001b[0;34m\u001b[0m\u001b[0;34m\u001b[0m\u001b[0m\n\u001b[0;32m-> 1964\u001b[0;31m         \u001b[0;32mreturn\u001b[0m \u001b[0mself\u001b[0m\u001b[0;34m.\u001b[0m\u001b[0m_get_label\u001b[0m\u001b[0;34m(\u001b[0m\u001b[0mkey\u001b[0m\u001b[0;34m,\u001b[0m \u001b[0maxis\u001b[0m\u001b[0;34m=\u001b[0m\u001b[0maxis\u001b[0m\u001b[0;34m)\u001b[0m\u001b[0;34m\u001b[0m\u001b[0;34m\u001b[0m\u001b[0m\n\u001b[0m\u001b[1;32m   1965\u001b[0m \u001b[0;34m\u001b[0m\u001b[0m\n\u001b[1;32m   1966\u001b[0m \u001b[0;34m\u001b[0m\u001b[0m\n",
      "\u001b[0;32m~/miniconda3/envs/stairway-backend/lib/python3.7/site-packages/pandas/core/indexing.py\u001b[0m in \u001b[0;36m_get_label\u001b[0;34m(self, label, axis)\u001b[0m\n\u001b[1;32m    622\u001b[0m             \u001b[0;32mraise\u001b[0m \u001b[0mIndexingError\u001b[0m\u001b[0;34m(\u001b[0m\u001b[0;34m\"no slices here, handle elsewhere\"\u001b[0m\u001b[0;34m)\u001b[0m\u001b[0;34m\u001b[0m\u001b[0;34m\u001b[0m\u001b[0m\n\u001b[1;32m    623\u001b[0m \u001b[0;34m\u001b[0m\u001b[0m\n\u001b[0;32m--> 624\u001b[0;31m         \u001b[0;32mreturn\u001b[0m \u001b[0mself\u001b[0m\u001b[0;34m.\u001b[0m\u001b[0mobj\u001b[0m\u001b[0;34m.\u001b[0m\u001b[0m_xs\u001b[0m\u001b[0;34m(\u001b[0m\u001b[0mlabel\u001b[0m\u001b[0;34m,\u001b[0m \u001b[0maxis\u001b[0m\u001b[0;34m=\u001b[0m\u001b[0maxis\u001b[0m\u001b[0;34m)\u001b[0m\u001b[0;34m\u001b[0m\u001b[0;34m\u001b[0m\u001b[0m\n\u001b[0m\u001b[1;32m    625\u001b[0m \u001b[0;34m\u001b[0m\u001b[0m\n\u001b[1;32m    626\u001b[0m     \u001b[0;32mdef\u001b[0m \u001b[0m_get_loc\u001b[0m\u001b[0;34m(\u001b[0m\u001b[0mself\u001b[0m\u001b[0;34m,\u001b[0m \u001b[0mkey\u001b[0m\u001b[0;34m:\u001b[0m \u001b[0mint\u001b[0m\u001b[0;34m,\u001b[0m \u001b[0maxis\u001b[0m\u001b[0;34m:\u001b[0m \u001b[0mint\u001b[0m\u001b[0;34m)\u001b[0m\u001b[0;34m:\u001b[0m\u001b[0;34m\u001b[0m\u001b[0;34m\u001b[0m\u001b[0m\n",
      "\u001b[0;32m~/miniconda3/envs/stairway-backend/lib/python3.7/site-packages/pandas/core/generic.py\u001b[0m in \u001b[0;36mxs\u001b[0;34m(self, key, axis, level, drop_level)\u001b[0m\n\u001b[1;32m   3535\u001b[0m             \u001b[0mloc\u001b[0m\u001b[0;34m,\u001b[0m \u001b[0mnew_index\u001b[0m \u001b[0;34m=\u001b[0m \u001b[0mself\u001b[0m\u001b[0;34m.\u001b[0m\u001b[0mindex\u001b[0m\u001b[0;34m.\u001b[0m\u001b[0mget_loc_level\u001b[0m\u001b[0;34m(\u001b[0m\u001b[0mkey\u001b[0m\u001b[0;34m,\u001b[0m \u001b[0mdrop_level\u001b[0m\u001b[0;34m=\u001b[0m\u001b[0mdrop_level\u001b[0m\u001b[0;34m)\u001b[0m\u001b[0;34m\u001b[0m\u001b[0;34m\u001b[0m\u001b[0m\n\u001b[1;32m   3536\u001b[0m         \u001b[0;32melse\u001b[0m\u001b[0;34m:\u001b[0m\u001b[0;34m\u001b[0m\u001b[0;34m\u001b[0m\u001b[0m\n\u001b[0;32m-> 3537\u001b[0;31m             \u001b[0mloc\u001b[0m \u001b[0;34m=\u001b[0m \u001b[0mself\u001b[0m\u001b[0;34m.\u001b[0m\u001b[0mindex\u001b[0m\u001b[0;34m.\u001b[0m\u001b[0mget_loc\u001b[0m\u001b[0;34m(\u001b[0m\u001b[0mkey\u001b[0m\u001b[0;34m)\u001b[0m\u001b[0;34m\u001b[0m\u001b[0;34m\u001b[0m\u001b[0m\n\u001b[0m\u001b[1;32m   3538\u001b[0m \u001b[0;34m\u001b[0m\u001b[0m\n\u001b[1;32m   3539\u001b[0m             \u001b[0;32mif\u001b[0m \u001b[0misinstance\u001b[0m\u001b[0;34m(\u001b[0m\u001b[0mloc\u001b[0m\u001b[0;34m,\u001b[0m \u001b[0mnp\u001b[0m\u001b[0;34m.\u001b[0m\u001b[0mndarray\u001b[0m\u001b[0;34m)\u001b[0m\u001b[0;34m:\u001b[0m\u001b[0;34m\u001b[0m\u001b[0;34m\u001b[0m\u001b[0m\n",
      "\u001b[0;32m~/miniconda3/envs/stairway-backend/lib/python3.7/site-packages/pandas/core/indexes/base.py\u001b[0m in \u001b[0;36mget_loc\u001b[0;34m(self, key, method, tolerance)\u001b[0m\n\u001b[1;32m   2646\u001b[0m                 \u001b[0;32mreturn\u001b[0m \u001b[0mself\u001b[0m\u001b[0;34m.\u001b[0m\u001b[0m_engine\u001b[0m\u001b[0;34m.\u001b[0m\u001b[0mget_loc\u001b[0m\u001b[0;34m(\u001b[0m\u001b[0mkey\u001b[0m\u001b[0;34m)\u001b[0m\u001b[0;34m\u001b[0m\u001b[0;34m\u001b[0m\u001b[0m\n\u001b[1;32m   2647\u001b[0m             \u001b[0;32mexcept\u001b[0m \u001b[0mKeyError\u001b[0m\u001b[0;34m:\u001b[0m\u001b[0;34m\u001b[0m\u001b[0;34m\u001b[0m\u001b[0m\n\u001b[0;32m-> 2648\u001b[0;31m                 \u001b[0;32mreturn\u001b[0m \u001b[0mself\u001b[0m\u001b[0;34m.\u001b[0m\u001b[0m_engine\u001b[0m\u001b[0;34m.\u001b[0m\u001b[0mget_loc\u001b[0m\u001b[0;34m(\u001b[0m\u001b[0mself\u001b[0m\u001b[0;34m.\u001b[0m\u001b[0m_maybe_cast_indexer\u001b[0m\u001b[0;34m(\u001b[0m\u001b[0mkey\u001b[0m\u001b[0;34m)\u001b[0m\u001b[0;34m)\u001b[0m\u001b[0;34m\u001b[0m\u001b[0;34m\u001b[0m\u001b[0m\n\u001b[0m\u001b[1;32m   2649\u001b[0m         \u001b[0mindexer\u001b[0m \u001b[0;34m=\u001b[0m \u001b[0mself\u001b[0m\u001b[0;34m.\u001b[0m\u001b[0mget_indexer\u001b[0m\u001b[0;34m(\u001b[0m\u001b[0;34m[\u001b[0m\u001b[0mkey\u001b[0m\u001b[0;34m]\u001b[0m\u001b[0;34m,\u001b[0m \u001b[0mmethod\u001b[0m\u001b[0;34m=\u001b[0m\u001b[0mmethod\u001b[0m\u001b[0;34m,\u001b[0m \u001b[0mtolerance\u001b[0m\u001b[0;34m=\u001b[0m\u001b[0mtolerance\u001b[0m\u001b[0;34m)\u001b[0m\u001b[0;34m\u001b[0m\u001b[0;34m\u001b[0m\u001b[0m\n\u001b[1;32m   2650\u001b[0m         \u001b[0;32mif\u001b[0m \u001b[0mindexer\u001b[0m\u001b[0;34m.\u001b[0m\u001b[0mndim\u001b[0m \u001b[0;34m>\u001b[0m \u001b[0;36m1\u001b[0m \u001b[0;32mor\u001b[0m \u001b[0mindexer\u001b[0m\u001b[0;34m.\u001b[0m\u001b[0msize\u001b[0m \u001b[0;34m>\u001b[0m \u001b[0;36m1\u001b[0m\u001b[0;34m:\u001b[0m\u001b[0;34m\u001b[0m\u001b[0;34m\u001b[0m\u001b[0m\n",
      "\u001b[0;32mpandas/_libs/index.pyx\u001b[0m in \u001b[0;36mpandas._libs.index.IndexEngine.get_loc\u001b[0;34m()\u001b[0m\n",
      "\u001b[0;32mpandas/_libs/index.pyx\u001b[0m in \u001b[0;36mpandas._libs.index.IndexEngine.get_loc\u001b[0;34m()\u001b[0m\n",
      "\u001b[0;32mpandas/_libs/index_class_helper.pxi\u001b[0m in \u001b[0;36mpandas._libs.index.Int64Engine._check_type\u001b[0;34m()\u001b[0m\n",
      "\u001b[0;31mKeyError\u001b[0m: 'id'"
     ]
    }
   ],
   "source": [
    "places.loc[\"id\"]"
   ]
  },
  {
   "cell_type": "code",
   "execution_count": 49,
   "metadata": {},
   "outputs": [
    {
     "data": {
      "text/plain": [
       "id\n",
       "163999    163999\n",
       "468369    468369\n",
       "550618    550618\n",
       "Name: id, dtype: int64"
      ]
     },
     "execution_count": 49,
     "metadata": {},
     "output_type": "execute_result"
    }
   ],
   "source": [
    "places[\"id\"]"
   ]
  },
  {
   "cell_type": "code",
   "execution_count": 38,
   "metadata": {},
   "outputs": [
    {
     "data": {
      "text/plain": [
       "[{'id': 199055,\n",
       "  'wiki_id': 39328,\n",
       "  'name': 'Wildwood (New Jersey)',\n",
       "  'status': 'usable',\n",
       "  'type': 'city',\n",
       "  'lat': 38.99167,\n",
       "  'lng': -74.815,\n",
       "  'country': 'United States of America',\n",
       "  'weight': 182889,\n",
       "  'nr_tokens_norm': 0.09745428033294852,\n",
       "  'features': ['Marina',\n",
       "   'Festivals',\n",
       "   'Sightseeing tours',\n",
       "   'Shopping',\n",
       "   'Live music / bands']},\n",
       " {'id': 228609,\n",
       "  'wiki_id': 131164,\n",
       "  'name': 'San Juan (Metro Manila)',\n",
       "  'status': 'outline',\n",
       "  'type': 'city',\n",
       "  'lat': 14.60488,\n",
       "  'lng': 121.02963999999999,\n",
       "  'country': 'Philippines',\n",
       "  'weight': 1837,\n",
       "  'nr_tokens_norm': 0.0041314782186038035,\n",
       "  'features': ['Shopping',\n",
       "   'Town centers/squares/plazas',\n",
       "   'Urban parks',\n",
       "   'Rafting',\n",
       "   'Water parks']}]"
      ]
     },
     "execution_count": 38,
     "metadata": {},
     "output_type": "execute_result"
    }
   ],
   "source": [
    "test = df.sample(2)\n",
    "test['features'] = test['id'].apply(lambda x: select_features(x, df_features))\n",
    "test.to_dict(orient=\"records\")"
   ]
  },
  {
   "cell_type": "markdown",
   "metadata": {},
   "source": [
    "With activity profiles:"
   ]
  },
  {
   "cell_type": "code",
   "execution_count": null,
   "metadata": {},
   "outputs": [],
   "source": [
    "# features from selected profiels first\n",
    "profiles = ['nature', 'active']\n",
    "select_features_with_profiles(dest_id, profiles, df_features, df_feature_types)"
   ]
  },
  {
   "cell_type": "code",
   "execution_count": null,
   "metadata": {},
   "outputs": [],
   "source": [
    "# should show beaches\n",
    "select_features_with_profiles(197270, ['beach'], df_features, df_feature_types)"
   ]
  },
  {
   "cell_type": "code",
   "execution_count": null,
   "metadata": {},
   "outputs": [],
   "source": [
    "# should return only one\n",
    "select_features_with_profiles(146019, ['beach'], df_features, df_feature_types)"
   ]
  },
  {
   "cell_type": "markdown",
   "metadata": {},
   "source": [
    "### Convert to json\n",
    "\n",
    "Provide the places, as well as some metadata."
   ]
  },
  {
   "cell_type": "code",
   "execution_count": null,
   "metadata": {},
   "outputs": [],
   "source": [
    "from api.resources.utils.utils import prettify_n_results"
   ]
  },
  {
   "cell_type": "code",
   "execution_count": null,
   "metadata": {},
   "outputs": [],
   "source": [
    "# example of prettifying an X number of results for the front-end\n",
    "prettify_n_results(3500)"
   ]
  },
  {
   "cell_type": "code",
   "execution_count": null,
   "metadata": {},
   "outputs": [],
   "source": [
    "subset = df.sample(2).to_dict(orient='records')\n",
    "\n",
    "{\n",
    "    \"Results\": len(subset),\n",
    "    \"Results_string\": prettify_n_results(len(subset)),\n",
    "    \"Destinations\": subset\n",
    "}"
   ]
  },
  {
   "cell_type": "markdown",
   "metadata": {},
   "source": [
    "Done."
   ]
  }
 ],
 "metadata": {
  "kernelspec": {
   "display_name": "Python 3",
   "language": "python",
   "name": "python3"
  },
  "language_info": {
   "codemirror_mode": {
    "name": "ipython",
    "version": 3
   },
   "file_extension": ".py",
   "mimetype": "text/x-python",
   "name": "python",
   "nbconvert_exporter": "python",
   "pygments_lexer": "ipython3",
   "version": "3.7.2"
  }
 },
 "nbformat": 4,
 "nbformat_minor": 2
}
