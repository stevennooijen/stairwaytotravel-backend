{
 "cells": [
  {
   "cell_type": "markdown",
   "metadata": {},
   "source": [
    "# Testing Visual Crossing Weather API\n",
    "\n",
    "Goal of this notebook, see if we can get year round monthly aggregated historical weather data (temperature and precipitation) from the API given any geolocation. \n",
    "\n",
    "https://www.visualcrossing.com/weather-api.\n",
    "\n",
    "Pricing: 1000 free results per day. Or pro plan for 35 USD to just download the data. For these plans, will have to give attribution. See description of [pricing plans](https://www.visualcrossing.com/weather-data-editions)\n"
   ]
  },
  {
   "cell_type": "code",
   "execution_count": null,
   "metadata": {},
   "outputs": [],
   "source": [
    "import os\n",
    "from dotenv import load_dotenv\n",
    "import pandas as pd\n",
    "import requests\n",
    "\n",
    "load_dotenv()\n",
    "VISUALCROSSING_KEY = os.getenv(\"VISUALCROSSING_KEY\")\n",
    "\n",
    "S = requests.Session()"
   ]
  },
  {
   "cell_type": "markdown",
   "metadata": {},
   "source": [
    "### Get locations"
   ]
  },
  {
   "cell_type": "code",
   "execution_count": null,
   "metadata": {},
   "outputs": [],
   "source": [
    "api_data_dir = '../../api/data/'\n",
    "\n",
    "file_name = 'wikivoyage_destinations.csv'\n",
    "\n",
    "df_places = pd.read_csv(api_data_dir + file_name).set_index(\"id\", drop=False)"
   ]
  },
  {
   "cell_type": "markdown",
   "metadata": {},
   "source": [
    "### Historical summaries query\n",
    "\n",
    "This query can be used to fetch exactly what we want. Using the only API query editor we got the following query:\n",
    "\n",
    "```\n",
    "https://weather.visualcrossing.com/VisualCrossingWebServices/rest/services/weatherdata/historysummary?aggregateHours=24&combinationMethod=aggregate&maxStations=-1&maxDistance=-1&minYear=2000&maxYear=2020&chronoUnit=months&breakBy=self&dailySummaries=false&contentType=json&unitGroup=metric&locationMode=single&key=W8TURNQ78VLNPBK3MYPCMQDYS&dataElements=default&locations=25.7617%2C-80.1918\n",
    "```\n",
    "\n",
    "Let's translate that into a nice python call.\n",
    "\n",
    "See docs on [historical summaries api](https://www.visualcrossing.com/resources/documentation/weather-api/weather-api-documentation/) for more details.\n",
    "\n",
    "First compose a string with the geolocations of the places to query. It seems we get a time-out error if we query more than 4 destinations at once... "
   ]
  },
  {
   "cell_type": "code",
   "execution_count": null,
   "metadata": {},
   "outputs": [],
   "source": [
    "n_locations = 4\n",
    "\n",
    "df_places = df_places.assign(location = lambda df: \n",
    "                             df['lat'].round(6).astype(str) + \",\" + df['lng'].round(6).astype(str))\n",
    "\n",
    "def create_locations_string(df):\n",
    "    return '|'.join(df['location'].to_list())\n",
    "\n",
    "locations = create_locations_string(df_places.sample(n_locations))\n",
    "locations"
   ]
  },
  {
   "cell_type": "markdown",
   "metadata": {},
   "source": [
    "Then call the API:"
   ]
  },
  {
   "cell_type": "code",
   "execution_count": null,
   "metadata": {},
   "outputs": [],
   "source": [
    "URL = \"https://weather.visualcrossing.com/VisualCrossingWebServices/rest/services/weatherdata/historysummary\"\n",
    "\n",
    "PARAMS = {\n",
    "    \"aggregateHours\":24,\n",
    "    \"combinationMethod\":\"aggregate\",\n",
    "#     \"maxStations\":-1,  # defaults to 3\n",
    "#     \"maxDistance\":-1,  # defaults to 50,000m\n",
    "    \"minYear\":1990,\n",
    "    \"maxYear\":2020,\n",
    "    \"chronoUnit\":\"months\",\n",
    "    \"breakBy\":\"self\",\n",
    "    \"dailySummaries\": False,\n",
    "    \"contentType\":\"json\",\n",
    "    \"unitGroup\":\"metric\",\n",
    "    \"locationMode\":\"array\", # set to locationMode=array when querying multiple destinations\n",
    "    \"key\": VISUALCROSSING_KEY,\n",
    "    \"dataElements\":\"default\",\n",
    "    \"locations\": locations\n",
    "}\n",
    "\n",
    "R = S.get(url=URL, params=PARAMS)\n",
    "DATA = R.json()"
   ]
  },
  {
   "cell_type": "code",
   "execution_count": null,
   "metadata": {},
   "outputs": [],
   "source": [
    "# print(DATA)"
   ]
  },
  {
   "cell_type": "code",
   "execution_count": null,
   "metadata": {},
   "outputs": [],
   "source": [
    "# contains info on each of the columns, including the metric\n",
    "# DATA['columns']"
   ]
  },
  {
   "cell_type": "markdown",
   "metadata": {},
   "source": [
    "### Parsing the result\n",
    "\n",
    "The results are in a nested json. This can easily be denormalized using the pandas `json_normalize()` function.\n",
    "\n",
    "Add the `name` and `tz` columns as additional metadata. `name` to join with the places dataframe, timezone for who knows what future purpose. Better save it if we are getting it anyway."
   ]
  },
  {
   "cell_type": "code",
   "execution_count": null,
   "metadata": {},
   "outputs": [],
   "source": [
    "df = pd.io.json.json_normalize(DATA[\"locations\"], \"values\", [\"name\", \"tz\"])\n",
    "\n",
    "print(df.shape)\n",
    "\n",
    "# df.head()"
   ]
  },
  {
   "cell_type": "markdown",
   "metadata": {},
   "source": [
    "Voila! \n",
    "\n",
    "After having queried all data, just join with the places dataframe to attach the stairway id."
   ]
  },
  {
   "cell_type": "code",
   "execution_count": null,
   "metadata": {},
   "outputs": [],
   "source": [
    "df_out = (\n",
    "    pd.merge(df_places[['id', 'location']], df,  \n",
    "             how='inner', left_on=['location'], right_on = ['name'])\n",
    "    .drop(columns=['name', 'location'])\n",
    ")\n",
    "\n",
    "print(df_out.shape)\n",
    "\n",
    "df_out.head()"
   ]
  },
  {
   "cell_type": "markdown",
   "metadata": {},
   "source": [
    "Done."
   ]
  }
 ],
 "metadata": {
  "kernelspec": {
   "display_name": "Python 3",
   "language": "python",
   "name": "python3"
  },
  "language_info": {
   "codemirror_mode": {
    "name": "ipython",
    "version": 3
   },
   "file_extension": ".py",
   "mimetype": "text/x-python",
   "name": "python",
   "nbconvert_exporter": "python",
   "pygments_lexer": "ipython3",
   "version": "3.7.2"
  }
 },
 "nbformat": 4,
 "nbformat_minor": 4
}
