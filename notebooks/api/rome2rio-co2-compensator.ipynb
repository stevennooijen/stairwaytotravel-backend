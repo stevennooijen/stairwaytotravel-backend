{
 "cells": [
  {
   "cell_type": "markdown",
   "metadata": {},
   "source": [
    "# Testing Rome2Rio API\n",
    "\n",
    "Goal of this notebook, calculate co2 emission and offset costs. Example site: https://co2.myclimate.org/en/offset_further_emissions\n"
   ]
  },
  {
   "cell_type": "markdown",
   "metadata": {},
   "source": [
    "### Search\n",
    "\n",
    "Example request and explanation of resposne in [docs](https://www.rome2rio.com/documentation/1-4/search/)"
   ]
  },
  {
   "cell_type": "code",
   "execution_count": null,
   "metadata": {},
   "outputs": [],
   "source": [
    "import os\n",
    "from dotenv import load_dotenv\n",
    "import pandas as pd\n",
    "import requests\n",
    "\n",
    "load_dotenv()\n",
    "ROME2RIO_KEY = os.getenv(\"ROME2RIO_KEY\")\n",
    "\n",
    "S = requests.Session()"
   ]
  },
  {
   "cell_type": "code",
   "execution_count": null,
   "metadata": {},
   "outputs": [],
   "source": [
    "Origin = \"Bern\"\n",
    "Destination = \"Zurich\"\n",
    "\n",
    "URL = \"http://free.rome2rio.com/api/1.4/json/Search\"\n",
    "\n",
    "PARAMS = {\n",
    "    \"key\": ROME2RIO_KEY,\n",
    "    \"oName\": Origin,\n",
    "    \"dName\": Destination,\n",
    "    \"noRideshare\": True,\n",
    "    \"currencyCode\": \"EUR\"\n",
    "}\n",
    "\n",
    "R = S.get(url=URL, params=PARAMS)\n",
    "DATA = R.json()"
   ]
  },
  {
   "cell_type": "code",
   "execution_count": null,
   "metadata": {},
   "outputs": [],
   "source": [
    "# print(DATA)"
   ]
  },
  {
   "cell_type": "markdown",
   "metadata": {},
   "source": [
    "Print available routes, transit time and estimated costs"
   ]
  },
  {
   "cell_type": "code",
   "execution_count": null,
   "metadata": {},
   "outputs": [],
   "source": [
    "fields = ['name', 'distance', 'totalTransitDuration', 'totalDuration', 'indicativePrices']\n",
    "routes = [\n",
    "    {k: route[k] for k in fields}\n",
    "    for route in DATA['routes']\n",
    "]"
   ]
  },
  {
   "cell_type": "code",
   "execution_count": null,
   "metadata": {},
   "outputs": [],
   "source": [
    "# routes"
   ]
  },
  {
   "cell_type": "markdown",
   "metadata": {},
   "source": [
    "### Now calculate CO2 emmission.\n",
    "\n",
    "Need some baseline metrics for different transport modes. Taken from this [bbc blog](https://www.bbc.com/news/science-environment-493495660)"
   ]
  },
  {
   "cell_type": "code",
   "execution_count": null,
   "metadata": {},
   "outputs": [],
   "source": [
    "emissions_pp = {\n",
    "    \"flight_domestic\": 254,\n",
    "    \"flight_longhaul\": 195,\n",
    "    \"car_1pax\": 171,\n",
    "    \"bus\": 104,\n",
    "    \"car_4pax\": 43,\n",
    "    \"rail\": 41,\n",
    "    \"coach\": 27,\n",
    "    \"eurostar\": 6,\n",
    "}"
   ]
  },
  {
   "cell_type": "markdown",
   "metadata": {},
   "source": [
    "Aggregating it to the Rome2Rio categories we have:"
   ]
  },
  {
   "cell_type": "code",
   "execution_count": null,
   "metadata": {},
   "outputs": [],
   "source": [
    "from statistics import mean \n",
    "\n",
    "emissions_pp_r2r = {\n",
    "    \"Drive\": mean([emissions_pp['car_1pax'], emissions_pp['car_4pax']]),\n",
    "    \"Bus\": mean([emissions_pp['bus'], emissions_pp['coach']]),\n",
    "    \"Train\": mean([emissions_pp['rail'], emissions_pp['eurostar']]),\n",
    "}"
   ]
  },
  {
   "cell_type": "markdown",
   "metadata": {},
   "source": [
    "So for the above 3 routes, the CO2 emission (in grams) for each option is:"
   ]
  },
  {
   "cell_type": "code",
   "execution_count": null,
   "metadata": {},
   "outputs": [],
   "source": [
    "# add co2 for each route\n",
    "for route in routes:\n",
    "    route.update(\n",
    "        {\"co2Emission\": emissions_pp_r2r[route['name']] * route['distance']}\n",
    "    )"
   ]
  },
  {
   "cell_type": "code",
   "execution_count": null,
   "metadata": {},
   "outputs": [],
   "source": [
    "[\n",
    "    {k: route[k] for k in ['name', 'co2Emission']}\n",
    "    for route in routes\n",
    "]"
   ]
  },
  {
   "cell_type": "markdown",
   "metadata": {},
   "source": [
    "Now translate into how many trees you will need to compensate a gram of CO2. \n",
    "\n",
    "Using the calculation they make on [Trees for the Future](https://www.tfaforms.com/4666774)\n",
    "\n",
    "> Trees for the Future's agroforestry projects in Sub-Saharan Africa sequester CO2 through tree planting and land restoration at a cost of USD 6.91 per metric tonne of CO2. Therefore, the total cost to offset your annual CO2 emissions is: $ 0.00\n",
    "\n",
    "So we need to convert the grams to metric tonnes of CO2 first: 1 tonne is 1_000_000 grams."
   ]
  },
  {
   "cell_type": "code",
   "execution_count": null,
   "metadata": {},
   "outputs": [],
   "source": [
    "# conver to EUR\n",
    "offset_costs = 6.91 * 0.82\n",
    "\n",
    "# add co2 compensation costs for each route\n",
    "for route in routes:\n",
    "    route.update(\n",
    "        {\"co2CompensationCost\": round(route[\"co2Emission\"] / 1_000_000 * offset_costs, 2)}\n",
    "    )\n",
    "\n",
    "[\n",
    "    {k: route[k] for k in ['name', 'co2CompensationCost']}\n",
    "    for route in routes\n",
    "]"
   ]
  },
  {
   "cell_type": "markdown",
   "metadata": {},
   "source": [
    "Note: this only gives us an estimate of the cost to compensate. It doesn't tell us how many trees will be planted.\n",
    "\n",
    "Estimates vary on how much CO2 one tree will offset:\n",
    "- 0.2 tonne per tree. [This calculator](http://www.carbonify.com/carbon-calculator.htm) claims that 5 trees will need to be planted to ensure that at least one lives 40 years equalling 1 tonne of CO2 absorbtion. \n",
    "- 1 tonne per 100 years according to [here](https://www.viessmann.co.uk/heating-advice/how-much-co2-does-tree-absorb#:~:text=Over%20a%20lifetime%20of%20100,to%20offset%20the%20emissions%20created.)\n",
    "- 7 tonnes according to [this site](https://ythakker.medium.com/how-many-new-trees-would-it-take-to-offset-our-carbon-emissions-13c78ccb09ab)\n"
   ]
  },
  {
   "cell_type": "code",
   "execution_count": null,
   "metadata": {},
   "outputs": [],
   "source": [
    "# add nr of trees to be planted\n",
    "for route in routes:\n",
    "    route.update(\n",
    "        {\"co2CompensationTrees\": round(route[\"co2Emission\"] / 1_000_000 * 5, 2)}\n",
    "    )\n",
    "\n",
    "[\n",
    "    {k: route[k] for k in ['name', 'co2CompensationTrees']}\n",
    "    for route in routes\n",
    "]"
   ]
  },
  {
   "cell_type": "code",
   "execution_count": null,
   "metadata": {},
   "outputs": [],
   "source": [
    "print(f\"Details for trip {Origin} to {Destination}:\")\n",
    "(\n",
    "    pd.DataFrame(routes)\n",
    "    [['name', 'totalDuration', 'co2Emission', 'co2CompensationCost', 'co2CompensationTrees']]\n",
    "    .rename({\n",
    "        \"totalDuration\": \"totalDuration (min)\",\n",
    "        \"co2Emission\": \"co2Emission (grams)\",\n",
    "        \"co2CompensationCost\": \"co2CompensationCost (EUR)\",\n",
    "        \"co2CompensationTrees\": \"co2CompensationTrees (# Trees)\"}, axis=1)\n",
    ")"
   ]
  },
  {
   "cell_type": "markdown",
   "metadata": {},
   "source": [
    "Done.\n",
    "\n",
    "TODO:\n",
    "- Names are not pure: name is based on segments. So need to build up CO2 based on segments instead of the pure name.\n",
    "    - See for example: Amsterdam -> Paris\n",
    "- Add other transport modes: i.e. flight? Boat? Mixed?"
   ]
  }
 ],
 "metadata": {
  "kernelspec": {
   "display_name": "Python 3",
   "language": "python",
   "name": "python3"
  },
  "language_info": {
   "codemirror_mode": {
    "name": "ipython",
    "version": 3
   },
   "file_extension": ".py",
   "mimetype": "text/x-python",
   "name": "python",
   "nbconvert_exporter": "python",
   "pygments_lexer": "ipython3",
   "version": "3.7.2"
  }
 },
 "nbformat": 4,
 "nbformat_minor": 4
}
